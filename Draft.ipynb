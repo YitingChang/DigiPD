{
 "cells": [
  {
   "cell_type": "code",
   "execution_count": 1,
   "id": "2d0fa2bb",
   "metadata": {},
   "outputs": [],
   "source": [
    "# Core\n",
    "import pandas as pd\n",
    "import os\n",
    "import numpy as np\n",
    "from numpy import set_printoptions\n",
    "from numpy.random import permutation\n",
    "import scipy.stats as stats\n",
    "from itertools import compress\n",
    "import matplotlib.pyplot as plt\n",
    "import seaborn as sns\n",
    "import time\n",
    "\n",
    "#tsfresh\n",
    "import tsfresh\n",
    "from tsfresh.feature_extraction import extract_features, MinimalFCParameters, EfficientFCParameters\n",
    "from tsfresh import select_features\n",
    "from tsfresh.utilities.dataframe_functions import impute\n",
    "\n",
    "# Sklearn\n",
    "from sklearn.feature_selection import VarianceThreshold, SelectKBest, f_classif\n",
    "from sklearn.model_selection import train_test_split, GridSearchCV, RandomizedSearchCV, StratifiedKFold\n",
    "from sklearn.metrics import accuracy_score, confusion_matrix, recall_score, precision_score, f1_score\n",
    "from sklearn.metrics import roc_auc_score, plot_confusion_matrix, plot_roc_curve, roc_curve, ConfusionMatrixDisplay\n",
    "from sklearn.utils import resample\n",
    "from sklearn.decomposition import PCA\n",
    "\n",
    "# Models\n",
    "from sklearn.linear_model import LinearRegression, LogisticRegression\n",
    "from sklearn.neighbors import KNeighborsClassifier\n",
    "from sklearn.svm import SVC\n",
    "from sklearn.tree import DecisionTreeClassifier\n",
    "from sklearn.ensemble import RandomForestClassifier\n",
    "from sklearn.naive_bayes import GaussianNB\n",
    "# from xgboost import XGBClassifier\n",
    "# from lightgbm import LGBMClassifier\n",
    "# from catboost import CatBoostClassifier\n",
    "\n",
    "import warnings\n",
    "warnings.simplefilter(action='ignore', category=FutureWarning)\n",
    "from pandas.core.common import SettingWithCopyWarning\n",
    "warnings.simplefilter(action=\"ignore\", category=SettingWithCopyWarning)"
   ]
  },
  {
   "cell_type": "code",
   "execution_count": 2,
   "id": "25a13f21",
   "metadata": {},
   "outputs": [],
   "source": [
    "direc = \"E:\\\\WS4PD_data\"\n",
    "os.chdir(direc)\n",
    "save_path = os.path.join(direc, \"Figures\", \"Data_exploration\", \"GENEActiv_tremor\")"
   ]
  },
  {
   "cell_type": "code",
   "execution_count": 3,
   "id": "149737b7",
   "metadata": {},
   "outputs": [],
   "source": [
    "# Load score data\n",
    "score_file_path = os.path.join(direc, 'Feature_extraction','score_by_device.pkl')\n",
    "df_score = pd.read_pickle(score_file_path)"
   ]
  },
  {
   "cell_type": "code",
   "execution_count": null,
   "id": "d1228c0c",
   "metadata": {},
   "outputs": [],
   "source": [
    "print(df_score.shape)\n",
    "df_score.head()"
   ]
  },
  {
   "cell_type": "code",
   "execution_count": null,
   "id": "b8afc2b9",
   "metadata": {},
   "outputs": [],
   "source": []
  },
  {
   "cell_type": "code",
   "execution_count": null,
   "id": "911c1920",
   "metadata": {},
   "outputs": [],
   "source": [
    "# Dyskinesia score distribution\n",
    "device_hand = ['dyskinesia_GENEActivHand', 'dyskinesia_PebbleHand']\n",
    "fig, axs = plt.subplots(figsize=(5,10),nrows=2, ncols=1)\n",
    "for i, hand in enumerate(device_hand):\n",
    "    score = df_score[hand]\n",
    "    axs[i].hist(score, histtype='bar', color = 'grey')\n",
    "    axs[i].set_ylabel('Count')\n",
    "    axs[i].set_xticks([0,1])\n",
    "    axs[i].set_title(hand)\n",
    "\n",
    "# save figure\n",
    "plt.savefig(os.path.join(save_path,\"Dyskinesia_distribution_device\"))"
   ]
  },
  {
   "cell_type": "code",
   "execution_count": null,
   "id": "1797cac3",
   "metadata": {},
   "outputs": [],
   "source": [
    "# Tremor score distribution\n",
    "device_hand = ['tremor_GENEActivHand', 'tremor_PebbleHand']\n",
    "fig, axs = plt.subplots(figsize=(5,10),nrows=2, ncols=1)\n",
    "for i, hand in enumerate(device_hand):\n",
    "    score = df_score[hand].astype(int)\n",
    "    axs[i].hist(score, histtype='bar', color = 'grey', density = True,\n",
    "                bins=np.arange(min(score), max(score) + 1, 1))\n",
    "    axs[i].set_xlabel('Tremor score')\n",
    "    axs[i].set_ylabel('Ratio')\n",
    "    axs[i].set_xticks([0,1,2,3,4])\n",
    "    axs[i].set_title(hand)\n",
    "\n",
    "# save figure\n",
    "plt.savefig(os.path.join(save_path,\"Tremor_score_distribution_device\"))"
   ]
  },
  {
   "cell_type": "code",
   "execution_count": null,
   "id": "177ef667",
   "metadata": {},
   "outputs": [],
   "source": []
  },
  {
   "cell_type": "code",
   "execution_count": 4,
   "id": "c0126a2f",
   "metadata": {},
   "outputs": [],
   "source": [
    "# load feature data\n",
    "subject_ids = df_score.subject_id.unique()\n",
    "df_feature = pd.DataFrame()\n",
    "device = 'GENEActiv'\n",
    "for sb in subject_ids:\n",
    "    feature_file_path = os.path.join(direc,'Feature_extraction',device,sb + '_features.pkl')\n",
    "    df_feature_sb = pd.read_pickle(feature_file_path)\n",
    "    df_feature = pd.concat([df_feature,df_feature_sb])\n",
    "df_feature = df_feature.reset_index(drop=True)"
   ]
  },
  {
   "cell_type": "code",
   "execution_count": null,
   "id": "2b2df88e",
   "metadata": {},
   "outputs": [],
   "source": [
    "print(df_feature.shape)\n",
    "df_feature.head()"
   ]
  },
  {
   "cell_type": "markdown",
   "id": "b20e2ab2",
   "metadata": {},
   "source": [
    "# Upsampling"
   ]
  },
  {
   "cell_type": "code",
   "execution_count": 5,
   "id": "65d6bf16",
   "metadata": {},
   "outputs": [
    {
     "data": {
      "text/plain": [
       "array([4677, 1531,  558,  132,   11], dtype=int64)"
      ]
     },
     "execution_count": 5,
     "metadata": {},
     "output_type": "execute_result"
    },
    {
     "data": {
      "image/png": "[encoded data removed]",
      "text/plain": [
       "<Figure size 432x288 with 1 Axes>"
      ]
     },
     "metadata": {
      "needs_background": "light"
     },
     "output_type": "display_data"
    }
   ],
   "source": [
    "# Get scores\n",
    "score = df_score['tremor_GENEActivHand'].values\n",
    "score = np.array(score, dtype=float)\n",
    "# score distribution\n",
    "counts, bin_edges = np.histogram(score,bins = range(6))\n",
    "fig, ax = plt.subplots()\n",
    "ax.hist(score, histtype='bar', color = 'grey')\n",
    "ax.set_xlabel('Tremor score')\n",
    "ax.set_ylabel('Count')\n",
    "ax.set_xticks([0,1,2,3,4])\n",
    "# save figure\n",
    "# plt.savefig(os.path.join(save_path,\"Tremor_score_distribution\"))\n",
    "counts"
   ]
  },
  {
   "cell_type": "code",
   "execution_count": 6,
   "id": "8b4a74ca",
   "metadata": {},
   "outputs": [],
   "source": [
    "# Merge score 3 and 4\n",
    "score[score==4] = 3\n",
    "df_score[df_score['tremor_GENEActivHand']==4]=3"
   ]
  },
  {
   "cell_type": "code",
   "execution_count": 7,
   "id": "302290d8",
   "metadata": {},
   "outputs": [
    {
     "name": "stdout",
     "output_type": "stream",
     "text": [
      "upsampled features:(7066, 2262)\n",
      "upsampled scores:(7066, 11)\n"
     ]
    }
   ],
   "source": [
    "# Upsampling by copying minority class instances\n",
    "\n",
    "upsampled_df_feature = pd.DataFrame()\n",
    "upsampled_df_score = pd.DataFrame()\n",
    "upsample_size = 300\n",
    "# upsample_size = round(max(counts)/2)\n",
    "for c,s in zip(counts[0:4],range(4)):\n",
    "    \n",
    "    if s == 3:\n",
    "        df_feature_group = df_feature.loc[score==s]\n",
    "        df_score_group = df_score.loc[score==s]\n",
    "        idx_list = df_feature_group.index.tolist()\n",
    "        resample_idx = resample(idx_list, replace=True, n_samples=upsample_size, random_state=27)\n",
    "        upsampled_feature_group = df_feature_group.loc[resample_idx]\n",
    "        upsampled_score_group = df_score_group.loc[resample_idx]\n",
    "    else:\n",
    "        upsampled_feature_group = df_feature.loc[score==s]\n",
    "        upsampled_score_group = df_score.loc[score==s]\n",
    "        \n",
    "#     if c == max(counts):\n",
    "#         upsampled_feature_group = df_feature.loc[score==s]\n",
    "#         upsampled_score_group = df_score.loc[score==s]\n",
    "#     else:\n",
    "#         df_feature_group = df_feature.loc[score==s]\n",
    "#         df_score_group = df_score.loc[score==s]\n",
    "#         idx_list = df_feature_group.index.tolist()\n",
    "#         resample_idx = resample(idx_list, replace=True, n_samples=upsample_size, random_state=27)\n",
    "#         upsampled_feature_group = df_feature_group.loc[resample_idx]\n",
    "#         upsampled_score_group = df_score_group.loc[resample_idx]\n",
    "\n",
    "    upsampled_df_feature = pd.concat([upsampled_df_feature, upsampled_feature_group])\n",
    "    upsampled_df_score = pd.concat([upsampled_df_score, upsampled_score_group])\n",
    "\n",
    "    \n",
    "upsampled_df_feature = upsampled_df_feature.reset_index(drop=True)\n",
    "upsampled_df_score = upsampled_df_score.reset_index(drop=True)\n",
    "   \n",
    "print('upsampled features:' + str(upsampled_df_feature.shape))\n",
    "print('upsampled scores:' + str(upsampled_df_score.shape))\n",
    "\n",
    "# Try other upsmapling methods:\n",
    "# from imblearn.over_sampling import SMOTE\n"
   ]
  },
  {
   "cell_type": "code",
   "execution_count": 8,
   "id": "d0dc2537",
   "metadata": {},
   "outputs": [],
   "source": [
    "# Try different task categories\n",
    "# task categories\n",
    "task_groups = [['stndg', 'sittg'],['wlkgs', 'wlkgc', 'wlkgp', 'strsu', 'strsd', 'ststd'],\n",
    "               ['ftnr', 'ftnl', 'ramr', 'raml', 'drawg', 'typng', 'ntblt', 'drnkg', 'orgpa', 'fldng'],\n",
    "              ['stndg', 'sittg', 'wlkgs', 'wlkgc', 'wlkgp', 'strsu', 'strsd', 'ststd',\n",
    "              'ftnr', 'ftnl', 'ramr', 'raml', 'drawg', 'typng', 'ntblt', 'drnkg', 'orgpa', 'fldng']]\n",
    "task_group_names = ['no_voluntary_movement','whole_body_movement', 'upperlimb_movement', 'all']"
   ]
  },
  {
   "cell_type": "code",
   "execution_count": 9,
   "id": "93f0b0fb",
   "metadata": {},
   "outputs": [],
   "source": [
    "# Train/Validation/Test datasets\n",
    "\n",
    "# train:validation:test = 0.5:0.25:0.25\n",
    "sb_train = ['6_BOS', '16_BOS', '7_NYC', '14_BOS', '8_NYC', '5_BOS', '12_NYC', '6_NYC', '17_BOS',\n",
    "           '4_BOS', '11_BOS', '10_BOS', '15_BOS', '4_NYC', '11_NYC']\n",
    "sb_val = ['8_BOS', '18_BOS', '2_NYC', '9_NYC', '3_BOS', '9_BOS']\n",
    "sb_test = ['19_BOS', '3_NYC', '7_BOS', '5_NYC', '13_BOS', '10_NYC', '12_BOS']\n"
   ]
  },
  {
   "cell_type": "code",
   "execution_count": 10,
   "id": "380452f2",
   "metadata": {},
   "outputs": [],
   "source": [
    "# Train/Test Split\n",
    "is_train = upsampled_df_score['subject_id'].isin(sb_train).tolist()\n",
    "is_val = upsampled_df_score['subject_id'].isin(sb_val).tolist()\n",
    "is_test = upsampled_df_score['subject_id'].isin(sb_test).tolist()\n",
    "is_train_val = upsampled_df_score['subject_id'].isin(sb_train) | upsampled_df_score['subject_id'].isin(sb_val)\n",
    "is_train_val = is_train_val.tolist()\n",
    "\n",
    "df_feature_train = upsampled_df_feature[is_train]\n",
    "df_score_train = upsampled_df_score[is_train]\n",
    "df_feature_val = upsampled_df_feature[is_val]\n",
    "df_score_val = upsampled_df_score[is_val]\n",
    "df_feature_test = upsampled_df_feature[is_test]\n",
    "df_score_test = upsampled_df_score[is_test]"
   ]
  },
  {
   "cell_type": "code",
   "execution_count": null,
   "id": "5391f554",
   "metadata": {},
   "outputs": [],
   "source": [
    "# model selection"
   ]
  },
  {
   "cell_type": "code",
   "execution_count": 11,
   "id": "cdc66560",
   "metadata": {},
   "outputs": [],
   "source": [
    "# all tasks\n",
    "\n",
    "# Remove features with nan\n",
    "df_feature2 = upsampled_df_feature.dropna(axis=1)\n",
    "\n",
    "# Remove features with zero variance\n",
    "sel = VarianceThreshold(threshold=0.0001)\n",
    "df_feature3 = sel.fit_transform(df_feature2)\n",
    "filter3 = sel.get_support()\n",
    "feature_names2 = df_feature2.columns\n",
    "feature_names3 = feature_names2[filter3]\n",
    "df_feature3 = pd.DataFrame(df_feature3, columns=feature_names3)\n",
    "\n",
    "# Get scores\n",
    "score = upsampled_df_score['tremor_GENEActivHand'].values\n",
    "# score = upsampled_df_score['tremor_PebbleHand'].values\n",
    "score = np.array(score, dtype=float)\n",
    "\n",
    "# # Merge score 3 and 4\n",
    "# score[score==4] = 3\n",
    "score[score<3] = 0\n",
    "score[score>2] = 1\n",
    "\n",
    "# Univariate Selection\n",
    "test = SelectKBest(score_func=f_classif, k=10)\n",
    "df_feature4 = test.fit_transform(df_feature3, score)\n",
    "filter4 = test.get_support()\n",
    "feature_names4 = feature_names3[filter4]\n",
    "df_feature4 = pd.DataFrame(df_feature4, columns=feature_names4)\n",
    "\n",
    "# PCA\n",
    "X=df_feature4.values\n",
    "pca = PCA(n_components=3)\n",
    "X_new = pca.fit_transform(X)\n",
    "\n",
    "# train/validation/test split\n",
    "X_train_valid = X_new[is_train_val,:]\n",
    "y_train_valid = score[is_train_val]\n",
    "X_train = X_new[is_train,:]\n",
    "y_train = score[is_train]\n",
    "X_valid = X_new[is_val,:]\n",
    "y_valid = score[is_val]\n",
    "X_test = X_new[is_test,:]\n",
    "y_test = score[is_test]"
   ]
  },
  {
   "cell_type": "code",
   "execution_count": null,
   "id": "94f055bd",
   "metadata": {},
   "outputs": [],
   "source": [
    "# Hyperparameter tuning\n",
    "# hyper = [30, 50, 100, 150 , 200] #- choose 100\n",
    "# nPC = [3, 10, 30, 50, 100]- choose 30\n",
    "# tree_depth = [None, 2, 5 , 10]- choose None max_depth\n",
    "# tree_number = [30, 50, 100, 200, 300]- doesn't matter, use default 100 n_estimators\n",
    "# criterion_algo = ['gini', 'entropy'] - doesn't matter, use default gini criterion\n",
    "# min_samples_split = [2, 5, 10, 20] - doesn't matter, use default 2 min_samples_split\n",
    "# max_features = ['sqrt', 'log2', None] - doesn't matter, use default sqrt max_features\n",
    "\n",
    "# hyper = ['sqrt', 'log2', None] # max_features\n",
    "# accuracy = np.zeros([len(hyper),len(task_groups)])\n",
    "accuracy = np.zeros([1,len(task_groups)])\n",
    "for t,task,task_name in zip(range(len(task_groups)),task_groups, task_group_names):\n",
    "    is_tasks = upsampled_df_score['task_code'].isin(task).tolist()\n",
    "    df_feature_task = upsampled_df_feature[is_tasks]\n",
    "    df_score_task = upsampled_df_score[is_tasks]\n",
    "    \n",
    "    # Remove features with nan\n",
    "    df_feature2 = df_feature_task.dropna(axis=1)\n",
    "    \n",
    "    # Remove features with zero variance\n",
    "    sel = VarianceThreshold(threshold=0.0001)\n",
    "    df_feature3 = sel.fit_transform(df_feature2)\n",
    "    filter3 = sel.get_support()\n",
    "    feature_names2 = df_feature2.columns\n",
    "    feature_names3 = feature_names2[filter3]\n",
    "    df_feature3 = pd.DataFrame(df_feature3, columns=feature_names3)\n",
    "    \n",
    "    # Get scores\n",
    "    score = df_score_task['tremor_GENEActivHand'].values\n",
    "    score = np.array(score, dtype=float)\n",
    "\n",
    "#     for i,d in zip(range(len(hyper)), hyper):\n",
    "        # Univariate Selection\n",
    "    test = SelectKBest(score_func=f_classif, k=100)\n",
    "    df_feature4 = test.fit_transform(df_feature3, score)\n",
    "    filter4 = test.get_support()\n",
    "    feature_names4 = feature_names3[filter4]\n",
    "    df_feature4 = pd.DataFrame(df_feature4, columns=feature_names4)\n",
    "\n",
    "    # PCA\n",
    "    X=df_feature4.values\n",
    "    pca = PCA(n_components=30)\n",
    "    X_new = pca.fit_transform(X)\n",
    "\n",
    "    # Random Forest\n",
    "    # Tuning hyperparameters\n",
    "    # train/validation split\n",
    "    is_train_task = list(compress(is_train,is_tasks))\n",
    "    is_val_task = list(compress(is_val,is_tasks))\n",
    "    X_train = X_new[is_train_task,:]\n",
    "    y_train = score[is_train_task]\n",
    "    X_val = X_new[is_val_task,:]\n",
    "    y_val = score[is_val_task]\n",
    "\n",
    "    #     for i,d in zip(range(len(hyper)), hyper):\n",
    "    clf = RandomForestClassifier(max_depth = None, random_state=0)\n",
    "    clf.fit(X_train, y_train)\n",
    "    model_accuracy = round(clf.score(X_val, y_val)*100,1)\n",
    "    accuracy[0][t] = model_accuracy\n"
   ]
  },
  {
   "cell_type": "code",
   "execution_count": null,
   "id": "21999321",
   "metadata": {},
   "outputs": [],
   "source": [
    "accuracy = pd.DataFrame(data=accuracy, columns=task_group_names)\n",
    "accuracy"
   ]
  },
  {
   "cell_type": "code",
   "execution_count": null,
   "id": "e186157d",
   "metadata": {},
   "outputs": [],
   "source": []
  },
  {
   "cell_type": "code",
   "execution_count": null,
   "id": "c88b646e",
   "metadata": {},
   "outputs": [],
   "source": []
  },
  {
   "cell_type": "markdown",
   "id": "bc87c2e4",
   "metadata": {},
   "source": [
    "# No up- or down- sampling"
   ]
  },
  {
   "cell_type": "code",
   "execution_count": null,
   "id": "bd40d57e",
   "metadata": {},
   "outputs": [],
   "source": [
    "# Try different task categories\n",
    "# task categories\n",
    "task_groups = [['stndg', 'sittg'],['wlkgs', 'wlkgc', 'wlkgp', 'strsu', 'strsd', 'ststd'],\n",
    "               ['ftnr', 'ftnl', 'ramr', 'raml', 'drawg', 'typng', 'ntblt', 'drnkg', 'orgpa', 'fldng'],\n",
    "              ['stndg', 'sittg', 'wlkgs', 'wlkgc', 'wlkgp', 'strsu', 'strsd', 'ststd',\n",
    "              'ftnr', 'ftnl', 'ramr', 'raml', 'drawg', 'typng', 'ntblt', 'drnkg', 'orgpa', 'fldng']]\n",
    "task_group_names = ['no_voluntary_movement','whole_body_movement', 'upperlimb_movement', 'all']"
   ]
  },
  {
   "cell_type": "code",
   "execution_count": null,
   "id": "3ccfcfa1",
   "metadata": {},
   "outputs": [],
   "source": [
    "# Train/Validation/Test datasets\n",
    "\n",
    "# train:validation:test = 0.5:0.25:0.25\n",
    "sb_train = ['6_BOS', '16_BOS', '7_NYC', '14_BOS', '8_NYC', '5_BOS', '12_NYC', '6_NYC', '17_BOS',\n",
    "           '4_BOS', '11_BOS', '10_BOS', '15_BOS', '4_NYC', '11_NYC']\n",
    "sb_val = ['8_BOS', '18_BOS', '2_NYC', '9_NYC', '3_BOS', '9_BOS']\n",
    "sb_test = ['19_BOS', '3_NYC', '7_BOS', '5_NYC', '13_BOS', '10_NYC', '12_BOS']"
   ]
  },
  {
   "cell_type": "code",
   "execution_count": null,
   "id": "cb99eb82",
   "metadata": {},
   "outputs": [],
   "source": [
    "# Train/Validation/Test Split\n",
    "is_train = df_score['subject_id'].isin(sb_train).tolist()\n",
    "is_val = df_score['subject_id'].isin(sb_val).tolist()\n",
    "is_test = df_score['subject_id'].isin(sb_test).tolist()\n",
    "is_train_val = df_score['subject_id'].isin(sb_train) | df_score['subject_id'].isin(sb_val)\n",
    "is_train_val = is_train_val.tolist()\n",
    "\n",
    "df_feature_train = df_feature[is_train]\n",
    "df_score_train = df_score[is_train]\n",
    "df_feature_val = df_feature[is_val]\n",
    "df_score_val = df_score[is_val]\n",
    "df_feature_test = df_feature[is_test]\n",
    "df_score_test = df_score[is_test]"
   ]
  },
  {
   "cell_type": "code",
   "execution_count": null,
   "id": "25f6bdbe",
   "metadata": {},
   "outputs": [],
   "source": [
    "# Hyperparameter tuning\n",
    "# kbest = [30, 50, 100, 150 , 200]- choose 100\n",
    "# nPC = [3, 10, 30, 50, 100]- choose 30\n",
    "# tree_depth = [None, 2, 5 , 10]- choose None max_depth\n",
    "# tree_number = [30, 50, 100, 200, 300]- doesn't matter, use default 100 n_estimators\n",
    "# criterion_algo = ['gini', 'entropy'] - doesn't matter, use default gini criterion\n",
    "# min_samples_split = [2, 5, 10, 20] - doesn't matter, use default 2 min_samples_split\n",
    "# max_features = ['sqrt', 'log2', None] - doesn't matter, use default sqrt max_features\n",
    "\n",
    "# hyper = ['sqrt', 'log2', None] # max_features\n",
    "# accuracy = np.zeros([len(hyper),len(task_groups)])\n",
    "accuracy = np.zeros([1,len(task_groups)])\n",
    "\n",
    "for t,task,task_name in zip(range(len(task_groups)),task_groups, task_group_names):\n",
    "    is_tasks = df_score['task_code'].isin(task).tolist()\n",
    "    df_feature_task = df_feature[is_tasks]\n",
    "    df_score_task = df_score[is_tasks]\n",
    "    \n",
    "    # Remove features with nan\n",
    "    df_feature2 = df_feature_task.dropna(axis=1)\n",
    "    \n",
    "    # Remove features with zero variance\n",
    "    sel = VarianceThreshold(threshold=0.0001)\n",
    "    df_feature3 = sel.fit_transform(df_feature2)\n",
    "    filter3 = sel.get_support()\n",
    "    feature_names2 = df_feature2.columns\n",
    "    feature_names3 = feature_names2[filter3]\n",
    "    df_feature3 = pd.DataFrame(df_feature3, columns=feature_names3)\n",
    "    \n",
    "    # Get scores\n",
    "#     score = df_score_task['dyskinesia_PebbleHand']\n",
    "    score = df_score_task['tremor_GENEActivHand'].values\n",
    "#     score = np.array(score, dtype=float)\n",
    "    \n",
    "#     Merge score 3 and 4\n",
    "#     score[score==4] = 3\n",
    "    \n",
    "    # Univariate Selection\n",
    "    test = SelectKBest(score_func=f_classif, k=100)\n",
    "    df_feature4 = test.fit_transform(df_feature3, score)\n",
    "    filter4 = test.get_support()\n",
    "    feature_names4 = feature_names3[filter4]\n",
    "    df_feature4 = pd.DataFrame(df_feature4, columns=feature_names4)\n",
    "    \n",
    "    # PCA\n",
    "    X=df_feature4.values\n",
    "    pca = PCA(n_components=30)\n",
    "    X_new = pca.fit_transform(X)\n",
    "\n",
    "    # Random Forest\n",
    "    # Tuning hyperparameters\n",
    "    # train/validation split\n",
    "    is_train_task = list(compress(is_train,is_tasks))\n",
    "    is_val_task = list(compress(is_val,is_tasks))\n",
    "    X_train = X_new[is_train_task,:]\n",
    "    y_train = score[is_train_task]\n",
    "    X_val = X_new[is_val_task,:]\n",
    "    y_val = score[is_val_task]\n",
    "    \n",
    "#     for i,d in zip(range(len(hyper)), hyper):\n",
    "    clf = RandomForestClassifier(max_depth = None, random_state=0)\n",
    "    clf.fit(X_train, y_train)\n",
    "    model_accuracy = round(clf.score(X_val, y_val)*100,1)\n",
    "#     accuracy[i][t] = model_accuracy\n",
    "    accuracy[0][t] = model_accuracy\n"
   ]
  },
  {
   "cell_type": "code",
   "execution_count": null,
   "id": "4e5561d3",
   "metadata": {},
   "outputs": [],
   "source": [
    "accuracy = pd.DataFrame(data=accuracy, columns=task_group_names)\n",
    "accuracy"
   ]
  },
  {
   "cell_type": "code",
   "execution_count": null,
   "id": "a0a1431b",
   "metadata": {},
   "outputs": [],
   "source": [
    "accuracy = np.zeros([1,len(task_groups)])\n",
    "\n",
    "for t,task,task_name in zip(range(len(task_groups)),task_groups, task_group_names):\n",
    "    is_tasks = df_score['task_code'].isin(task).tolist()\n",
    "    df_feature_task = df_feature[is_tasks]\n",
    "    df_score_task = df_score[is_tasks]\n",
    "    \n",
    "    # Remove features with nan\n",
    "    df_feature2 = df_feature_task.dropna(axis=1)\n",
    "    \n",
    "    # Remove features with zero variance\n",
    "    sel = VarianceThreshold(threshold=0.0001)\n",
    "    df_feature3 = sel.fit_transform(df_feature2)\n",
    "    filter3 = sel.get_support()\n",
    "    feature_names2 = df_feature2.columns\n",
    "    feature_names3 = feature_names2[filter3]\n",
    "    df_feature3 = pd.DataFrame(df_feature3, columns=feature_names3)\n",
    "    \n",
    "    # Get scores\n",
    "    score = df_score_task['tremor_PebbleHand'].values\n",
    "    score = np.array(score, dtype=float)\n",
    "    \n",
    "    # Merge score 3 and 4\n",
    "    score[score==4] = 3\n",
    "    \n",
    "    # Univariate Selection\n",
    "    test = SelectKBest(score_func=f_classif, k=100)\n",
    "    df_feature4 = test.fit_transform(df_feature3, score)\n",
    "    filter4 = test.get_support()\n",
    "    feature_names4 = feature_names3[filter4]\n",
    "    df_feature4 = pd.DataFrame(df_feature4, columns=feature_names4)\n",
    "    \n",
    "    # PCA\n",
    "    X=df_feature4.values\n",
    "    pca = PCA(n_components=30)\n",
    "    X_new = pca.fit_transform(X)\n",
    "\n",
    "    # Random Forest\n",
    "    # Tuning hyperparameters\n",
    "    # train/test split\n",
    "    is_train_task = list(compress(is_train,is_tasks))\n",
    "    is_test_task = list(compress(is_test,is_tasks))\n",
    "    X_train = X_new[is_train_task,:]\n",
    "    y_train = score[is_train_task]\n",
    "    X_test = X_new[is_test_task,:]\n",
    "    y_test = score[is_test_task]\n",
    "    \n",
    "#     for i,d in zip(range(len(hyper)), hyper):\n",
    "    clf = RandomForestClassifier(max_depth = None, random_state=0)\n",
    "    clf.fit(X_train, y_train)\n",
    "    model_accuracy = round(clf.score(X_test, y_test)*100,1)\n",
    "#     accuracy[i][t] = model_accuracy\n",
    "    accuracy[0][t] = model_accuracy"
   ]
  },
  {
   "cell_type": "code",
   "execution_count": null,
   "id": "ff5b96f2",
   "metadata": {},
   "outputs": [],
   "source": [
    "accuracy = pd.DataFrame(data=accuracy, columns=task_group_names)\n",
    "accuracy"
   ]
  },
  {
   "cell_type": "code",
   "execution_count": null,
   "id": "eafeb557",
   "metadata": {},
   "outputs": [],
   "source": [
    "# Confusion metrix \n",
    "# all tasks\n",
    "\n",
    "# Remove features with nan\n",
    "df_feature2 = df_feature.dropna(axis=1)\n",
    "\n",
    "# Remove features with zero variance\n",
    "sel = VarianceThreshold(threshold=0.0001)\n",
    "df_feature3 = sel.fit_transform(df_feature2)\n",
    "filter3 = sel.get_support()\n",
    "feature_names2 = df_feature2.columns\n",
    "feature_names3 = feature_names2[filter3]\n",
    "df_feature3 = pd.DataFrame(df_feature3, columns=feature_names3)\n",
    "\n",
    "# Get scores\n",
    "score = df_score_task['tremor_GENEActivHand'].values\n",
    "score = np.array(score, dtype=float)\n",
    "\n",
    "# Merge score 3 and 4\n",
    "score[score==4] = 3\n",
    "\n",
    "# Univariate Selection\n",
    "test = SelectKBest(score_func=f_classif, k=100)\n",
    "df_feature4 = test.fit_transform(df_feature3, score)\n",
    "filter4 = test.get_support()\n",
    "feature_names4 = feature_names3[filter4]\n",
    "df_feature4 = pd.DataFrame(df_feature4, columns=feature_names4)\n",
    "\n",
    "# PCA\n",
    "X=df_feature4.values\n",
    "pca = PCA(n_components=30)\n",
    "X_new = pca.fit_transform(X)\n",
    "\n",
    "# train/test split\n",
    "X_train = X_new[is_train,:]\n",
    "y_train = score[is_train]\n",
    "X_test = X_new[is_test,:]\n",
    "y_test = score[is_test]\n",
    "# Random Forest\n",
    "clf = RandomForestClassifier(max_depth = None, random_state=0)\n",
    "clf.fit(X_train, y_train)\n",
    "predictions = clf.predict(X_test)\n",
    "cm = metrics.confusion_matrix(y_test, predictions, labels=clf.classes_)\n",
    "disp = metrics.ConfusionMatrixDisplay(confusion_matrix=cm, display_labels=clf.classes_)\n",
    "disp.plot()\n",
    "plt.show()"
   ]
  },
  {
   "cell_type": "code",
   "execution_count": null,
   "id": "43a61574",
   "metadata": {},
   "outputs": [],
   "source": [
    "cm"
   ]
  },
  {
   "cell_type": "code",
   "execution_count": null,
   "id": "3cedc886",
   "metadata": {},
   "outputs": [],
   "source": [
    "Accuracy = metrics.accuracy_score(y_test, predictions)\n",
    "Precision = metrics.precision_score(y_test, predictions, average = None)\n",
    "Recall = metrics.recall_score(y_test, predictions, average = None)\n",
    "F1 = metrics.f1_score(y_test, predictions, average = None)"
   ]
  },
  {
   "cell_type": "code",
   "execution_count": null,
   "id": "934ed5c7",
   "metadata": {},
   "outputs": [],
   "source": [
    "Precision"
   ]
  },
  {
   "cell_type": "code",
   "execution_count": null,
   "id": "055b5aa5",
   "metadata": {},
   "outputs": [],
   "source": [
    "Recall"
   ]
  },
  {
   "cell_type": "code",
   "execution_count": null,
   "id": "8cf783bc",
   "metadata": {},
   "outputs": [],
   "source": [
    "F1"
   ]
  },
  {
   "cell_type": "code",
   "execution_count": null,
   "id": "02d2c5c1",
   "metadata": {},
   "outputs": [],
   "source": [
    "F1_weighted = metrics.f1_score(y_test, predictions, average = 'weighted')"
   ]
  },
  {
   "cell_type": "code",
   "execution_count": null,
   "id": "99513456",
   "metadata": {},
   "outputs": [],
   "source": [
    "F1_weighted"
   ]
  },
  {
   "cell_type": "code",
   "execution_count": null,
   "id": "9cbda7e1",
   "metadata": {},
   "outputs": [],
   "source": []
  },
  {
   "cell_type": "code",
   "execution_count": null,
   "id": "d8d2e5bf",
   "metadata": {},
   "outputs": [],
   "source": []
  },
  {
   "cell_type": "code",
   "execution_count": null,
   "id": "1f74f919",
   "metadata": {},
   "outputs": [],
   "source": [
    "# Model selection and evaluation"
   ]
  },
  {
   "cell_type": "code",
   "execution_count": null,
   "id": "fd597834",
   "metadata": {},
   "outputs": [],
   "source": [
    "# all tasks\n",
    "\n",
    "# Remove features with nan\n",
    "df_feature2 = df_feature.dropna(axis=1)\n",
    "\n",
    "# Remove features with zero variance\n",
    "sel = VarianceThreshold(threshold=0.0001)\n",
    "df_feature3 = sel.fit_transform(df_feature2)\n",
    "filter3 = sel.get_support()\n",
    "feature_names2 = df_feature2.columns\n",
    "feature_names3 = feature_names2[filter3]\n",
    "df_feature3 = pd.DataFrame(df_feature3, columns=feature_names3)\n",
    "\n",
    "# Get scores\n",
    "score = df_score['tremor_GENEActivHand'].values\n",
    "# score = df_score['tremor_PebbleHand'].values\n",
    "score = np.array(score, dtype=float)\n",
    "\n",
    "# Merge score 3 and 4\n",
    "score[score==4] = 3\n",
    "\n",
    "# Univariate Selection\n",
    "test = SelectKBest(score_func=f_classif, k=30)\n",
    "df_feature4 = test.fit_transform(df_feature3, score)\n",
    "filter4 = test.get_support()\n",
    "feature_names4 = feature_names3[filter4]\n",
    "df_feature4 = pd.DataFrame(df_feature4, columns=feature_names4)\n",
    "\n",
    "# PCA\n",
    "X=df_feature4.values\n",
    "pca = PCA(n_components=10)\n",
    "X_new = pca.fit_transform(X)\n",
    "\n",
    "# train/validation/test split\n",
    "X_train_valid = X_new[is_train_val,:]\n",
    "y_train_valid = score[is_train_val]\n",
    "X_train = X_new[is_train,:]\n",
    "y_train = score[is_train]\n",
    "X_valid = X_new[is_val,:]\n",
    "y_valid = score[is_val]\n",
    "X_test = X_new[is_test,:]\n",
    "y_test = score[is_test]"
   ]
  },
  {
   "cell_type": "code",
   "execution_count": 12,
   "id": "31ab1f66",
   "metadata": {},
   "outputs": [],
   "source": [
    "# Classifiers\n",
    "classifiers = {\n",
    "    \"LogisticRegression\" : LogisticRegression(random_state=0, solver = 'liblinear'),\n",
    "    \"KNN\" : KNeighborsClassifier(),\n",
    "#     \"SVC\" : SVC(random_state=0, probability=True),\n",
    "    \"RandomForest\" : RandomForestClassifier(random_state=0),\n",
    "    #\"XGBoost\" : XGBClassifier(random_state=0, use_label_encoder=False, eval_metric='logloss'), # XGBoost takes too long\n",
    "#     \"LGBM\" : LGBMClassifier(random_state=0),\n",
    "#     \"CatBoost\" : CatBoostClassifier(random_state=0, verbose=False),\n",
    "    \"NaiveBayes\": GaussianNB()\n",
    "}\n",
    "\n",
    "# Grids for grid search\n",
    "LR_grid = {'penalty': ['l1','l2'],\n",
    "           'C': [0.25, 0.5, 0.75, 1, 1.25, 1.5],\n",
    "           'max_iter': [50, 100, 150]}\n",
    "\n",
    "KNN_grid = {'n_neighbors': [3, 5, 7, 9],\n",
    "            'p': [1, 2]}\n",
    "\n",
    "# SVC_grid = {'C': [0.25, 0.5, 0.75, 1, 1.25, 1.5],\n",
    "#             'kernel': ['linear', 'rbf'],\n",
    "#             'gamma': ['scale', 'auto']}\n",
    "\n",
    "RF_grid = {'n_estimators': [50, 100, 150, 200, 250, 300],\n",
    "        'max_depth': [4, 6, 8, 10, 12]}\n",
    "\n",
    "# boosted_grid = {'n_estimators': [50, 100, 150, 200],\n",
    "#         'max_depth': [4, 8, 12],\n",
    "#         'learning_rate': [0.05, 0.1, 0.15]}\n",
    "\n",
    "NB_grid={'var_smoothing': [1e-10, 1e-9, 1e-8, 1e-7]}\n",
    "\n",
    "# Dictionary of all grids\n",
    "grid = {\n",
    "    \"LogisticRegression\" : LR_grid,\n",
    "    \"KNN\" : KNN_grid,\n",
    "#     \"SVC\" : SVC_grid,\n",
    "    \"RandomForest\" : RF_grid,\n",
    "#     \"XGBoost\" : boosted_grid,\n",
    "#     \"LGBM\" : boosted_grid,\n",
    "#     \"CatBoost\" : boosted_grid,\n",
    "    \"NaiveBayes\": NB_grid\n",
    "}"
   ]
  },
  {
   "cell_type": "code",
   "execution_count": 13,
   "id": "6a2abbe9",
   "metadata": {},
   "outputs": [
    {
     "name": "stdout",
     "output_type": "stream",
     "text": [
      "Model: LogisticRegression\n",
      "Training time (mins): 0.04\n",
      "\n",
      "Model: KNN\n",
      "Training time (mins): 0.0\n",
      "\n",
      "Model: RandomForest\n",
      "Training time (mins): 0.19\n",
      "\n",
      "Model: NaiveBayes\n",
      "Training time (mins): 0.0\n",
      "\n"
     ]
    }
   ],
   "source": [
    "i=0\n",
    "clf_best_params=classifiers.copy()\n",
    "valid_scores=pd.DataFrame({'Classifer':classifiers.keys(), 'Validation accuracy': np.zeros(len(classifiers)), 'Training time': np.zeros(len(classifiers))})\n",
    "for key, classifier in classifiers.items():\n",
    "    start = time.time()\n",
    "    clf = GridSearchCV(estimator=classifier, param_grid=grid[key], n_jobs=-1, cv=None)\n",
    "\n",
    "    # Train and score\n",
    "    clf.fit(X_train, y_train)\n",
    "    valid_scores.iloc[i,1]=clf.score(X_valid, y_valid)\n",
    "\n",
    "    # Save trained model\n",
    "    clf_best_params[key]=clf.best_params_\n",
    "    \n",
    "    # Print iteration and training time\n",
    "    stop = time.time()\n",
    "    valid_scores.iloc[i,2]=np.round((stop - start)/60, 2)\n",
    "    \n",
    "    print('Model:', key)\n",
    "    print('Training time (mins):', valid_scores.iloc[i,2])\n",
    "    print('')\n",
    "    i+=1"
   ]
  },
  {
   "cell_type": "code",
   "execution_count": 14,
   "id": "4544411f",
   "metadata": {},
   "outputs": [
    {
     "data": {
      "text/html": [
       "<div>\n",
       "<style scoped>\n",
       "    .dataframe tbody tr th:only-of-type {\n",
       "        vertical-align: middle;\n",
       "    }\n",
       "\n",
       "    .dataframe tbody tr th {\n",
       "        vertical-align: top;\n",
       "    }\n",
       "\n",
       "    .dataframe thead th {\n",
       "        text-align: right;\n",
       "    }\n",
       "</style>\n",
       "<table border=\"1\" class=\"dataframe\">\n",
       "  <thead>\n",
       "    <tr style=\"text-align: right;\">\n",
       "      <th></th>\n",
       "      <th>Classifer</th>\n",
       "      <th>Validation accuracy</th>\n",
       "      <th>Training time</th>\n",
       "    </tr>\n",
       "  </thead>\n",
       "  <tbody>\n",
       "    <tr>\n",
       "      <th>0</th>\n",
       "      <td>LogisticRegression</td>\n",
       "      <td>0.950294</td>\n",
       "      <td>0.04</td>\n",
       "    </tr>\n",
       "    <tr>\n",
       "      <th>1</th>\n",
       "      <td>KNN</td>\n",
       "      <td>0.939830</td>\n",
       "      <td>0.00</td>\n",
       "    </tr>\n",
       "    <tr>\n",
       "      <th>2</th>\n",
       "      <td>RandomForest</td>\n",
       "      <td>0.948332</td>\n",
       "      <td>0.19</td>\n",
       "    </tr>\n",
       "    <tr>\n",
       "      <th>3</th>\n",
       "      <td>NaiveBayes</td>\n",
       "      <td>0.931982</td>\n",
       "      <td>0.00</td>\n",
       "    </tr>\n",
       "  </tbody>\n",
       "</table>\n",
       "</div>"
      ],
      "text/plain": [
       "            Classifer  Validation accuracy  Training time\n",
       "0  LogisticRegression             0.950294           0.04\n",
       "1                 KNN             0.939830           0.00\n",
       "2        RandomForest             0.948332           0.19\n",
       "3          NaiveBayes             0.931982           0.00"
      ]
     },
     "execution_count": 14,
     "metadata": {},
     "output_type": "execute_result"
    }
   ],
   "source": [
    "valid_scores"
   ]
  },
  {
   "cell_type": "code",
   "execution_count": 15,
   "id": "02024137",
   "metadata": {},
   "outputs": [
    {
     "data": {
      "text/plain": [
       "{'LogisticRegression': {'C': 0.25, 'max_iter': 50, 'penalty': 'l1'},\n",
       " 'KNN': {'n_neighbors': 3, 'p': 2},\n",
       " 'RandomForest': {'max_depth': 12, 'n_estimators': 50},\n",
       " 'NaiveBayes': {'var_smoothing': 1e-10}}"
      ]
     },
     "execution_count": 15,
     "metadata": {},
     "output_type": "execute_result"
    }
   ],
   "source": [
    "clf_best_params"
   ]
  },
  {
   "cell_type": "code",
   "execution_count": 16,
   "id": "b4ee8c19",
   "metadata": {},
   "outputs": [],
   "source": [
    "# best classifiers\n",
    "RF_best = RandomForestClassifier(**clf_best_params[\"RandomForest\"], verbose=False, random_state=0)\n",
    "RF_best.fit(X_train_valid, y_train_valid)\n",
    "y_pred = RF_best.predict(X_test)"
   ]
  },
  {
   "cell_type": "code",
   "execution_count": 17,
   "id": "905cd272",
   "metadata": {},
   "outputs": [
    {
     "data": {
      "image/png": "[encoded data removed]",
      "text/plain": [
       "<Figure size 432x288 with 2 Axes>"
      ]
     },
     "metadata": {
      "needs_background": "light"
     },
     "output_type": "display_data"
    }
   ],
   "source": [
    "cm = confusion_matrix(y_test, y_pred, labels=clf.classes_)\n",
    "disp = ConfusionMatrixDisplay(confusion_matrix=cm, display_labels=clf.classes_)\n",
    "disp.plot()\n",
    "plt.show()"
   ]
  },
  {
   "cell_type": "code",
   "execution_count": 18,
   "id": "3f7f3024",
   "metadata": {},
   "outputs": [],
   "source": [
    "Accuracy = accuracy_score(y_test, y_pred)\n",
    "Precision = precision_score(y_test, y_pred, average = None)\n",
    "Recall = recall_score(y_test, y_pred, average = None)\n",
    "F1 = f1_score(y_test, y_pred, average = None)"
   ]
  },
  {
   "cell_type": "code",
   "execution_count": 19,
   "id": "03159848",
   "metadata": {},
   "outputs": [
    {
     "data": {
      "text/plain": [
       "0.9643866591294517"
      ]
     },
     "execution_count": 19,
     "metadata": {},
     "output_type": "execute_result"
    }
   ],
   "source": [
    "Accuracy"
   ]
  },
  {
   "cell_type": "code",
   "execution_count": 20,
   "id": "52002255",
   "metadata": {},
   "outputs": [
    {
     "data": {
      "text/plain": [
       "array([0.96613088, 0.85185185])"
      ]
     },
     "execution_count": 20,
     "metadata": {},
     "output_type": "execute_result"
    }
   ],
   "source": [
    "Precision"
   ]
  },
  {
   "cell_type": "code",
   "execution_count": 21,
   "id": "8986e756",
   "metadata": {},
   "outputs": [
    {
     "data": {
      "text/plain": [
       "array([0.99762893, 0.2804878 ])"
      ]
     },
     "execution_count": 21,
     "metadata": {},
     "output_type": "execute_result"
    }
   ],
   "source": [
    "Recall"
   ]
  },
  {
   "cell_type": "code",
   "execution_count": 22,
   "id": "d3f77156",
   "metadata": {},
   "outputs": [
    {
     "data": {
      "text/plain": [
       "array([0.9816273 , 0.42201835])"
      ]
     },
     "execution_count": 22,
     "metadata": {},
     "output_type": "execute_result"
    }
   ],
   "source": [
    "F1"
   ]
  },
  {
   "cell_type": "code",
   "execution_count": 23,
   "id": "3303b495",
   "metadata": {},
   "outputs": [],
   "source": [
    "F1_weighted = f1_score(y_test, y_pred, average = 'weighted')"
   ]
  },
  {
   "cell_type": "code",
   "execution_count": 24,
   "id": "4cab5771",
   "metadata": {},
   "outputs": [
    {
     "data": {
      "text/plain": [
       "0.9556872549072855"
      ]
     },
     "execution_count": 24,
     "metadata": {},
     "output_type": "execute_result"
    }
   ],
   "source": [
    "F1_weighted"
   ]
  },
  {
   "cell_type": "code",
   "execution_count": null,
   "id": "ccae8cc9",
   "metadata": {},
   "outputs": [],
   "source": [
    "y_test"
   ]
  },
  {
   "cell_type": "code",
   "execution_count": null,
   "id": "2b2a2dd3",
   "metadata": {},
   "outputs": [],
   "source": [
    "len(y_test)"
   ]
  },
  {
   "cell_type": "markdown",
   "id": "4b595d6e",
   "metadata": {},
   "source": [
    "# Draft"
   ]
  },
  {
   "cell_type": "code",
   "execution_count": null,
   "id": "cce3a5d6",
   "metadata": {},
   "outputs": [],
   "source": [
    "for task,task_name in zip(task_groups, task_group_names):\n",
    "    is_tasks = df_score['task_code'].isin(task).tolist()\n",
    "    df_feature_task = df_feature[is_tasks]\n",
    "    df_score_task = df_score[is_tasks]\n",
    "    \n",
    "    # Remove features with nan\n",
    "    df_feature2 = df_feature_task.dropna(axis=1)\n",
    "    \n",
    "    # Remove features with zero variance\n",
    "    sel = VarianceThreshold(threshold=0.0001)\n",
    "    df_feature3 = sel.fit_transform(df_feature2)\n",
    "    filter3 = sel.get_support()\n",
    "    feature_names2 = df_feature2.columns\n",
    "    feature_names3 = feature_names2[filter3]\n",
    "    df_feature3 = pd.DataFrame(df_feature3, columns=feature_names3)\n",
    "\n",
    "    \n",
    "    # Univariate Selection\n",
    "    test = SelectKBest(score_func=f_classif, k=50)\n",
    "    df_feature4 = test.fit_transform(df_feature3, score)\n",
    "    filter4 = test.get_support()\n",
    "    feature_names4 = feature_names3[filter4]\n",
    "    df_feature4 = pd.DataFrame(df_feature4, columns=feature_names4)\n",
    "    \n",
    "    # PCA\n",
    "    X=df_feature3.values\n",
    "    pca = PCA(n_components=10)\n",
    "    fit = pca.fit(X)\n",
    "    cumulative_EV = np.cumsum(fit.explained_variance_ratio_)\n",
    "    \n",
    "    X_new = pca.fit_transform(X)\n",
    "    PC1 = X_new[:,0]\n",
    "    x = PC1\n",
    "    y = score\n",
    "    fig, ax = plt.subplots()\n",
    "    ax.scatter(x,y,facecolors='none', edgecolors='b')\n",
    "    ax.set_xlabel('PC1' + '(' + str(round(cumulative_EV[0],2)*100) + '%)')\n",
    "    ax.set_ylabel('Tremor score')\n",
    "    ax.set_yticks([0,1,2,3])\n",
    "    ax.set_yticklabels(['0','1','2','3/4'])\n",
    "    ax.set_title(task_name)\n",
    "    \n",
    "    # save figure\n",
    "    file_name = 'PC1' + '_' + task_name\n",
    "    plt.savefig(os.path.join(save_path,'PCA_50', file_name))"
   ]
  },
  {
   "cell_type": "code",
   "execution_count": null,
   "id": "9375d474",
   "metadata": {},
   "outputs": [],
   "source": [
    "# subjects in the training dataset\n",
    "# train:test = 0.67:0.33\n",
    "# sb_train = ['11_NYC', '6_BOS', '8_BOS', '2_NYC', '7_NYC', '5_BOS', '11_BOS', '15_BOS', '4_NYC',\n",
    "#                 '12_NYC', '6_NYC', '3_BOS', '14_BOS', '18_BOS', '9_NYC', '4_BOS', '9_BOS', '16_BOS']\n",
    "\n",
    "# # train:test = 0.75:0.25\n",
    "# sb_train = ['8_BOS', '11_NYC', '2_NYC', '9_NYC', '3_BOS', '8_NYC', '7_NYC', '18_BOS', '15_BOS',\n",
    "#            '4_NYC', '12_NYC', '9_BOS', '6_NYC', '6_BOS', '16_BOS', '5_BOS', '14_BOS', '4_BOS',\n",
    "#            '11_BOS', '10_BOS', '17_BOS']\n",
    "# is_test_sb = ~np.isin(subject_ids, sb_train)\n",
    "# sb_test = subject_ids[is_test_sb]"
   ]
  },
  {
   "cell_type": "code",
   "execution_count": null,
   "id": "33f60a18",
   "metadata": {},
   "outputs": [],
   "source": [
    "# Remove features with nan\n",
    "df_feature2 = df_feature.dropna(axis=1)\n",
    "\n",
    "# Remove features with zero variance\n",
    "sel = VarianceThreshold()\n",
    "df_feature3 = sel.fit_transform(df_feature2)\n",
    "filter3 = sel.get_support()\n",
    "feature_names2 = df_feature2.columns\n",
    "feature_names3 = feature_names2[filter3]\n",
    "df_feature3 = pd.DataFrame(df_feature3, columns=feature_names3)\n",
    "\n",
    "# Get scores\n",
    "score = df_score['tremor_GENEActivHand'].values\n",
    "score = np.array(score, dtype=float)\n",
    "\n",
    "# Merge score 3 and 4\n",
    "score[score==4] = 3\n",
    "\n",
    "# Univariate Selection\n",
    "test = SelectKBest(score_func=f_classif, k=100)\n",
    "df_feature4 = test.fit_transform(df_feature3, score)\n",
    "filter4 = test.get_support()\n",
    "feature_names4 = feature_names3[filter4]\n",
    "df_feature4 = pd.DataFrame(df_feature4, columns=feature_names4)\n",
    "\n",
    "# PCA\n",
    "X=df_feature4.values\n",
    "pca = PCA(n_components=10)\n",
    "X_new = pca.fit_transform(X)\n",
    "PC1 = X_new[:,0]\n"
   ]
  },
  {
   "cell_type": "code",
   "execution_count": null,
   "id": "cd1b3043",
   "metadata": {},
   "outputs": [],
   "source": [
    "PC1.shape"
   ]
  },
  {
   "cell_type": "code",
   "execution_count": null,
   "id": "6cd69308",
   "metadata": {},
   "outputs": [],
   "source": [
    "X_train = X_new[is_train,0:3]\n",
    "y_train = score[is_train]\n",
    "X_test = X_new[is_test,0:3]\n",
    "y_test = score[is_test]"
   ]
  },
  {
   "cell_type": "code",
   "execution_count": null,
   "id": "ba6ca0cf",
   "metadata": {},
   "outputs": [],
   "source": [
    "# Random forest\n",
    "clf = RandomForestClassifier(max_depth=2, random_state=0)\n",
    "clf.fit(X_train, y_train)"
   ]
  },
  {
   "cell_type": "code",
   "execution_count": null,
   "id": "e59c3724",
   "metadata": {},
   "outputs": [],
   "source": [
    "clf.predict(X_test)"
   ]
  },
  {
   "cell_type": "code",
   "execution_count": null,
   "id": "4615b0b2",
   "metadata": {},
   "outputs": [],
   "source": [
    "clf.score(X_test, y_test)"
   ]
  },
  {
   "cell_type": "code",
   "execution_count": null,
   "id": "59ccbbf5",
   "metadata": {},
   "outputs": [],
   "source": [
    "hyper"
   ]
  },
  {
   "cell_type": "code",
   "execution_count": null,
   "id": "dca3bf47",
   "metadata": {},
   "outputs": [],
   "source": [
    "model_accuracy"
   ]
  },
  {
   "cell_type": "code",
   "execution_count": null,
   "id": "941830c7",
   "metadata": {},
   "outputs": [],
   "source": [
    "clf = RandomForestClassifier(max_depth=5, random_state=0,  oob_score=True)\n",
    "clf.fit(X_train, y_train)\n",
    "model_accuracy_train = round(clf.oob_score_,3)*100\n",
    "model_accuracy_test = round(clf.score(X_test, y_test),3)*100\n"
   ]
  }
 ],
 "metadata": {
  "kernelspec": {
   "display_name": "Python 3 (ipykernel)",
   "language": "python",
   "name": "python3"
  },
  "language_info": {
   "codemirror_mode": {
    "name": "ipython",
    "version": 3
   },
   "file_extension": ".py",
   "mimetype": "text/x-python",
   "name": "python",
   "nbconvert_exporter": "python",
   "pygments_lexer": "ipython3",
   "version": "3.7.1"
  }
 },
 "nbformat": 4,
 "nbformat_minor": 5
}
