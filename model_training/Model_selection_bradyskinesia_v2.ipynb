{
 "cells": [
  {
   "cell_type": "code",
   "execution_count": 1,
   "id": "af915849",
   "metadata": {},
   "outputs": [],
   "source": [
    "# Core\n",
    "import pandas as pd\n",
    "import os\n",
    "import numpy as np\n",
    "from numpy import set_printoptions, sqrt, argmax, arange\n",
    "from numpy.random import permutation\n",
    "import scipy.stats as stats\n",
    "from itertools import compress\n",
    "import matplotlib.pyplot as plt\n",
    "import seaborn as sns\n",
    "import time\n",
    "import re\n",
    "import pickle\n",
    "\n",
    "\n",
    "#tsfresh\n",
    "import tsfresh\n",
    "from tsfresh.feature_extraction import extract_features, MinimalFCParameters, EfficientFCParameters\n",
    "from tsfresh import select_features\n",
    "from tsfresh.utilities.dataframe_functions import impute\n",
    "\n",
    "# Sklearn\n",
    "from sklearn.feature_selection import VarianceThreshold, SelectKBest, f_classif, chi2\n",
    "from sklearn.model_selection import train_test_split, GridSearchCV, RandomizedSearchCV, StratifiedKFold\n",
    "from sklearn.metrics import accuracy_score, confusion_matrix, recall_score, precision_score, f1_score, precision_recall_curve\n",
    "from sklearn.metrics import roc_auc_score, plot_confusion_matrix, plot_roc_curve, roc_curve, ConfusionMatrixDisplay\n",
    "from sklearn.utils import resample\n",
    "from sklearn.decomposition import PCA\n",
    "\n",
    "# Models\n",
    "from sklearn.linear_model import LinearRegression, LogisticRegression\n",
    "from sklearn.neighbors import KNeighborsClassifier\n",
    "from sklearn.svm import SVC\n",
    "from sklearn.tree import DecisionTreeClassifier\n",
    "from sklearn.ensemble import RandomForestClassifier\n",
    "from sklearn.naive_bayes import GaussianNB\n",
    "from xgboost import XGBClassifier\n",
    "from lightgbm import LGBMClassifier\n",
    "from catboost import CatBoostClassifier\n",
    "\n",
    "# Self-defined functions\n",
    "from Utilities import pdVarianceThreshold, pdSelectKBest, train_val_test_split, upsampling, SelectBestClf\n",
    "\n",
    "import warnings\n",
    "warnings.simplefilter(action='ignore', category=FutureWarning)\n",
    "from pandas.core.common import SettingWithCopyWarning\n",
    "warnings.simplefilter(action=\"ignore\", category=SettingWithCopyWarning)"
   ]
  },
  {
   "cell_type": "code",
   "execution_count": 2,
   "id": "f3097e45",
   "metadata": {},
   "outputs": [],
   "source": [
    "direc = \"E:\\\\WS4PD_data\"\n",
    "os.chdir(direc)\n",
    "save_path = os.path.join(direc, \"Model_validation\", \"GENEActiv_tremor\")"
   ]
  },
  {
   "cell_type": "markdown",
   "id": "905f40b0",
   "metadata": {},
   "source": [
    "# Load data"
   ]
  },
  {
   "cell_type": "code",
   "execution_count": 3,
   "id": "a8fb9f90",
   "metadata": {},
   "outputs": [
    {
     "name": "stdout",
     "output_type": "stream",
     "text": [
      "df_score:\n",
      "(6909, 11)\n",
      "df_sensor_feature:\n",
      "(6909, 2247)\n",
      "df_clinical_feature:\n",
      "(6909, 69)\n"
     ]
    }
   ],
   "source": [
    "## Load scores\n",
    "score_file_path = os.path.join(direc, 'Feature_extraction','score_by_device.pkl')\n",
    "df_score = pd.read_pickle(score_file_path)\n",
    "\n",
    "# Tremor: merge score 3 and 4\n",
    "df_score['tremor_GENEActivHand'].loc[df_score['tremor_GENEActivHand']==4]=3\n",
    "print('df_score:')\n",
    "print(df_score.shape)\n",
    "\n",
    "## load sensor features\n",
    "subject_ids = df_score.subject_id.unique()\n",
    "df_sensor_feature = pd.DataFrame()\n",
    "device = 'GENEActiv'\n",
    "for sb in subject_ids:\n",
    "    feature_file_path = os.path.join(direc,'Feature_extraction',device,sb + '_features.pkl')\n",
    "    df_sensor_feature_sb = pd.read_pickle(feature_file_path)\n",
    "    df_sensor_feature = pd.concat([df_sensor_feature,df_sensor_feature_sb])\n",
    "df_sensor_feature = df_sensor_feature.reset_index(drop=True)\n",
    "df_sensor_feature = df_sensor_feature.dropna(axis=1)\n",
    "print('df_sensor_feature:')\n",
    "print(df_sensor_feature.shape)\n",
    "\n",
    "## load clinical features\n",
    "meta_file_path = os.path.join(direc, 'Feature_extraction','metadata_features.pkl')\n",
    "df_clinical_feature = pd.read_pickle(meta_file_path)\n",
    "\n",
    "# drop subject_id and task_code \n",
    "# df_clinical_feature.drop(columns = ['subject_id', 'task_code'])\n",
    "df_clinical_feature = df_clinical_feature.drop(columns = 'subject_id')\n",
    "\n",
    "# One-hot encoding clinical/ categorical features\n",
    "categorical_columns = df_clinical_feature.columns\n",
    "for column in categorical_columns:\n",
    "    tempdf = pd.get_dummies(df_clinical_feature[column], prefix=column)\n",
    "    df_clinical_feature = pd.merge(\n",
    "        left=df_clinical_feature,\n",
    "        right=tempdf,\n",
    "        left_index=True,\n",
    "        right_index=True,\n",
    "    )\n",
    "    df_clinical_feature = df_clinical_feature.drop(columns=column)\n",
    "df_clinical_feature = df_clinical_feature.dropna(axis=1)\n",
    "print('df_clinical_feature:')\n",
    "print(df_clinical_feature.shape)"
   ]
  },
  {
   "cell_type": "code",
   "execution_count": 4,
   "id": "4a8f8ce8",
   "metadata": {},
   "outputs": [],
   "source": [
    "# Create a new label for each question\n",
    "\n",
    "# Tremor\n",
    "# 1. Can wearable sensor data predict tremor score? \n",
    "# df_score['newTremorLabel_GENEActivHand'] = df_score['tremor_GENEActivHand']\n",
    "# title_name = 'Tremor score'\n",
    "# save_name = 'tremor_score'\n",
    "# xtick_name = [0,1,2,3,4]\n",
    "# bin_range = range(5)\n",
    "\n",
    "# 2. Can wearable sensor data predict whether tremor is present?\n",
    "# is_tremor = df_score['tremor_GENEActivHand'].astype(int)>0\n",
    "# df_score['newTremorLabel_GENEActivHand'] = np.nan\n",
    "# df_score['newTremorLabel_GENEActivHand'].loc[is_tremor] = 1\n",
    "# df_score['newTremorLabel_GENEActivHand'].loc[~is_tremor] = 0\n",
    "\n",
    "# title_name = 'is_tremor'\n",
    "# xtick_name = [0,1]\n",
    "# bin_range = range(3)\n",
    "# recall_1_threshold = 0.8\n",
    "\n",
    "# 3. Can wearable sensor data predict whether tremor symptom is sever (score>2)? \n",
    "is_sever_tremor = df_score['tremor_GENEActivHand'].astype(int)>2\n",
    "df_score['newTremorLabel_GENEActivHand'] = np.nan\n",
    "df_score['newTremorLabel_GENEActivHand'].loc[is_sever_tremor] = 1\n",
    "df_score['newTremorLabel_GENEActivHand'].loc[~is_sever_tremor] = 0\n",
    "\n",
    "title_name = 'is_sever_tremor'\n",
    "xtick_name = [0,1]\n",
    "bin_range = range(3)\n",
    "recall_1_threshold = 0.9"
   ]
  },
  {
   "cell_type": "code",
   "execution_count": 5,
   "id": "3344e683",
   "metadata": {},
   "outputs": [
    {
     "data": {
      "text/plain": [
       "array([6766,  143], dtype=int64)"
      ]
     },
     "execution_count": 5,
     "metadata": {},
     "output_type": "execute_result"
    },
    {
     "data": {
      "image/png": "[encoded data removed]",
      "text/plain": [
       "<Figure size 432x288 with 1 Axes>"
      ]
     },
     "metadata": {
      "needs_background": "light"
     },
     "output_type": "display_data"
    }
   ],
   "source": [
    "# Get new score distribution\n",
    "score = df_score['newTremorLabel_GENEActivHand'].values\n",
    "score = np.array(score, dtype=float)\n",
    "\n",
    "# score distribution\n",
    "counts, bin_edges = np.histogram(score,bins = bin_range)\n",
    "fig, ax = plt.subplots()\n",
    "ax.hist(score, bins = bin_range, histtype='bar', color = 'grey')\n",
    "ax.set_xlabel(title_name)\n",
    "ax.set_ylabel('Count')\n",
    "ax.set_xticks(xtick_name)\n",
    "# save figure\n",
    "# plt.savefig(os.path.join(save_path,\"Tremor_score_distribution\"))\n",
    "counts"
   ]
  },
  {
   "cell_type": "markdown",
   "id": "ce64dfdd",
   "metadata": {},
   "source": [
    "# Upsample"
   ]
  },
  {
   "cell_type": "code",
   "execution_count": 6,
   "id": "6c30ebcc",
   "metadata": {},
   "outputs": [
    {
     "name": "stdout",
     "output_type": "stream",
     "text": [
      "upsampled scores:(10149, 12)\n",
      "upsampled sensor features:(10149, 2247)\n",
      "upsampled clinical features:(10149, 69)\n"
     ]
    }
   ],
   "source": [
    "upsample_size = round(max(counts)/2)\n",
    "upsampled_df_score, upsampled_df_sensor_feature, upsampled_df_clinical_feature = upsampling(df_score, df_sensor_feature, df_clinical_feature, upsample_size, counts, score)\n",
    "print('upsampled scores:' + str(upsampled_df_score.shape))\n",
    "print('upsampled sensor features:' + str(upsampled_df_sensor_feature.shape))\n",
    "print('upsampled clinical features:' + str(upsampled_df_clinical_feature.shape))"
   ]
  },
  {
   "cell_type": "code",
   "execution_count": 7,
   "id": "cfb66249",
   "metadata": {},
   "outputs": [],
   "source": [
    "df_score = upsampled_df_score\n",
    "df_sensor_feature = upsampled_df_sensor_feature\n",
    "df_clinical_feature = upsampled_df_clinical_feature"
   ]
  },
  {
   "cell_type": "markdown",
   "id": "8e831111",
   "metadata": {},
   "source": [
    "# Feature selection"
   ]
  },
  {
   "cell_type": "code",
   "execution_count": 8,
   "id": "04cc5e3d",
   "metadata": {},
   "outputs": [
    {
     "name": "stdout",
     "output_type": "stream",
     "text": [
      "sensor features:(10149, 2034)\n",
      "clinical features:(10149, 64)\n"
     ]
    }
   ],
   "source": [
    "# Remove features with zero variance\n",
    "varThreshold = 0.001\n",
    "df_sensor_feature = pdVarianceThreshold(df_sensor_feature,varThreshold)\n",
    "df_clinical_feature = pdVarianceThreshold(df_clinical_feature,varThreshold)\n",
    "\n",
    "print('sensor features:' + str(df_sensor_feature.shape))\n",
    "print('clinical features:' + str(df_clinical_feature.shape))\n",
    "\n",
    "# Combine sensor features with clinical features\n",
    "df = pd.concat([df_sensor_feature, df_clinical_feature], axis=1) "
   ]
  },
  {
   "cell_type": "code",
   "execution_count": 9,
   "id": "6e71979a",
   "metadata": {},
   "outputs": [],
   "source": [
    "# Train/Validation/Test Split\n",
    "# Get scores\n",
    "score = df_score['newTremorLabel_GENEActivHand'].values\n",
    "score = np.array(score, dtype=float)\n",
    "# Get subject ids for splitting\n",
    "subject_id = df_score['subject_id']\n",
    "\n",
    "X_train_valid, y_train_valid, X_train, y_train,  X_valid, y_valid, X_test, y_test = train_val_test_split(df, score, subject_id)\n"
   ]
  },
  {
   "cell_type": "code",
   "execution_count": 10,
   "id": "a7f3c42d",
   "metadata": {},
   "outputs": [
    {
     "name": "stderr",
     "output_type": "stream",
     "text": [
      "C:\\Users\\Yiting\\Anaconda3\\envs\\ws4pd\\lib\\site-packages\\sklearn\\feature_selection\\_univariate_selection.py:112: UserWarning: Features [671] are constant.\n",
      "  warnings.warn(\"Features %s are constant.\" % constant_features_idx, UserWarning)\n",
      "C:\\Users\\Yiting\\Anaconda3\\envs\\ws4pd\\lib\\site-packages\\sklearn\\feature_selection\\_univariate_selection.py:113: RuntimeWarning: invalid value encountered in true_divide\n",
      "  f = msb / msw\n"
     ]
    },
    {
     "data": {
      "text/plain": [
       "Index(['x__absolute_sum_of_changes', 'x__autocorrelation__lag_2',\n",
       "       'x__autocorrelation__lag_3',\n",
       "       'x__change_quantiles__f_agg_\"mean\"__isabs_True__qh_0.6__ql_0.0',\n",
       "       'x__change_quantiles__f_agg_\"mean\"__isabs_True__qh_0.8__ql_0.0',\n",
       "       'x__change_quantiles__f_agg_\"mean\"__isabs_True__qh_1.0__ql_0.0',\n",
       "       'x__cid_ce__normalize_False', 'x__fft_aggregated__aggtype_\"skew\"',\n",
       "       'x__mean_abs_change', 'x__number_crossing_m__m_-1',\n",
       "       'x__partial_autocorrelation__lag_4', 'z__absolute_sum_of_changes',\n",
       "       'z__autocorrelation__lag_2', 'z__autocorrelation__lag_3',\n",
       "       'z__autocorrelation__lag_4', 'z__autocorrelation__lag_5',\n",
       "       'z__cid_ce__normalize_False', 'z__fft_aggregated__aggtype_\"skew\"',\n",
       "       'z__mean_abs_change', 'z__partial_autocorrelation__lag_4'],\n",
       "      dtype='object')"
      ]
     },
     "execution_count": 10,
     "metadata": {},
     "output_type": "execute_result"
    }
   ],
   "source": [
    "# df_sensor_feature: numerical input\n",
    "# df_clinical_feature: categorical input\n",
    "# use chi2f_classif for SelectKBest\n",
    "\n",
    "# Univariant selection for sensor features\n",
    "X_train_sf_sensor = pdSelectKBest(X_train.iloc[:,0:df_sensor_feature.shape[1]], y_train, f_classif, 20)\n",
    "sensor_sf_index = X_train_sf_sensor.columns\n",
    "\n",
    "X_valid_sf_sensor = X_valid.loc[:,sensor_sf_index]\n",
    "X_train_valid_sf_sensor = X_train_valid.loc[:,sensor_sf_index]\n",
    "X_test_sf_sensor = X_test.loc[:,sensor_sf_index]\n",
    "sensor_sf_index"
   ]
  },
  {
   "cell_type": "code",
   "execution_count": 11,
   "id": "c2948938",
   "metadata": {},
   "outputs": [
    {
     "data": {
      "text/plain": [
       "Index(['age_group_4.0', 'age_diagnosis_group_2.0', 'tremor_No',\n",
       "       'disrupted_sleep_No'],\n",
       "      dtype='object')"
      ]
     },
     "execution_count": 11,
     "metadata": {},
     "output_type": "execute_result"
    }
   ],
   "source": [
    "# df_clinical_feature: categorical input\n",
    "# score: categorical output\n",
    "# use chi2 for SelectKBest\n",
    "\n",
    "# Univariant selection for clinical features\n",
    "X_train_sf_clinical = pdSelectKBest(X_train.iloc[:,df_sensor_feature.shape[1]:-1], y_train, chi2, 4)\n",
    "clinical_sf_index = X_train_sf_clinical.columns\n",
    "\n",
    "X_valid_sf_clinical = X_valid.loc[:,clinical_sf_index]\n",
    "X_train_valid_sf_clinical = X_train_valid.loc[:,clinical_sf_index]\n",
    "X_test_sf_clinical = X_test.loc[:,clinical_sf_index]\n",
    "clinical_sf_index"
   ]
  },
  {
   "cell_type": "code",
   "execution_count": 12,
   "id": "7abc9b0e",
   "metadata": {},
   "outputs": [],
   "source": [
    "X_train_sf = pd.concat([X_train_sf_sensor, X_train_sf_clinical], axis=1) \n",
    "X_valid_sf = pd.concat([X_valid_sf_sensor, X_valid_sf_clinical], axis=1) \n",
    "X_train_valid_sf = pd.concat([X_train_valid_sf_sensor, X_train_valid_sf_clinical], axis=1) \n",
    "X_test_sf = pd.concat([X_test_sf_sensor, X_test_sf_clinical], axis=1) \n",
    "\n",
    "X_train_sf = X_train_sf.rename(columns = lambda x:re.sub('[^A-Za-z0-9_]+', '', x))\n",
    "X_valid_sf = X_valid_sf.rename(columns = lambda x:re.sub('[^A-Za-z0-9_]+', '', x))\n",
    "X_train_valid_sf = X_train_valid_sf.rename(columns = lambda x:re.sub('[^A-Za-z0-9_]+', '', x))\n",
    "X_test_sf = X_test_sf.rename(columns = lambda x:re.sub('[^A-Za-z0-9_]+', '', x))\n"
   ]
  },
  {
   "cell_type": "markdown",
   "id": "d793490d",
   "metadata": {},
   "source": [
    "# Model selection"
   ]
  },
  {
   "cell_type": "code",
   "execution_count": 13,
   "id": "0abee215",
   "metadata": {},
   "outputs": [],
   "source": [
    "# Classifiers\n",
    "classifiers = {\n",
    "    \"LogisticRegression\" : LogisticRegression(random_state=7, solver = 'liblinear'),\n",
    "    \"KNN\" : KNeighborsClassifier(),\n",
    "#     \"SVC\" : SVC(random_state=7, probability=True),\n",
    "    \"RandomForest\" : RandomForestClassifier(random_state=7),\n",
    "    \"XGBoost\" : XGBClassifier(random_state=7, use_label_encoder=False, eval_metric='logloss'), # XGBoost takes too long\n",
    "    \"LGBM\" : LGBMClassifier(random_state=7),\n",
    "    \"CatBoost\" : CatBoostClassifier(random_state=7, verbose=False),\n",
    "    \"NaiveBayes\": GaussianNB()\n",
    "}\n",
    "\n",
    "# Grids for grid search\n",
    "LR_grid = {'penalty': ['l1','l2'],\n",
    "           'C': [0.25, 0.5, 0.75, 1, 1.25, 1.5],\n",
    "           'max_iter': [50, 100, 150, 200, 250]}\n",
    "\n",
    "KNN_grid = {'n_neighbors': [3, 5, 7, 9],\n",
    "            'p': [1, 2]}\n",
    "\n",
    "# SVC_grid = {'C': [0.25, 0.5, 0.75, 1, 1.25, 1.5],\n",
    "#             'kernel': ['linear', 'rbf'],\n",
    "#             'gamma': ['scale', 'auto']}\n",
    "\n",
    "RF_grid = {'n_estimators': [50, 100, 150, 200, 250, 300],\n",
    "        'max_depth': [2, 4, 6, 8, 10, 12]}\n",
    "\n",
    "boosted_grid = {'n_estimators': [50, 100, 150],\n",
    "        'max_depth': [4, 8, 12],\n",
    "        'learning_rate': [0.05, 0.1, 0.15]}\n",
    "\n",
    "NB_grid={'var_smoothing': [1e-10, 1e-9, 1e-8, 1e-7]}\n",
    "\n",
    "# Dictionary of all grids\n",
    "grid = {\n",
    "    \"LogisticRegression\" : LR_grid,\n",
    "    \"KNN\" : KNN_grid,\n",
    "#     \"SVC\" : SVC_grid,\n",
    "    \"RandomForest\" : RF_grid,\n",
    "    \"XGBoost\" : boosted_grid,\n",
    "    \"LGBM\" : boosted_grid,\n",
    "    \"CatBoost\" : boosted_grid,\n",
    "    \"NaiveBayes\": NB_grid\n",
    "}"
   ]
  },
  {
   "cell_type": "code",
   "execution_count": 14,
   "id": "124796b7",
   "metadata": {},
   "outputs": [
    {
     "name": "stdout",
     "output_type": "stream",
     "text": [
      "Model: LogisticRegression\n",
      "Training time (mins): 0.28\n",
      "\n",
      "Model: KNN\n",
      "Training time (mins): 0.03\n",
      "\n",
      "Model: RandomForest\n",
      "Training time (mins): 0.41\n",
      "\n",
      "Model: XGBoost\n",
      "Training time (mins): 0.43\n",
      "\n",
      "Model: LGBM\n",
      "Training time (mins): 0.1\n",
      "\n",
      "Model: CatBoost\n",
      "Training time (mins): 9.37\n",
      "\n",
      "Model: NaiveBayes\n",
      "Training time (mins): 0.0\n",
      "\n"
     ]
    }
   ],
   "source": [
    "# Classifier evaluation\n",
    "i=0\n",
    "clf_best_params=classifiers.copy()\n",
    "valid_scores=pd.DataFrame({'Classifer':classifiers.keys(),\n",
    "                           'Accuracy': np.zeros(len(classifiers)),\n",
    "                           'F1_macro': np.zeros(len(classifiers)),\n",
    "                           'F1_micro': np.zeros(len(classifiers)),\n",
    "                           'F1_weighted': np.zeros(len(classifiers)),\n",
    "                           'F1_0': np.zeros(len(classifiers)),\n",
    "                           'F1_1': np.zeros(len(classifiers)),                               \n",
    "                           'Precision_0': np.zeros(len(classifiers)),\n",
    "                           'Precision_1': np.zeros(len(classifiers)),\n",
    "                           'Recall_0': np.zeros(len(classifiers)),\n",
    "                           'Recall_1': np.zeros(len(classifiers)),\n",
    "                           'Training time': np.zeros(len(classifiers))})\n",
    "for key, classifier in classifiers.items():\n",
    "    start = time.time()\n",
    "    clf = GridSearchCV(estimator=classifier, param_grid=grid[key], n_jobs=-1, cv=None)\n",
    "\n",
    "    # Train and score\n",
    "    clf.fit(X_train_sf, y_train)\n",
    "    y_pred = clf.predict(X_valid_sf)\n",
    "    Accuracy = accuracy_score(y_valid, y_pred).round(2)\n",
    "    F1_macro = f1_score(y_valid, y_pred, average = 'macro').round(2)\n",
    "    F1_micro = f1_score(y_valid, y_pred, average = 'micro').round(2)\n",
    "    F1_weighted = f1_score(y_valid, y_pred, average = 'weighted').round(2)\n",
    "    F1_class = f1_score(y_valid, y_pred, average = None).round(2)\n",
    "    Precision = precision_score(y_valid, y_pred, average = None).round(2)\n",
    "    Recall = recall_score(y_valid, y_pred, average = None).round(2)                                         \n",
    "\n",
    "    valid_scores.iloc[i,1]=Accuracy\n",
    "    valid_scores.iloc[i,2]=F1_macro\n",
    "    valid_scores.iloc[i,3]=F1_micro\n",
    "    valid_scores.iloc[i,4]=F1_weighted\n",
    "    valid_scores.iloc[i,5]=F1_class[0]\n",
    "    valid_scores.iloc[i,6]=F1_class[1]\n",
    "    valid_scores.iloc[i,7]=Precision[0]\n",
    "    valid_scores.iloc[i,8]=Precision[1] \n",
    "    valid_scores.iloc[i,9]=Recall[0]\n",
    "    valid_scores.iloc[i,10]=Recall[1]\n",
    "\n",
    "    # Save trained model\n",
    "    clf_best_params[key]=clf.best_params_\n",
    "\n",
    "    # Print iteration and training time\n",
    "    stop = time.time()\n",
    "    valid_scores.iloc[i,11]=np.round((stop - start)/60, 2)\n",
    "\n",
    "\n",
    "    print('Model:', key)\n",
    "    print('Training time (mins):', valid_scores.iloc[i,11])\n",
    "    print('')\n",
    "    i+=1\n"
   ]
  },
  {
   "cell_type": "code",
   "execution_count": 15,
   "id": "0f33e306",
   "metadata": {},
   "outputs": [
    {
     "data": {
      "text/html": [
       "<div>\n",
       "<style scoped>\n",
       "    .dataframe tbody tr th:only-of-type {\n",
       "        vertical-align: middle;\n",
       "    }\n",
       "\n",
       "    .dataframe tbody tr th {\n",
       "        vertical-align: top;\n",
       "    }\n",
       "\n",
       "    .dataframe thead th {\n",
       "        text-align: right;\n",
       "    }\n",
       "</style>\n",
       "<table border=\"1\" class=\"dataframe\">\n",
       "  <thead>\n",
       "    <tr style=\"text-align: right;\">\n",
       "      <th></th>\n",
       "      <th>Classifer</th>\n",
       "      <th>Accuracy</th>\n",
       "      <th>F1_macro</th>\n",
       "      <th>F1_micro</th>\n",
       "      <th>F1_weighted</th>\n",
       "      <th>F1_0</th>\n",
       "      <th>F1_1</th>\n",
       "      <th>Precision_0</th>\n",
       "      <th>Precision_1</th>\n",
       "      <th>Recall_0</th>\n",
       "      <th>Recall_1</th>\n",
       "      <th>Training time</th>\n",
       "    </tr>\n",
       "  </thead>\n",
       "  <tbody>\n",
       "    <tr>\n",
       "      <th>0</th>\n",
       "      <td>LogisticRegression</td>\n",
       "      <td>0.93</td>\n",
       "      <td>0.92</td>\n",
       "      <td>0.93</td>\n",
       "      <td>0.93</td>\n",
       "      <td>0.94</td>\n",
       "      <td>0.89</td>\n",
       "      <td>0.94</td>\n",
       "      <td>0.89</td>\n",
       "      <td>0.95</td>\n",
       "      <td>0.88</td>\n",
       "      <td>0.28</td>\n",
       "    </tr>\n",
       "    <tr>\n",
       "      <th>1</th>\n",
       "      <td>KNN</td>\n",
       "      <td>0.77</td>\n",
       "      <td>0.69</td>\n",
       "      <td>0.77</td>\n",
       "      <td>0.74</td>\n",
       "      <td>0.85</td>\n",
       "      <td>0.53</td>\n",
       "      <td>0.76</td>\n",
       "      <td>0.80</td>\n",
       "      <td>0.95</td>\n",
       "      <td>0.40</td>\n",
       "      <td>0.03</td>\n",
       "    </tr>\n",
       "    <tr>\n",
       "      <th>2</th>\n",
       "      <td>RandomForest</td>\n",
       "      <td>0.79</td>\n",
       "      <td>0.70</td>\n",
       "      <td>0.79</td>\n",
       "      <td>0.76</td>\n",
       "      <td>0.86</td>\n",
       "      <td>0.55</td>\n",
       "      <td>0.77</td>\n",
       "      <td>0.92</td>\n",
       "      <td>0.98</td>\n",
       "      <td>0.39</td>\n",
       "      <td>0.41</td>\n",
       "    </tr>\n",
       "    <tr>\n",
       "      <th>3</th>\n",
       "      <td>XGBoost</td>\n",
       "      <td>0.84</td>\n",
       "      <td>0.79</td>\n",
       "      <td>0.84</td>\n",
       "      <td>0.82</td>\n",
       "      <td>0.89</td>\n",
       "      <td>0.68</td>\n",
       "      <td>0.81</td>\n",
       "      <td>0.93</td>\n",
       "      <td>0.98</td>\n",
       "      <td>0.54</td>\n",
       "      <td>0.43</td>\n",
       "    </tr>\n",
       "    <tr>\n",
       "      <th>4</th>\n",
       "      <td>LGBM</td>\n",
       "      <td>0.82</td>\n",
       "      <td>0.75</td>\n",
       "      <td>0.82</td>\n",
       "      <td>0.80</td>\n",
       "      <td>0.88</td>\n",
       "      <td>0.63</td>\n",
       "      <td>0.79</td>\n",
       "      <td>0.93</td>\n",
       "      <td>0.98</td>\n",
       "      <td>0.48</td>\n",
       "      <td>0.10</td>\n",
       "    </tr>\n",
       "    <tr>\n",
       "      <th>5</th>\n",
       "      <td>CatBoost</td>\n",
       "      <td>0.82</td>\n",
       "      <td>0.77</td>\n",
       "      <td>0.82</td>\n",
       "      <td>0.81</td>\n",
       "      <td>0.88</td>\n",
       "      <td>0.65</td>\n",
       "      <td>0.80</td>\n",
       "      <td>0.92</td>\n",
       "      <td>0.98</td>\n",
       "      <td>0.51</td>\n",
       "      <td>9.37</td>\n",
       "    </tr>\n",
       "    <tr>\n",
       "      <th>6</th>\n",
       "      <td>NaiveBayes</td>\n",
       "      <td>0.87</td>\n",
       "      <td>0.86</td>\n",
       "      <td>0.87</td>\n",
       "      <td>0.87</td>\n",
       "      <td>0.90</td>\n",
       "      <td>0.82</td>\n",
       "      <td>0.94</td>\n",
       "      <td>0.76</td>\n",
       "      <td>0.87</td>\n",
       "      <td>0.88</td>\n",
       "      <td>0.00</td>\n",
       "    </tr>\n",
       "  </tbody>\n",
       "</table>\n",
       "</div>"
      ],
      "text/plain": [
       "            Classifer  Accuracy  F1_macro  F1_micro  F1_weighted  F1_0  F1_1  \\\n",
       "0  LogisticRegression      0.93      0.92      0.93         0.93  0.94  0.89   \n",
       "1                 KNN      0.77      0.69      0.77         0.74  0.85  0.53   \n",
       "2        RandomForest      0.79      0.70      0.79         0.76  0.86  0.55   \n",
       "3             XGBoost      0.84      0.79      0.84         0.82  0.89  0.68   \n",
       "4                LGBM      0.82      0.75      0.82         0.80  0.88  0.63   \n",
       "5            CatBoost      0.82      0.77      0.82         0.81  0.88  0.65   \n",
       "6          NaiveBayes      0.87      0.86      0.87         0.87  0.90  0.82   \n",
       "\n",
       "   Precision_0  Precision_1  Recall_0  Recall_1  Training time  \n",
       "0         0.94         0.89      0.95      0.88           0.28  \n",
       "1         0.76         0.80      0.95      0.40           0.03  \n",
       "2         0.77         0.92      0.98      0.39           0.41  \n",
       "3         0.81         0.93      0.98      0.54           0.43  \n",
       "4         0.79         0.93      0.98      0.48           0.10  \n",
       "5         0.80         0.92      0.98      0.51           9.37  \n",
       "6         0.94         0.76      0.87      0.88           0.00  "
      ]
     },
     "execution_count": 15,
     "metadata": {},
     "output_type": "execute_result"
    }
   ],
   "source": [
    "valid_scores"
   ]
  },
  {
   "cell_type": "code",
   "execution_count": 16,
   "id": "bb81feeb",
   "metadata": {},
   "outputs": [
    {
     "name": "stdout",
     "output_type": "stream",
     "text": [
      "LogisticRegression\n"
     ]
    }
   ],
   "source": [
    "best_clf_summary = SelectBestClf(valid_scores, recall_1_threshold, clf_best_params)\n",
    "best_clf = best_clf_summary[2]\n",
    "best_clf_params = best_clf_summary[3]\n",
    "print(best_clf)"
   ]
  },
  {
   "cell_type": "code",
   "execution_count": 17,
   "id": "c153c023",
   "metadata": {},
   "outputs": [
    {
     "data": {
      "text/plain": [
       "(0.93,\n",
       " 0.88,\n",
       " 'LogisticRegression',\n",
       " {'C': 0.25, 'max_iter': 50, 'penalty': 'l2'})"
      ]
     },
     "execution_count": 17,
     "metadata": {},
     "output_type": "execute_result"
    }
   ],
   "source": [
    "best_clf_summary"
   ]
  },
  {
   "cell_type": "code",
   "execution_count": null,
   "id": "2640aeb5",
   "metadata": {},
   "outputs": [],
   "source": [
    "# Adjusting model threshold "
   ]
  },
  {
   "cell_type": "code",
   "execution_count": 21,
   "id": "59d7bae8",
   "metadata": {},
   "outputs": [
    {
     "data": {
      "text/plain": [
       "LogisticRegression(C=0.25, max_iter=50, random_state=7, solver='liblinear')"
      ]
     },
     "execution_count": 21,
     "metadata": {},
     "output_type": "execute_result"
    }
   ],
   "source": [
    "clf = LogisticRegression(random_state=7, solver = 'liblinear',\n",
    "                         C=0.25, max_iter = 50, penalty = 'l2')\n",
    "clf.fit(X_train_sf, y_train)"
   ]
  },
  {
   "cell_type": "code",
   "execution_count": null,
   "id": "99a9fa48",
   "metadata": {},
   "outputs": [],
   "source": [
    "# clf = GaussianNB(var_smoothing= 1e-07)\n",
    "# clf.fit(X_train_sf, y_train)"
   ]
  },
  {
   "cell_type": "code",
   "execution_count": null,
   "id": "a06679ff",
   "metadata": {},
   "outputs": [],
   "source": [
    "# clf = XGBClassifier(random_state=0, use_label_encoder=False, eval_metric='logloss',\n",
    "#                     learning_rate= 0.05, max_depth= 4, n_estimators= 50)\n",
    "# clf.fit(X_train_sf, y_train)"
   ]
  },
  {
   "cell_type": "code",
   "execution_count": 30,
   "id": "5ea74112",
   "metadata": {},
   "outputs": [
    {
     "name": "stderr",
     "output_type": "stream",
     "text": [
      "C:\\Users\\Yiting\\Anaconda3\\envs\\ws4pd\\lib\\site-packages\\ipykernel_launcher.py:12: RuntimeWarning: invalid value encountered in true_divide\n",
      "  if sys.path[0] == '':\n"
     ]
    },
    {
     "data": {
      "image/png": "[encoded data removed]",
      "text/plain": [
       "<Figure size 576x864 with 2 Axes>"
      ]
     },
     "metadata": {
      "needs_background": "light"
     },
     "output_type": "display_data"
    }
   ],
   "source": [
    "# Choose the best threshold\n",
    "# Recall is above the recall threshold\n",
    "# Select the best F1 score \n",
    "\n",
    "# Predict probabilities\n",
    "yhat = clf.predict_proba(X_valid_sf)\n",
    "# Keep probabilities for the positive outcome only\n",
    "probs = yhat[:, 1]\n",
    "# Calculate pr curves\n",
    "precision, recall, thresholds = precision_recall_curve(y_valid, probs)\n",
    "# Convert to f score\n",
    "fscore = (2 * precision * recall) / (precision + recall)\n",
    "\n",
    "# Select recall is above the recall threshold                \n",
    "is_good_recall = recall > recall_1_threshold\n",
    "# locate the index of the largest f score\n",
    "ix = argmax(fscore[is_good_recall])\n",
    "\n",
    "# Predict the class using the new threhold \n",
    "new_y_pred = probs > thresholds[ix]\n",
    "\n",
    "# Plot\n",
    "fig, (ax0, ax1) = plt.subplots(2,1, figsize=(8,12))\n",
    "## Histogram of prediction probability \n",
    "ax0.hist(probs, bins = np.arange(0, 1.1, 0.02))\n",
    "ax0.axvline(x = thresholds[ix], color = 'r', label = 'new threshold')\n",
    "ax0.set_xlabel('Predicted Probability')\n",
    "ax0.set_ylabel('Count')\n",
    "## PR curve\n",
    "no_skill = len(y_valid[y_valid==1]) / len(y_valid)\n",
    "ax1.plot([0,1], [no_skill, no_skill], linestyle='--', label='No Skill')\n",
    "ax1.plot(recall, precision, marker='.', label=best_clf)\n",
    "ax1.scatter(recall[ix], precision[ix], marker='o', color='black', label='Best')\n",
    "ax1.set_xlabel('Recall')\n",
    "ax1.set_ylabel('Precision')\n",
    "ax1.legend()\n",
    "def lowerlefttext(ax,text, size=12, alpha = 0.5, color='k', dx=1.0/20, dy=1.0/20):\n",
    "    return ax.annotate(text, xy=(dx, dy), xycoords = 'axes fraction',\n",
    "                        ha='left',va='bottom',ma='left',color=color,      \n",
    "                        size=size, bbox=dict(boxstyle=\"round\", fc=\"w\",\n",
    "                        ec=\"0.5\", alpha=alpha))\n",
    "lowerlefttext(ax1,best_clf + '\\nBest Threshold=%.2f\\nF-Score=%.2f\\nRecall=%.2f' % (thresholds[ix], fscore[ix], recall[ix]))\n",
    "\n",
    "# save figure\n",
    "file_name = title_name + '_threshold'\n",
    "plt.savefig(os.path.join(save_path,\"Threshold\",file_name))"
   ]
  },
  {
   "cell_type": "code",
   "execution_count": null,
   "id": "9a1f487b",
   "metadata": {},
   "outputs": [],
   "source": [
    "# Finalized model"
   ]
  },
  {
   "cell_type": "code",
   "execution_count": 27,
   "id": "e4314c47",
   "metadata": {},
   "outputs": [],
   "source": [
    "clf.fit(X_train_valid_sf, y_train_valid)\n",
    "yhat = clf.predict_proba(X_test_sf)\n",
    "# Keep probabilities for the positive outcome only\n",
    "probs = yhat[:, 1]\n",
    "# Predict the class using the new threhold \n",
    "new_y_pred = probs > thresholds[ix]\n",
    "Accuracy = accuracy_score(y_test, new_y_pred).round(2)\n",
    "F_score = f1_score(y_test, new_y_pred).round(2)\n",
    "Precision = precision_score(y_test, new_y_pred, average = None).round(2)\n",
    "Recall = recall_score(y_test, new_y_pred, average = None).round(2)      "
   ]
  },
  {
   "cell_type": "code",
   "execution_count": 28,
   "id": "b95b734c",
   "metadata": {},
   "outputs": [],
   "source": [
    "# save the model to disk\n",
    "model_file_name = 'Finalized_model_' + title_name + '.sav'\n",
    "model_file_path = os.path.join(direc, \"Finalized_Models\", model_file_name)\n",
    "pickle.dump(clf, open(model_file_path, 'wb'))"
   ]
  },
  {
   "cell_type": "code",
   "execution_count": 31,
   "id": "51d7392e",
   "metadata": {},
   "outputs": [],
   "source": [
    "# Save\n",
    "df_model_metadata = pd.DataFrame({\n",
    "    'title': [title_name],\n",
    "    'max_sample_size': [max(counts)],\n",
    "    'upsample_size': [upsample_size],\n",
    "    'selected_sensor_features':[sensor_sf_index],\n",
    "    'selected_clinical_features':[clinical_sf_index],\n",
    "    'validation_scores_for_all_models': [valid_scores],\n",
    "    'best_clf': [best_clf],\n",
    "    'best_clf_params': [best_clf_params],\n",
    "    'target_recall': [recall_1_threshold],\n",
    "    'best_threshold': [thresholds[ix]],\n",
    "    'finalized_model_file_path': [model_file_path],\n",
    "    'F_score': [F_score],\n",
    "    'Precision':[Precision],\n",
    "    'Recall':[Recall]},\n",
    "    index=[0])\n",
    "model_metadata_name = 'Metadata_of_finalized_model_' + title_name +'.pkl'\n",
    "model_metadata_path = os.path.join(direc, \"Finalized_Models\", model_metadata_name)\n",
    "df_model_metadata.to_pickle(model_metadata_path)\n"
   ]
  },
  {
   "cell_type": "code",
   "execution_count": null,
   "id": "1213ac93",
   "metadata": {},
   "outputs": [],
   "source": [
    "# "
   ]
  },
  {
   "cell_type": "code",
   "execution_count": null,
   "id": "df2a72c9",
   "metadata": {},
   "outputs": [],
   "source": []
  }
 ],
 "metadata": {
  "kernelspec": {
   "display_name": "Python 3 (ipykernel)",
   "language": "python",
   "name": "python3"
  },
  "language_info": {
   "codemirror_mode": {
    "name": "ipython",
    "version": 3
   },
   "file_extension": ".py",
   "mimetype": "text/x-python",
   "name": "python",
   "nbconvert_exporter": "python",
   "pygments_lexer": "ipython3",
   "version": "3.7.1"
  }
 },
 "nbformat": 4,
 "nbformat_minor": 5
}
