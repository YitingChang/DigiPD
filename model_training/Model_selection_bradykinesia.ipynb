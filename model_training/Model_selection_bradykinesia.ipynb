{
 "cells": [
  {
   "cell_type": "code",
   "execution_count": null,
   "id": "7598cba7",
   "metadata": {},
   "outputs": [],
   "source": [
    "# Can wearable sensor data predict whether bradykinesia is present?\n",
    "# Use lowerlib and/or upperlimb movements \n",
    "# Because slowness usually happens in following conditions: \n",
    "# Reduction of automatic movements (such as swinging your arms when you walk)\n",
    "# Difficulty initiating movements (like getting up out of a chair)\n",
    "# General slowness in physical actions\n",
    "\n",
    "# Reference: \n",
    "# https://www.parkinson.org/Understanding-Parkinsons/Symptoms/Movement-Symptoms/Bradykinesia-Slowness-of-Movement\n"
   ]
  },
  {
   "cell_type": "code",
   "execution_count": 1,
   "id": "2ce2e999",
   "metadata": {},
   "outputs": [],
   "source": [
    "# Core\n",
    "import pandas as pd\n",
    "import os\n",
    "import numpy as np\n",
    "from numpy import set_printoptions, sqrt, argmax\n",
    "from numpy.random import permutation\n",
    "import scipy.stats as stats\n",
    "from itertools import compress\n",
    "import matplotlib.pyplot as plt\n",
    "import seaborn as sns\n",
    "import time\n",
    "\n",
    "#tsfresh\n",
    "import tsfresh\n",
    "from tsfresh.feature_extraction import extract_features, MinimalFCParameters, EfficientFCParameters\n",
    "from tsfresh import select_features\n",
    "from tsfresh.utilities.dataframe_functions import impute\n",
    "\n",
    "# Sklearn\n",
    "from sklearn.feature_selection import VarianceThreshold, SelectKBest, f_classif\n",
    "from sklearn.model_selection import train_test_split, GridSearchCV, RandomizedSearchCV, StratifiedKFold\n",
    "from sklearn.metrics import accuracy_score, confusion_matrix, recall_score, precision_score, f1_score, precision_recall_curve\n",
    "from sklearn.metrics import roc_auc_score, plot_confusion_matrix, plot_roc_curve, roc_curve, ConfusionMatrixDisplay\n",
    "from sklearn.utils import resample\n",
    "from sklearn.decomposition import PCA\n",
    "\n",
    "# Models\n",
    "from sklearn.linear_model import LinearRegression, LogisticRegression\n",
    "from sklearn.neighbors import KNeighborsClassifier\n",
    "from sklearn.svm import SVC\n",
    "from sklearn.tree import DecisionTreeClassifier\n",
    "from sklearn.ensemble import RandomForestClassifier\n",
    "from sklearn.naive_bayes import GaussianNB\n",
    "from xgboost import XGBClassifier\n",
    "from lightgbm import LGBMClassifier\n",
    "from catboost import CatBoostClassifier\n",
    "\n",
    "# Self-defined functions\n",
    "from Utilities import pdVarianceThreshold, pdSelectKBest, train_val_test_split\n",
    "\n",
    "import warnings\n",
    "warnings.simplefilter(action='ignore', category=FutureWarning)\n",
    "from pandas.core.common import SettingWithCopyWarning\n",
    "warnings.simplefilter(action=\"ignore\", category=SettingWithCopyWarning)"
   ]
  },
  {
   "cell_type": "code",
   "execution_count": 2,
   "id": "5bc3070c",
   "metadata": {},
   "outputs": [],
   "source": [
    "direc = \"E:\\\\WS4PD_data\"\n",
    "os.chdir(direc)\n",
    "save_path = os.path.join(direc, \"Model_validation\", \"GENEActiv_bradykinesia\")"
   ]
  },
  {
   "cell_type": "code",
   "execution_count": 3,
   "id": "2e53778a",
   "metadata": {},
   "outputs": [],
   "source": [
    "# Load score data\n",
    "score_file_path = os.path.join(direc, 'Feature_extraction','score_by_device.pkl')\n",
    "df_score = pd.read_pickle(score_file_path)"
   ]
  },
  {
   "cell_type": "code",
   "execution_count": 4,
   "id": "02cce847",
   "metadata": {},
   "outputs": [],
   "source": [
    "# load sensor features\n",
    "subject_ids = df_score.subject_id.unique()\n",
    "df_feature = pd.DataFrame()\n",
    "device = 'GENEActiv'\n",
    "for sb in subject_ids:\n",
    "    feature_file_path = os.path.join(direc,'Feature_extraction',device,sb + '_features.pkl')\n",
    "    df_feature_sb = pd.read_pickle(feature_file_path)\n",
    "    df_feature = pd.concat([df_feature,df_feature_sb])\n",
    "df_feature = df_feature.reset_index(drop=True)"
   ]
  },
  {
   "cell_type": "code",
   "execution_count": 5,
   "id": "2f04c37f",
   "metadata": {},
   "outputs": [
    {
     "name": "stdout",
     "output_type": "stream",
     "text": [
      "(6909, 69)\n"
     ]
    }
   ],
   "source": [
    "# load clinical features\n",
    "meta_file_path = os.path.join(direc, 'Feature_extraction','metadata_features.pkl')\n",
    "df_meta = pd.read_pickle(meta_file_path)\n",
    "\n",
    "# drop subject_id and task_code \n",
    "# df_meta.drop(columns = ['subject_id', 'task_code'])\n",
    "df_meta = df_meta.drop(columns = 'subject_id')\n",
    "\n",
    "# One-hot encoding clinical/ categorical features\n",
    "categorical_columns = df_meta.columns\n",
    "for column in categorical_columns:\n",
    "    tempdf = pd.get_dummies(df_meta[column], prefix=column)\n",
    "    df_meta = pd.merge(\n",
    "        left=df_meta,\n",
    "        right=tempdf,\n",
    "        left_index=True,\n",
    "        right_index=True,\n",
    "    )\n",
    "    df_meta = df_meta.drop(columns=column)\n",
    "print(df_meta.shape)"
   ]
  },
  {
   "cell_type": "code",
   "execution_count": null,
   "id": "c7cee690",
   "metadata": {},
   "outputs": [],
   "source": [
    "# Select trials from specific tasks\n",
    "# task = ['wlkgs', 'wlkgc', 'wlkgp', 'strsu', 'strsd', 'ststd']\n",
    "# task = ['ftnr', 'ftnl', 'ramr', 'raml', 'drawg', 'typng', 'ntblt', 'drnkg', 'orgpa', 'fldng']\n",
    "# task = ['stndg', 'sittg']\n",
    "# task_name = 'no voluntary movement'\n",
    "# is_tasks = df_score['task_code'].isin(task).tolist()\n",
    "# df_feature = df_feature[is_tasks]\n",
    "# df_score = df_score[is_tasks]\n",
    "# # df_meta = df_meta[is_tasks]"
   ]
  },
  {
   "cell_type": "code",
   "execution_count": null,
   "id": "a2ec3531",
   "metadata": {},
   "outputs": [],
   "source": [
    "# # Add subject id as a new feature\n",
    "# dummy_id = pd.get_dummies(df_score['subject_id'])\n",
    "\n",
    "# # Add task code as a new feature\n",
    "# dummy_task = pd.get_dummies(df_score['task_code'])\n",
    "\n",
    "# # Combine subject id and task code as meta features\n",
    "# df_meta = pd.concat([dummy_id,dummy_task], axis=1)\n",
    "\n",
    "# print(df_meta.shape)"
   ]
  },
  {
   "cell_type": "code",
   "execution_count": null,
   "id": "cc16df4a",
   "metadata": {},
   "outputs": [],
   "source": [
    "# # Try different task categories\n",
    "# # task categories\n",
    "# task_groups = [['stndg', 'sittg', 'wlkgs', 'wlkgc', 'wlkgp', 'strsu', 'strsd', 'ststd',\n",
    "#               'ftnr', 'ftnl', 'ramr', 'raml', 'drawg', 'typng', 'ntblt', 'drnkg', 'orgpa', 'fldng'],\n",
    "#                ['stndg', 'sittg'],['wlkgs', 'wlkgc', 'wlkgp', 'strsu', 'strsd', 'ststd'],\n",
    "#                ['ftnr', 'ftnl', 'ramr', 'raml', 'drawg', 'typng', 'ntblt', 'drnkg', 'orgpa', 'fldng']]\n",
    "# task_group_names = ['all', 'no_voluntary_movement','lowerlimb_movement', 'upperlimb_movement']"
   ]
  },
  {
   "cell_type": "code",
   "execution_count": null,
   "id": "2d2eed35",
   "metadata": {},
   "outputs": [],
   "source": [
    "# Train/Validation/Test datasets\n",
    "\n",
    "# train:validation:test = 0.5:0.25:0.25\n",
    "sb_train = ['6_BOS', '16_BOS', '7_NYC', '14_BOS', '8_NYC', '5_BOS', '12_NYC', '6_NYC', '17_BOS',\n",
    "           '4_BOS', '11_BOS', '10_BOS', '15_BOS', '4_NYC', '11_NYC']\n",
    "sb_val = ['8_BOS', '18_BOS', '2_NYC', '9_NYC', '3_BOS', '9_BOS']\n",
    "sb_test = ['19_BOS', '3_NYC', '7_BOS', '5_NYC', '13_BOS', '10_NYC', '12_BOS']"
   ]
  },
  {
   "cell_type": "code",
   "execution_count": 6,
   "id": "68922c74",
   "metadata": {},
   "outputs": [],
   "source": [
    "# Create a new label \n",
    "is_bradykinesia = df_score['bradykinesia_GENEActivHand'] == 'Yes'\n",
    "is_not_bradykinesia = df_score['bradykinesia_GENEActivHand'] == 'No'\n",
    "df_score['newBradykinesia_GENEActivHand'] = 3 # nan is 3\n",
    "df_score['newBradykinesia_GENEActivHand'].loc[is_bradykinesia] = 1\n",
    "df_score['newBradykinesia_GENEActivHand'].loc[is_not_bradykinesia] = 0\n",
    "score = df_score['newBradykinesia_GENEActivHand'].values\n",
    "\n",
    "title_name = 'is bradykinesia'\n",
    "save_name = 'is_bradykinesia'\n",
    "xtick_name = [0,1,2]\n",
    "\n",
    "bin_range = range(4)"
   ]
  },
  {
   "cell_type": "code",
   "execution_count": 7,
   "id": "ed1d865c",
   "metadata": {},
   "outputs": [
    {
     "data": {
      "text/plain": [
       "array([3095, 1401, 2413], dtype=int64)"
      ]
     },
     "execution_count": 7,
     "metadata": {},
     "output_type": "execute_result"
    },
    {
     "data": {
      "image/png": "[encoded data removed]",
      "text/plain": [
       "<Figure size 432x288 with 1 Axes>"
      ]
     },
     "metadata": {
      "needs_background": "light"
     },
     "output_type": "display_data"
    }
   ],
   "source": [
    "# Get new score distribution\n",
    "score = df_score['newBradykinesia_GENEActivHand']\n",
    "    \n",
    "# score distribution\n",
    "counts, bin_edges = np.histogram(score,bins = bin_range)\n",
    "fig, ax = plt.subplots()\n",
    "ax.hist(score, bins = bin_range, histtype='bar', color = 'grey')\n",
    "ax.set_xlabel(title_name)\n",
    "ax.set_ylabel('Count')\n",
    "ax.set_xticks([0.5,1.5,2.5], labels = ['No', 'Yes', 'NaN'])\n",
    "# plt.savefig(os.path.join(save_path,\"Tremor_score_distribution\"))\n",
    "counts"
   ]
  },
  {
   "cell_type": "code",
   "execution_count": 8,
   "id": "a883054b",
   "metadata": {},
   "outputs": [
    {
     "name": "stdout",
     "output_type": "stream",
     "text": [
      "(4496, 12)\n",
      "(4496, 2262)\n",
      "(4496, 69)\n"
     ]
    }
   ],
   "source": [
    "# Drop bradykinesia score is NaN\n",
    "is_nan = df_score['newBradykinesia_GENEActivHand'] == 3\n",
    "df_score = df_score[~is_nan]\n",
    "df_feature = df_feature[~is_nan]\n",
    "df_meta = df_meta[~is_nan]\n",
    "print(df_score.shape)\n",
    "print(df_feature.shape)\n",
    "print(df_meta.shape)"
   ]
  },
  {
   "cell_type": "code",
   "execution_count": 9,
   "id": "d5b7c713",
   "metadata": {},
   "outputs": [
    {
     "name": "stdout",
     "output_type": "stream",
     "text": [
      "upsampled features:(6190, 2262)\n",
      "upsampled scores:(6190, 12)\n",
      "upsampled meta:(6190, 69)\n"
     ]
    }
   ],
   "source": [
    "# Up-sampling\n",
    "upsampled_df_feature = pd.DataFrame()\n",
    "upsampled_df_score = pd.DataFrame()\n",
    "upsample_size = round(max(counts))\n",
    "upsampled_df_meta = pd.DataFrame()\n",
    "for s,c in enumerate(counts[0:2]):\n",
    "    if c == max(counts[0:2]):\n",
    "        upsampled_feature_group = df_feature.loc[score==s]\n",
    "        upsampled_score_group = df_score.loc[score==s]\n",
    "        upsampled_meta_group = df_meta.loc[score==s]\n",
    "    else:\n",
    "        df_feature_group = df_feature.loc[score==s]\n",
    "        df_score_group = df_score.loc[score==s]\n",
    "        df_meta_group = df_meta.loc[score==s]\n",
    "        idx_list = df_feature_group.index.tolist()\n",
    "        resample_idx = resample(idx_list, replace=True, n_samples=upsample_size, random_state=27)\n",
    "        upsampled_feature_group = df_feature_group.loc[resample_idx]\n",
    "        upsampled_score_group = df_score_group.loc[resample_idx]\n",
    "        upsampled_meta_group = df_meta_group.loc[resample_idx]\n",
    "\n",
    "    upsampled_df_feature = pd.concat([upsampled_df_feature, upsampled_feature_group])\n",
    "    upsampled_df_score = pd.concat([upsampled_df_score, upsampled_score_group])\n",
    "    upsampled_df_meta = pd.concat([upsampled_df_meta, upsampled_meta_group])\n",
    "    \n",
    "upsampled_df_feature = upsampled_df_feature.reset_index(drop=True)\n",
    "upsampled_df_score = upsampled_df_score.reset_index(drop=True)\n",
    "upsampled_df_meta = upsampled_df_meta.reset_index(drop=True)\n",
    "\n",
    "print('upsampled features:' + str(upsampled_df_feature.shape))\n",
    "print('upsampled scores:' + str(upsampled_df_score.shape))\n",
    "print('upsampled meta:' + str(upsampled_df_meta.shape))\n",
    "# Try other upsmapling methods:\n",
    "# from imblearn.over_sampling import SMOTE"
   ]
  },
  {
   "cell_type": "code",
   "execution_count": 10,
   "id": "da56d74d",
   "metadata": {},
   "outputs": [],
   "source": [
    "df_feature = upsampled_df_feature\n",
    "df_score = upsampled_df_score\n",
    "df_meta = upsampled_df_meta"
   ]
  },
  {
   "cell_type": "code",
   "execution_count": 32,
   "id": "c41b5e1c",
   "metadata": {},
   "outputs": [],
   "source": [
    "# Classifiers\n",
    "classifiers = {\n",
    "    \"LogisticRegression\" : LogisticRegression(random_state=0, solver = 'liblinear'),\n",
    "    \"KNN\" : KNeighborsClassifier(),\n",
    "#     \"SVC\" : SVC(random_state=0, probability=True),\n",
    "    \"RandomForest\" : RandomForestClassifier(random_state=0),\n",
    "#     \"XGBoost\" : XGBClassifier(random_state=0, use_label_encoder=False, eval_metric='logloss'), # XGBoost takes too long\n",
    "#     \"LGBM\" : LGBMClassifier(random_state=0),\n",
    "#     \"CatBoost\" : CatBoostClassifier(random_state=0, verbose=False),\n",
    "    \"NaiveBayes\": GaussianNB()\n",
    "}\n",
    "\n",
    "# Grids for grid search\n",
    "LR_grid = {'penalty': ['l1','l2'],\n",
    "           'C': [0.25, 0.5, 0.75, 1, 1.25, 1.5],\n",
    "           'max_iter': [50, 100, 150]}\n",
    "\n",
    "KNN_grid = {'n_neighbors': [3, 5, 7, 9],\n",
    "            'p': [1, 2]}\n",
    "\n",
    "# SVC_grid = {'C': [0.25, 0.5, 0.75, 1, 1.25, 1.5],\n",
    "#             'kernel': ['linear', 'rbf'],\n",
    "#             'gamma': ['scale', 'auto']}\n",
    "\n",
    "RF_grid = {'n_estimators': [50, 100, 150, 200, 250, 300],\n",
    "        'max_depth': [2, 4, 6, 8, 10, 12]}\n",
    "\n",
    "boosted_grid = {'n_estimators': [50, 100, 150, 200],\n",
    "        'max_depth': [4, 8, 12],\n",
    "        'learning_rate': [0.05, 0.1, 0.15]}\n",
    "\n",
    "NB_grid={'var_smoothing': [1e-10, 1e-9, 1e-8, 1e-7]}\n",
    "\n",
    "# Dictionary of all grids\n",
    "grid = {\n",
    "    \"LogisticRegression\" : LR_grid,\n",
    "    \"KNN\" : KNN_grid,\n",
    "#     \"SVC\" : SVC_grid,\n",
    "    \"RandomForest\" : RF_grid,\n",
    "#     \"XGBoost\" : boosted_grid,\n",
    "#     \"LGBM\" : boosted_grid,\n",
    "#     \"CatBoost\" : boosted_grid,\n",
    "    \"NaiveBayes\": NB_grid\n",
    "}"
   ]
  },
  {
   "cell_type": "code",
   "execution_count": 33,
   "id": "89756571",
   "metadata": {},
   "outputs": [],
   "source": [
    "## Get data\n",
    "# Combine sensor features with clinical features\n",
    "df = pd.concat([df_feature, df_meta], axis=1) \n",
    "# Get scores\n",
    "score = df_score['newBradykinesia_GENEActivHand']\n",
    "\n",
    "## Set parameters\n",
    "varThreshold = 0.0001\n",
    "k_num = 10\n",
    "\n",
    "# Remove features with nan\n",
    "df2 = df.dropna(axis=1)\n",
    "\n",
    "# Remove features with zero variance\n",
    "df3 = pdVarianceThreshold(df2,varThreshold)\n",
    "\n",
    "# Univariant selection\n",
    "df4 = pdSelectKBest(df3,score,k_num)\n",
    "\n",
    "# Train/Validation/Test Split\n",
    "subject_id = df_score['subject_id']\n",
    "X_train_valid, y_train_valid, X_train, y_train,  X_valid, y_valid, X_test, y_test = train_val_test_split(df4, score, subject_id)\n"
   ]
  },
  {
   "cell_type": "code",
   "execution_count": 43,
   "id": "342c01f0",
   "metadata": {},
   "outputs": [
    {
     "name": "stdout",
     "output_type": "stream",
     "text": [
      "Model: LogisticRegression\n",
      "Training time (mins): 0.09\n",
      "\n",
      "Model: KNN\n",
      "Training time (mins): 0.01\n",
      "\n",
      "Model: RandomForest\n",
      "Training time (mins): 0.35\n",
      "\n",
      "Model: NaiveBayes\n",
      "Training time (mins): 0.0\n",
      "\n"
     ]
    }
   ],
   "source": [
    "# Classifier evaluation\n",
    "i=0\n",
    "clf_best_params=classifiers.copy()\n",
    "valid_scores=pd.DataFrame({'Classifer':classifiers.keys(),\n",
    "                           'Accuracy': np.zeros(len(classifiers)),\n",
    "                           'F1_macro': np.zeros(len(classifiers)),\n",
    "                           'F1_micro': np.zeros(len(classifiers)),\n",
    "                           'F1_weighted': np.zeros(len(classifiers)),\n",
    "                           'F1_0': np.zeros(len(classifiers)),\n",
    "                           'F1_1': np.zeros(len(classifiers)),                               \n",
    "                           'Precision_0': np.zeros(len(classifiers)),\n",
    "                           'Precision_1': np.zeros(len(classifiers)),\n",
    "                           'Recall_0': np.zeros(len(classifiers)),\n",
    "                           'Recall_1': np.zeros(len(classifiers)),\n",
    "                           'Training time': np.zeros(len(classifiers))})\n",
    "for key, classifier in classifiers.items():\n",
    "    start = time.time()\n",
    "    clf = GridSearchCV(estimator=classifier, param_grid=grid[key], n_jobs=-1, cv=None)\n",
    "\n",
    "    # Train and score\n",
    "    clf.fit(X_train, y_train)\n",
    "    y_pred = clf.predict(X_valid)\n",
    "    Accuracy = accuracy_score(y_valid, y_pred).round(2)\n",
    "    F1_macro = f1_score(y_valid, y_pred, average = 'macro').round(2)\n",
    "    F1_micro = f1_score(y_valid, y_pred, average = 'micro').round(2)\n",
    "    F1_weighted = f1_score(y_valid, y_pred, average = 'weighted').round(2)\n",
    "    F1_class = f1_score(y_valid, y_pred, average = None).round(2)\n",
    "    Precision = precision_score(y_valid, y_pred, average = None).round(2)\n",
    "    Recall = recall_score(y_valid, y_pred, average = None).round(2)                                         \n",
    "\n",
    "    valid_scores.iloc[i,1]=Accuracy\n",
    "    valid_scores.iloc[i,2]=F1_macro\n",
    "    valid_scores.iloc[i,3]=F1_micro\n",
    "    valid_scores.iloc[i,4]=F1_weighted\n",
    "    valid_scores.iloc[i,5]=F1_class[0]\n",
    "    valid_scores.iloc[i,6]=F1_class[1]\n",
    "    valid_scores.iloc[i,7]=Precision[0]\n",
    "    valid_scores.iloc[i,8]=Precision[1] \n",
    "    valid_scores.iloc[i,9]=Recall[0]\n",
    "    valid_scores.iloc[i,10]=Recall[1]\n",
    "\n",
    "    # Save trained model\n",
    "    clf_best_params[key]=clf.best_params_\n",
    "\n",
    "    # Print iteration and training time\n",
    "    stop = time.time()\n",
    "    valid_scores.iloc[i,11]=np.round((stop - start)/60, 2)\n",
    "\n",
    "\n",
    "    print('Model:', key)\n",
    "    print('Training time (mins):', valid_scores.iloc[i,11])\n",
    "    print('')\n",
    "    i+=1"
   ]
  },
  {
   "cell_type": "code",
   "execution_count": 51,
   "id": "f0e26bd6",
   "metadata": {},
   "outputs": [],
   "source": [
    "recall_1_threshold = 0.7\n",
    "\n",
    "# Select best classifier based on recall threshold for the positive class and F1 score\n",
    "is_good_recall_1 = valid_scores['Recall_1'] > recall_1_threshold\n",
    "if sum(is_good_recall_1) == 0: # recall 1 is below the threshold \n",
    "    best_recall_1 = valid_scores['Recall_1'].max()\n",
    "    is_best = valid_scores['Recall_1'] == best_recall_1\n",
    "    if sum(is_best)>1: # duplicate max recall scores -> compare F1 score\n",
    "        max_index = valid_scores['F1_micro'].loc[is_best].idxmax()\n",
    "    else:\n",
    "        max_index = [index for index, element in enumerate(is_best) if element] \n",
    "        max_index = max_index[0]\n",
    "    best_clf = valid_scores['Classifer'].iloc[max_index]\n",
    "    training_time = valid_scores['Training time'].iloc[max_index]\n",
    "    best_clf_params = clf_best_params[best_clf]\n",
    "    best_F1_micro = valid_scores['F1_micro'].iloc[max_index]\n",
    "\n",
    "else: # recall 1 is above the threshold -> select the best classifier based on F1 score\n",
    "    best_F1_micro = valid_scores['F1_micro'].loc[is_good_recall_1].max()\n",
    "    is_best = valid_scores['F1_micro'] == best_F1_micro\n",
    "    if sum(is_best)>1: # duplicate max F1 scores -> compare recall score\n",
    "        max_index = valid_scores['Recall_1'].loc[is_best].idxmax()\n",
    "    else:\n",
    "        max_index = [index for index, element in enumerate(is_best) if element] \n",
    "        max_index = max_index[0]\n",
    "    best_clf = valid_scores['Classifer'].iloc[max_index]\n",
    "    training_time = valid_scores['Training time'].iloc[max_index]\n",
    "    best_clf_params = clf_best_params[best_clf] \n",
    "    best_recall_1 = valid_scores['Recall_1'].iloc[max_index]\n",
    "\n",
    "clf_summary = pd.DataFrame({'title': [title_name],\n",
    "         'max_sample_size': [max(counts)],\n",
    "         'upsample_size': [upsample_size],\n",
    "         'best_F1_micro': [best_F1_micro],            \n",
    "         'best_recall_1': [best_recall_1],\n",
    "         'best_clf': [best_clf],\n",
    "         'best_clf_params': [best_clf_params],                         \n",
    "         'valid_scores': [valid_scores]},\n",
    "          index=[0])\n"
   ]
  },
  {
   "cell_type": "code",
   "execution_count": 52,
   "id": "0f9f7365",
   "metadata": {},
   "outputs": [
    {
     "data": {
      "text/html": [
       "<div>\n",
       "<style scoped>\n",
       "    .dataframe tbody tr th:only-of-type {\n",
       "        vertical-align: middle;\n",
       "    }\n",
       "\n",
       "    .dataframe tbody tr th {\n",
       "        vertical-align: top;\n",
       "    }\n",
       "\n",
       "    .dataframe thead th {\n",
       "        text-align: right;\n",
       "    }\n",
       "</style>\n",
       "<table border=\"1\" class=\"dataframe\">\n",
       "  <thead>\n",
       "    <tr style=\"text-align: right;\">\n",
       "      <th></th>\n",
       "      <th>title</th>\n",
       "      <th>max_sample_size</th>\n",
       "      <th>upsample_size</th>\n",
       "      <th>best_F1_micro</th>\n",
       "      <th>best_recall_1</th>\n",
       "      <th>best_clf</th>\n",
       "      <th>best_clf_params</th>\n",
       "      <th>valid_scores</th>\n",
       "    </tr>\n",
       "  </thead>\n",
       "  <tbody>\n",
       "    <tr>\n",
       "      <th>0</th>\n",
       "      <td>is bradykinesia</td>\n",
       "      <td>3095</td>\n",
       "      <td>3095</td>\n",
       "      <td>0.73</td>\n",
       "      <td>0.71</td>\n",
       "      <td>NaiveBayes</td>\n",
       "      <td>{'var_smoothing': 1e-10}</td>\n",
       "      <td>Classifer  Accuracy  F1_macro  F1_...</td>\n",
       "    </tr>\n",
       "  </tbody>\n",
       "</table>\n",
       "</div>"
      ],
      "text/plain": [
       "             title  max_sample_size  upsample_size  best_F1_micro  \\\n",
       "0  is bradykinesia             3095           3095           0.73   \n",
       "\n",
       "   best_recall_1    best_clf           best_clf_params  \\\n",
       "0           0.71  NaiveBayes  {'var_smoothing': 1e-10}   \n",
       "\n",
       "                                        valid_scores  \n",
       "0              Classifer  Accuracy  F1_macro  F1_...  "
      ]
     },
     "execution_count": 52,
     "metadata": {},
     "output_type": "execute_result"
    }
   ],
   "source": [
    "clf_summary"
   ]
  },
  {
   "cell_type": "code",
   "execution_count": 53,
   "id": "29101d5b",
   "metadata": {},
   "outputs": [
    {
     "data": {
      "text/html": [
       "<div>\n",
       "<style scoped>\n",
       "    .dataframe tbody tr th:only-of-type {\n",
       "        vertical-align: middle;\n",
       "    }\n",
       "\n",
       "    .dataframe tbody tr th {\n",
       "        vertical-align: top;\n",
       "    }\n",
       "\n",
       "    .dataframe thead th {\n",
       "        text-align: right;\n",
       "    }\n",
       "</style>\n",
       "<table border=\"1\" class=\"dataframe\">\n",
       "  <thead>\n",
       "    <tr style=\"text-align: right;\">\n",
       "      <th></th>\n",
       "      <th>Classifer</th>\n",
       "      <th>Accuracy</th>\n",
       "      <th>F1_macro</th>\n",
       "      <th>F1_micro</th>\n",
       "      <th>F1_weighted</th>\n",
       "      <th>F1_0</th>\n",
       "      <th>F1_1</th>\n",
       "      <th>Precision_0</th>\n",
       "      <th>Precision_1</th>\n",
       "      <th>Recall_0</th>\n",
       "      <th>Recall_1</th>\n",
       "      <th>Training time</th>\n",
       "    </tr>\n",
       "  </thead>\n",
       "  <tbody>\n",
       "    <tr>\n",
       "      <th>0</th>\n",
       "      <td>LogisticRegression</td>\n",
       "      <td>0.70</td>\n",
       "      <td>0.70</td>\n",
       "      <td>0.70</td>\n",
       "      <td>0.71</td>\n",
       "      <td>0.74</td>\n",
       "      <td>0.66</td>\n",
       "      <td>0.78</td>\n",
       "      <td>0.61</td>\n",
       "      <td>0.70</td>\n",
       "      <td>0.70</td>\n",
       "      <td>0.09</td>\n",
       "    </tr>\n",
       "    <tr>\n",
       "      <th>1</th>\n",
       "      <td>KNN</td>\n",
       "      <td>0.71</td>\n",
       "      <td>0.70</td>\n",
       "      <td>0.71</td>\n",
       "      <td>0.71</td>\n",
       "      <td>0.75</td>\n",
       "      <td>0.66</td>\n",
       "      <td>0.78</td>\n",
       "      <td>0.62</td>\n",
       "      <td>0.71</td>\n",
       "      <td>0.70</td>\n",
       "      <td>0.01</td>\n",
       "    </tr>\n",
       "    <tr>\n",
       "      <th>2</th>\n",
       "      <td>RandomForest</td>\n",
       "      <td>0.75</td>\n",
       "      <td>0.73</td>\n",
       "      <td>0.75</td>\n",
       "      <td>0.74</td>\n",
       "      <td>0.81</td>\n",
       "      <td>0.65</td>\n",
       "      <td>0.76</td>\n",
       "      <td>0.74</td>\n",
       "      <td>0.86</td>\n",
       "      <td>0.58</td>\n",
       "      <td>0.35</td>\n",
       "    </tr>\n",
       "    <tr>\n",
       "      <th>3</th>\n",
       "      <td>NaiveBayes</td>\n",
       "      <td>0.73</td>\n",
       "      <td>0.72</td>\n",
       "      <td>0.73</td>\n",
       "      <td>0.73</td>\n",
       "      <td>0.76</td>\n",
       "      <td>0.67</td>\n",
       "      <td>0.79</td>\n",
       "      <td>0.64</td>\n",
       "      <td>0.74</td>\n",
       "      <td>0.71</td>\n",
       "      <td>0.00</td>\n",
       "    </tr>\n",
       "  </tbody>\n",
       "</table>\n",
       "</div>"
      ],
      "text/plain": [
       "            Classifer  Accuracy  F1_macro  F1_micro  F1_weighted  F1_0  F1_1  \\\n",
       "0  LogisticRegression      0.70      0.70      0.70         0.71  0.74  0.66   \n",
       "1                 KNN      0.71      0.70      0.71         0.71  0.75  0.66   \n",
       "2        RandomForest      0.75      0.73      0.75         0.74  0.81  0.65   \n",
       "3          NaiveBayes      0.73      0.72      0.73         0.73  0.76  0.67   \n",
       "\n",
       "   Precision_0  Precision_1  Recall_0  Recall_1  Training time  \n",
       "0         0.78         0.61      0.70      0.70           0.09  \n",
       "1         0.78         0.62      0.71      0.70           0.01  \n",
       "2         0.76         0.74      0.86      0.58           0.35  \n",
       "3         0.79         0.64      0.74      0.71           0.00  "
      ]
     },
     "execution_count": 53,
     "metadata": {},
     "output_type": "execute_result"
    }
   ],
   "source": [
    "valid_scores"
   ]
  },
  {
   "cell_type": "code",
   "execution_count": 54,
   "id": "698b158f",
   "metadata": {},
   "outputs": [
    {
     "data": {
      "image/png": "[encoded data removed]",
      "text/plain": [
       "<Figure size 432x288 with 2 Axes>"
      ]
     },
     "metadata": {
      "needs_background": "light"
     },
     "output_type": "display_data"
    }
   ],
   "source": [
    "cm = confusion_matrix(y_valid, y_pred, labels=clf.classes_)\n",
    "disp = ConfusionMatrixDisplay(confusion_matrix=cm, display_labels=clf.classes_)\n",
    "disp.plot()\n",
    "plt.show()"
   ]
  },
  {
   "cell_type": "code",
   "execution_count": 55,
   "id": "f609e89b",
   "metadata": {},
   "outputs": [
    {
     "name": "stdout",
     "output_type": "stream",
     "text": [
      "Best Threshold=0.941297, G-Mean=0.754\n"
     ]
    },
    {
     "data": {
      "image/png": "[encoded data removed]",
      "text/plain": [
       "<Figure size 432x288 with 1 Axes>"
      ]
     },
     "metadata": {
      "needs_background": "light"
     },
     "output_type": "display_data"
    }
   ],
   "source": [
    "# ROC curve\n",
    "# predict probabilities\n",
    "yhat = clf.predict_proba(X_valid)\n",
    "# keep probabilities for the positive outcome only\n",
    "yhat = yhat[:, 1]\n",
    "# calculate roc curves\n",
    "fpr, tpr, thresholds = roc_curve(y_valid, yhat)\n",
    "# calculate the g-mean for each threshold\n",
    "gmeans = sqrt(tpr * (1-fpr))\n",
    "# locate the index of the largest g-mean\n",
    "ix = argmax(gmeans)\n",
    "print('Best Threshold=%f, G-Mean=%.3f' % (thresholds[ix], gmeans[ix]))\n",
    "# plot the roc curve for the model\n",
    "plt.plot([0,1], [0,1], linestyle='--', label='No Skill')\n",
    "plt.plot(fpr, tpr, marker='.', label=best_clf)\n",
    "plt.scatter(fpr[ix], tpr[ix], marker='o', color='black', label='Best')\n",
    "# axis labels\n",
    "plt.xlabel('False Positive Rate')\n",
    "plt.ylabel('True Positive Rate')\n",
    "plt.legend()\n",
    "# show the plot\n",
    "plt.show()"
   ]
  },
  {
   "cell_type": "code",
   "execution_count": 56,
   "id": "bc20f38f",
   "metadata": {},
   "outputs": [
    {
     "data": {
      "text/plain": [
       "(array([505.,  57.,  35.,  35.,  15.,  15.,  14.,  12.,   8.,   5.,   6.,\n",
       "          9.,   6.,  17.,  10.,   9.,  13.,  18.,  24., 379.,  58.]),\n",
       " array([0.  , 0.05, 0.1 , 0.15, 0.2 , 0.25, 0.3 , 0.35, 0.4 , 0.45, 0.5 ,\n",
       "        0.55, 0.6 , 0.65, 0.7 , 0.75, 0.8 , 0.85, 0.9 , 0.95, 1.  , 1.05]),\n",
       " <BarContainer object of 21 artists>)"
      ]
     },
     "execution_count": 56,
     "metadata": {},
     "output_type": "execute_result"
    },
    {
     "data": {
      "image/png": "[encoded data removed]",
      "text/plain": [
       "<Figure size 432x288 with 1 Axes>"
      ]
     },
     "metadata": {
      "needs_background": "light"
     },
     "output_type": "display_data"
    }
   ],
   "source": [
    "plt.hist(yhat, bins = np.arange(0, 1.1, 0.05))\n"
   ]
  },
  {
   "cell_type": "code",
   "execution_count": 57,
   "id": "e12d2e28",
   "metadata": {},
   "outputs": [
    {
     "name": "stdout",
     "output_type": "stream",
     "text": [
      "Best Threshold=0.941297, F-Score=0.707\n"
     ]
    },
    {
     "data": {
      "image/png": "[encoded data removed]",
      "text/plain": [
       "<Figure size 432x288 with 1 Axes>"
      ]
     },
     "metadata": {
      "needs_background": "light"
     },
     "output_type": "display_data"
    }
   ],
   "source": [
    "# PR curve\n",
    "precision, recall, thresholds = precision_recall_curve(y_valid, yhat)\n",
    "# convert to f score\n",
    "fscore = (2 * precision * recall) / (precision + recall)\n",
    "# locate the index of the largest f score\n",
    "ix = argmax(fscore)\n",
    "print('Best Threshold=%f, F-Score=%.3f' % (thresholds[ix], fscore[ix]))\n",
    "# plot the pr curve for the model\n",
    "no_skill = len(y_valid[y_valid==1]) / len(y_valid)\n",
    "plt.plot([0,1], [no_skill,no_skill], linestyle='--', label='No Skill')\n",
    "plt.plot(recall, precision, marker='.', label=best_clf)\n",
    "plt.scatter(recall[ix], precision[ix], marker='o', color='black', label='Best')\n",
    "# axis labels\n",
    "plt.xlabel('Recall')\n",
    "plt.ylabel('Precision')\n",
    "plt.legend()\n",
    "# show the plot\n",
    "plt.show()\n"
   ]
  },
  {
   "cell_type": "code",
   "execution_count": 63,
   "id": "0f06e5c9",
   "metadata": {},
   "outputs": [],
   "source": [
    "is_good_recall = recall > recall_1_threshold\n",
    "good_recall_idx = [index for index, element in enumerate(is_good_recall) if element]\n",
    "ix = good_recall_idx[-1]\n",
    "new_y_pred = yhat > thresholds[ix]\n",
    "Accuracy = accuracy_score(y_valid, y_pred).round(2)\n",
    "F1_micro = f1_score(y_valid, new_y_pred, average = 'micro').round(2)\n",
    "Precision = precision_score(y_valid, new_y_pred, average = None).round(2)\n",
    "Recall = recall_score(y_valid, new_y_pred, average = None).round(2)                                         \n"
   ]
  },
  {
   "cell_type": "code",
   "execution_count": 70,
   "id": "b93545bf",
   "metadata": {},
   "outputs": [
    {
     "data": {
      "text/plain": [
       "0.74"
      ]
     },
     "execution_count": 70,
     "metadata": {},
     "output_type": "execute_result"
    }
   ],
   "source": [
    "F1_micro"
   ]
  },
  {
   "cell_type": "code",
   "execution_count": 71,
   "id": "e084da80",
   "metadata": {},
   "outputs": [
    {
     "data": {
      "text/plain": [
       "array([0.79, 0.67])"
      ]
     },
     "execution_count": 71,
     "metadata": {},
     "output_type": "execute_result"
    }
   ],
   "source": [
    "Precision"
   ]
  },
  {
   "cell_type": "code",
   "execution_count": 72,
   "id": "851d1298",
   "metadata": {},
   "outputs": [
    {
     "data": {
      "text/plain": [
       "array([0.77, 0.7 ])"
      ]
     },
     "execution_count": 72,
     "metadata": {},
     "output_type": "execute_result"
    }
   ],
   "source": [
    "Recall"
   ]
  },
  {
   "cell_type": "code",
   "execution_count": null,
   "id": "66d65686",
   "metadata": {},
   "outputs": [],
   "source": []
  },
  {
   "cell_type": "code",
   "execution_count": null,
   "id": "1b727c51",
   "metadata": {},
   "outputs": [],
   "source": []
  },
  {
   "cell_type": "code",
   "execution_count": null,
   "id": "0f51ee91",
   "metadata": {},
   "outputs": [],
   "source": [
    "## sensor features\n",
    "# Remove features with nan\n",
    "df_feature2 = df_feature.dropna(axis=1)\n",
    "\n",
    "# Remove features with zero variance\n",
    "sel = VarianceThreshold(threshold=0.0001)\n",
    "df_feature3 = sel.fit_transform(df_feature2)\n",
    "filter3 = sel.get_support()\n",
    "feature_names2 = df_feature2.columns\n",
    "feature_names3 = feature_names2[filter3]\n",
    "df_feature3 = pd.DataFrame(df_feature3, columns=feature_names3)\n",
    "\n",
    "# Get scores\n",
    "score = df_score['newBradykinesia_GENEActivHand']\n",
    "\n",
    "# Univariate Selection\n",
    "test = SelectKBest(score_func=f_classif, k=30)\n",
    "df_feature4 = test.fit_transform(df_feature3, score)\n",
    "filter4 = test.get_support()\n",
    "feature_names4 = feature_names3[filter4]\n",
    "df_feature4 = pd.DataFrame(df_feature4, columns=feature_names4)\n",
    "\n",
    "# PCA\n",
    "X_feature=df_feature4.values\n",
    "pca = PCA(n_components=10)\n",
    "X_new = pca.fit_transform(X_feature)\n",
    "\n",
    "# ## clinical features\n",
    "# df_meta2 = df_meta.dropna(axis=1)\n",
    "# df_meta3 = sel.fit_transform(df_meta2)\n",
    "# filter3 = sel.get_support()\n",
    "# meta_names2 = df_meta2.columns\n",
    "# meta_names3 = meta_names2[filter3]\n",
    "# df_meta3 = pd.DataFrame(df_meta3, columns=meta_names3)\n",
    "\n",
    "# # Univariate Selection\n",
    "# test = SelectKBest(score_func=f_classif, k=20)\n",
    "# df_meta4 = test.fit_transform(df_meta3, score)\n",
    "# filter4 = test.get_support()\n",
    "# meta_names4 = meta_names3[filter4]\n",
    "# df_meta4 = pd.DataFrame(df_meta4, columns=meta_names4)\n",
    "\n",
    "# # PCA\n",
    "# X_meta=df_meta4.values\n",
    "# pca = PCA(n_components=5)\n",
    "# X_meta_new = pca.fit_transform(X_meta)\n",
    "\n",
    "# Combine waveform feature with task code feature\n",
    "# X_meta_new = df_meta.to_numpy()\n",
    "# X_new = np.concatenate((X_feature_new, X_meta_new), axis=1)\n",
    "\n",
    "# Train/Validation/Test Split\n",
    "is_train = df_score['subject_id'].isin(sb_train).tolist()\n",
    "is_val = df_score['subject_id'].isin(sb_val).tolist()\n",
    "is_test = df_score['subject_id'].isin(sb_test).tolist()\n",
    "is_train_val = df_score['subject_id'].isin(sb_train) | df_score['subject_id'].isin(sb_val)\n",
    "is_train_val = is_train_val.tolist()\n",
    "\n",
    "X_train_valid = X_new[is_train_val,:]\n",
    "y_train_valid = score[is_train_val]\n",
    "X_train = X_new[is_train,:]\n",
    "y_train = score[is_train]\n",
    "X_valid = X_new[is_val,:]\n",
    "y_valid = score[is_val]\n",
    "X_test = X_new[is_test,:]\n",
    "y_test = score[is_test]\n",
    "\n",
    "# Classifier evaluation\n",
    "i=0\n",
    "clf_best_params=classifiers.copy()\n",
    "valid_scores=pd.DataFrame({'Classifer':classifiers.keys(),\n",
    "                           'Accuracy': np.zeros(len(classifiers)),\n",
    "                           'F1_macro': np.zeros(len(classifiers)),\n",
    "                           'F1_micro': np.zeros(len(classifiers)),\n",
    "                           'F1_weighted': np.zeros(len(classifiers)),\n",
    "                           'F1_0': np.zeros(len(classifiers)),\n",
    "                           'F1_1': np.zeros(len(classifiers)),                               \n",
    "                           'Precision_0': np.zeros(len(classifiers)),\n",
    "                           'Precision_1': np.zeros(len(classifiers)),\n",
    "                           'Recall_0': np.zeros(len(classifiers)),\n",
    "                           'Recall_1': np.zeros(len(classifiers)),\n",
    "                           'Training time': np.zeros(len(classifiers))})\n",
    "\n",
    "for key, classifier in classifiers.items():\n",
    "    start = time.time()\n",
    "    clf = GridSearchCV(estimator=classifier, param_grid=grid[key], n_jobs=-1, cv=None)\n",
    "\n",
    "    # Train and score\n",
    "    clf.fit(X_train, y_train)\n",
    "    y_pred = clf.predict(X_valid)\n",
    "    Accuracy = accuracy_score(y_valid, y_pred).round(2)\n",
    "    F1_macro = f1_score(y_valid, y_pred, average = 'macro').round(2)\n",
    "    F1_micro = f1_score(y_valid, y_pred, average = 'micro').round(2)\n",
    "    F1_weighted = f1_score(y_valid, y_pred, average = 'weighted').round(2)\n",
    "    F1_class = f1_score(y_valid, y_pred, average = None).round(2)\n",
    "    Precision = precision_score(y_valid, y_pred, average = None).round(2)\n",
    "    Recall = recall_score(y_valid, y_pred, average = None).round(2)                                         \n",
    "\n",
    "    valid_scores.iloc[i,1]=Accuracy\n",
    "    valid_scores.iloc[i,2]=F1_macro\n",
    "    valid_scores.iloc[i,3]=F1_micro\n",
    "    valid_scores.iloc[i,4]=F1_weighted\n",
    "    valid_scores.iloc[i,5]=F1_class[0]\n",
    "    valid_scores.iloc[i,6]=F1_class[1]\n",
    "    valid_scores.iloc[i,7]=Precision[0]\n",
    "    valid_scores.iloc[i,8]=Precision[1] \n",
    "    valid_scores.iloc[i,9]=Recall[0]\n",
    "    valid_scores.iloc[i,10]=Recall[1]\n",
    "\n",
    "    # Save trained model\n",
    "    clf_best_params[key]=clf.best_params_\n",
    "\n",
    "    # Print iteration and training time\n",
    "    stop = time.time()\n",
    "    valid_scores.iloc[i,11]=np.round((stop - start)/60, 2)\n",
    "\n",
    "\n",
    "    print('Model:', key)\n",
    "    print('Training time (mins):', valid_scores.iloc[i,11])\n",
    "    print('')\n",
    "    i+=1\n",
    "\n",
    "# Select best classifier based on recall threshold for the positive class and F1 score\n",
    "is_good_recall_1 = valid_scores['Recall_1'] > recall_1_threshold\n",
    "if sum(is_good_recall_1) == 0: # recall 1 is below the threshold \n",
    "    best_recall_1 = valid_scores['Recall_1'].max()\n",
    "    is_best = valid_scores['Recall_1'] == best_recall_1\n",
    "    if sum(is_best)>1: # duplicate max recall scores -> compare F1 score\n",
    "        max_index = valid_scores['F1_micro'].loc[is_best].idxmax()\n",
    "    else:\n",
    "        max_index = valid_scores['Recall_1'].idxmax() \n",
    "    best_clf = valid_scores['Classifer'].iloc[max_index]\n",
    "    training_time = valid_scores['Training time'].iloc[max_index]\n",
    "    best_clf_params = clf_best_params[best_clf]\n",
    "    best_F1_micro = valid_scores['F1_micro'].iloc[max_index]\n",
    "\n",
    "else: # recall 1 is above the threshold -> select the best classifier based on F1 score\n",
    "    best_F1_micro = valid_scores['F1_micro'].max()\n",
    "    is_best = valid_scores['F1_micro'] == best_F1_micro\n",
    "    if sum(is_best)>1: # duplicate max F1 scores -> compare recall score\n",
    "        max_index = valid_scores['Recall_1'].loc[is_best].idxmax()\n",
    "    else:\n",
    "        max_index = valid_scores['F1_micro'].idxmax() \n",
    "    best_clf = valid_scores['Classifer'].iloc[max_index]\n",
    "    training_time = valid_scores['Training time'].iloc[max_index]\n",
    "    best_clf_params = clf_best_params[best_clf] \n",
    "    best_recall_1 = valid_scores['Recall_1'].iloc[max_index]\n",
    "\n",
    "clf_summary_round = pd.DataFrame({'title': [title_name],\n",
    "         'task_group': ['all'],\n",
    "         'max_sample_size': [max(counts)],\n",
    "         'upsample_size': [upsample_size],\n",
    "         'best_F1_micro': [best_F1_micro],            \n",
    "         'best_recall_1': [best_recall_1],\n",
    "         'best_clf': [best_clf],\n",
    "         'clf_best_params': [best_clf_params],                         \n",
    "         'valid_scores': [valid_scores]},\n",
    "          index=[0])"
   ]
  },
  {
   "cell_type": "code",
   "execution_count": null,
   "id": "301f0ffc",
   "metadata": {},
   "outputs": [],
   "source": [
    "recall_1_threshold = 0.8\n",
    "is_good_recall_1 = valid_scores['Recall_1'] > recall_1_threshold"
   ]
  },
  {
   "cell_type": "code",
   "execution_count": null,
   "id": "904ac8ad",
   "metadata": {},
   "outputs": [],
   "source": [
    "is_good_recall_1"
   ]
  },
  {
   "cell_type": "code",
   "execution_count": null,
   "id": "9311d5aa",
   "metadata": {},
   "outputs": [],
   "source": [
    "# Select best classifier based on recall threshold for the positive class and F1 score\n",
    "is_good_recall_1 = valid_scores['Recall_1'] > recall_1_threshold\n",
    "if sum(is_good_recall_1) == 0: # recall 1 is below the threshold \n",
    "    best_recall_1 = valid_scores['Recall_1'].max()\n",
    "    is_best = valid_scores['Recall_1'] == best_recall_1\n",
    "    if sum(is_best)>1: # duplicate max recall scores -> compare F1 score\n",
    "        max_index = valid_scores['F1_micro'].loc[is_best].idxmax()\n",
    "    else:\n",
    "        max_index = valid_scores['Recall_1'].idxmax() \n",
    "    best_clf = valid_scores['Classifer'].iloc[max_index]\n",
    "    training_time = valid_scores['Training time'].iloc[max_index]\n",
    "    best_clf_params = clf_best_params[best_clf]\n",
    "    best_F1_micro = valid_scores['F1_micro'].iloc[max_index]\n",
    "\n",
    "else: # recall 1 is above the threshold -> select the best classifier based on F1 score\n",
    "    best_F1_micro = valid_scores['F1_micro'].loc[is_good_recall_1].max()\n",
    "    is_best = valid_scores['F1_micro'] == best_F1_micro\n",
    "    if sum(is_best)>1: # duplicate max F1 scores -> compare recall score\n",
    "        max_index = valid_scores['Recall_1'].loc[is_best].idxmax()\n",
    "    else:\n",
    "        max_index = valid_scores['F1_micro'].idxmax() \n",
    "    best_clf = valid_scores['Classifer'].iloc[max_index]\n",
    "    training_time = valid_scores['Training time'].iloc[max_index]\n",
    "    best_clf_params = clf_best_params[best_clf] \n",
    "    best_recall_1 = valid_scores['Recall_1'].iloc[max_index]\n",
    "\n",
    "clf_summary_round = pd.DataFrame({'title': [title_name],\n",
    "         'task_group': ['all'],\n",
    "         'max_sample_size': [max(counts)],\n",
    "         'upsample_size': [upsample_size],\n",
    "         'best_F1_micro': [best_F1_micro],            \n",
    "         'best_recall_1': [best_recall_1],\n",
    "         'best_clf': [best_clf],\n",
    "         'clf_best_params': [best_clf_params],                         \n",
    "         'valid_scores': [valid_scores]},\n",
    "          index=[0])"
   ]
  },
  {
   "cell_type": "code",
   "execution_count": null,
   "id": "9dd838eb",
   "metadata": {},
   "outputs": [],
   "source": [
    "clf_summary_round"
   ]
  },
  {
   "cell_type": "code",
   "execution_count": null,
   "id": "d5cca4ca",
   "metadata": {},
   "outputs": [],
   "source": [
    "clf_summary_round['valid_scores'].loc[0]"
   ]
  },
  {
   "cell_type": "code",
   "execution_count": null,
   "id": "8e69768a",
   "metadata": {},
   "outputs": [],
   "source": [
    "fit = pca.fit(X_feature)\n",
    "np.cumsum(fit.explained_variance_ratio_)"
   ]
  },
  {
   "cell_type": "code",
   "execution_count": null,
   "id": "2e3b8566",
   "metadata": {},
   "outputs": [],
   "source": [
    "clf_summary\n"
   ]
  },
  {
   "cell_type": "code",
   "execution_count": null,
   "id": "cd33f434",
   "metadata": {},
   "outputs": [],
   "source": [
    "clf_summary['valid_scores'].loc[0]"
   ]
  },
  {
   "cell_type": "code",
   "execution_count": null,
   "id": "849734b9",
   "metadata": {},
   "outputs": [],
   "source": [
    "clf_best_params"
   ]
  },
  {
   "cell_type": "code",
   "execution_count": null,
   "id": "6c16555d",
   "metadata": {},
   "outputs": [],
   "source": [
    "# precision and recall curve and auc\n",
    "\n",
    "# best classifier\n",
    "NB_best = GaussianNB(var_smoothing=1e-10)\n",
    "NB_best.fit(X_train, y_train)\n",
    "\n",
    "# Get the predicited probability of validation data\n",
    "y_pred_prob = NB_best.predict_proba(X_valid)[:, 1]\n",
    "\n",
    "# Get precision-recall auc\n",
    "precision, recall, thresholds = precision_recall_curve(y_valid, y_pred_prob)\n",
    "\n",
    "# Use AUC function to calculate the area under the curve of precision recall curve\n",
    "auc_precision_recall = auc(recall, precision)\n",
    "print(auc_precision_recall)\n",
    "\n",
    "plt.plot(recall, precision)\n",
    "plt.show()"
   ]
  },
  {
   "cell_type": "code",
   "execution_count": null,
   "id": "5227b340",
   "metadata": {},
   "outputs": [],
   "source": [
    "# no upsampling\n",
    "# SelectKBest = 50, PCA = 20: recall 0.86, F1_micro = 0.73\n",
    "# SelectKBest = 100, PCA = 30: recall 0.95, F1_micro = 0.57\n",
    "\n",
    "## upsampling\n",
    "# upperlimb movement\n",
    "# SelectKBest = 100, PCA = 30: recall 0.89, F1_micro = 0.76\n",
    "# SelectKBest = 30, PCA = 10: recall 0.90, F1_micro = 0.75\n",
    "\n",
    "# upperlimb movement, add task code as a new feature\n",
    "# SelectKBest = 30, PCA = 10: recall 0.93, F1_micro = 0.75\n",
    "\n",
    "########### upperlimb movement, add subject id and task code as a new feature\n",
    "# SelectKBest = 30, PCA = 10: recall 0.80, F1_micro = 0.85\n",
    "\n",
    "# upperlimb movement,add metadata features \n",
    "# SelectKBest = 30, PCA = 10: recall 0.84, F1_micro = 0.75\n",
    "\n",
    "# upperlimb movement,add metadata features with SelectKBest\n",
    "# SelectKBest = 30, PCA = 10: recall 0.9, F1_micro = 0.76\n",
    "\n",
    "# upperlimb movement,add metadata features with seperate SelectKBest\n",
    "# SelectKBest = 30, PCA = 10: recall 0.84, F1_micro = 0.72\n",
    "\n",
    "# all movement\n",
    "# SelectKBest = 30, PCA = 10: recall 0.73, F1_micro = 0.72\n",
    "\n",
    "# all movement, add subject id and task code as a new feature\n",
    "# SelectKBest = 30, PCA = 10: recall 0.91, F1_micro = 0.74\n",
    "\n",
    "# all movement, add metadata features with SelectKBest\n",
    "# SelectKBest = 30, PCA = 10: recall 0.72, F1_micro = 0.73\n",
    "# SelectKBest = 50, PCA = 20: recall 0.74, F1_micro = 0.69"
   ]
  },
  {
   "cell_type": "code",
   "execution_count": null,
   "id": "fb68fd3d",
   "metadata": {},
   "outputs": [],
   "source": []
  },
  {
   "cell_type": "code",
   "execution_count": null,
   "id": "bebd56f3",
   "metadata": {},
   "outputs": [],
   "source": []
  }
 ],
 "metadata": {
  "kernelspec": {
   "display_name": "Python 3 (ipykernel)",
   "language": "python",
   "name": "python3"
  },
  "language_info": {
   "codemirror_mode": {
    "name": "ipython",
    "version": 3
   },
   "file_extension": ".py",
   "mimetype": "text/x-python",
   "name": "python",
   "nbconvert_exporter": "python",
   "pygments_lexer": "ipython3",
   "version": "3.7.1"
  }
 },
 "nbformat": 4,
 "nbformat_minor": 5
}
