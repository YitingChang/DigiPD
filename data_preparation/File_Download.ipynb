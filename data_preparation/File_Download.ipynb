{
 "cells": [
  {
   "attachments": {},
   "cell_type": "markdown",
   "id": "0bcd4f4b",
   "metadata": {},
   "source": [
    "### This notebook shows how to download files from Synapse\n",
    "#### 1. Register an account in Synapse\n",
    "#### 2. Request access to the data\n",
    "#### 3. Download the data"
   ]
  },
  {
   "cell_type": "code",
   "execution_count": null,
   "id": "325331aa",
   "metadata": {},
   "outputs": [],
   "source": [
    "import synapseclient as sc\n",
    "import synapseutils\n",
    "import pandas as pd\n",
    "import scipy as sp"
   ]
  },
  {
   "cell_type": "code",
   "execution_count": null,
   "id": "e030fa55",
   "metadata": {},
   "outputs": [],
   "source": [
    "# Logging into Synapse\n",
    "synapse_username = 'Your User Name'\n",
    "synapse_password = 'Your Password'\n",
    "syn = sc.login(synapse_username, synapse_password)"
   ]
  },
  {
   "cell_type": "code",
   "execution_count": null,
   "id": "46b06fa3",
   "metadata": {},
   "outputs": [],
   "source": [
    "# Download the demographics data\n",
    "demographics_query = syn.tableQuery(\"select * from syn20681894\")  # this is stored as a csv at demographics_query.filepath\n",
    "demographics_query.asDataFrame()"
   ]
  },
  {
   "cell_type": "code",
   "execution_count": null,
   "id": "b82af003",
   "metadata": {},
   "outputs": [],
   "source": [
    "# download the smartwatch/smartphone sensor measurements\n",
    "sensor_measurements_query = syn.tableQuery(\"select * from syn20681931\")\n",
    "sensor_measurements = sensor_measurements_query.asDataFrame() # pandas DataFrame\n",
    "sensor_measurements"
   ]
  },
  {
   "cell_type": "code",
   "execution_count": null,
   "id": "37983e15",
   "metadata": {},
   "outputs": [],
   "source": [
    "sensor_measurements_paths = syn.downloadTableColumns(sensor_measurements_query, \"data_file_handle_id\") # download data"
   ]
  },
  {
   "cell_type": "code",
   "execution_count": null,
   "id": "f49698bf",
   "metadata": {},
   "outputs": [],
   "source": [
    "synapseutils.syncFromSynapse(syn, entity='syn20681037', path='E:\\\\WS4PD_data\\\\GENEActiv')\n",
    "synapseutils.syncFromSynapse(syn, entity='syn20681180', path='E:\\\\WS4PD_data\\\\Pebble')\n",
    "synapseutils.syncFromSynapse(syn, entity='syn20681318', path='E:\\\\WS4PD_data\\\\Phone')\n",
    "synapseutils.syncFromSynapse(syn, entity='syn20681458', path='E:\\\\WS4PD_data\\\\Shimmer_Back')\n",
    "synapseutils.syncFromSynapse(syn, entity='syn20681544', path='E:\\\\WS4PD_data\\\\Shimmer_LeftAnkle')\n",
    "synapseutils.syncFromSynapse(syn, entity='syn20681630', path='E:\\\\WS4PD_data\\\\Shimmer_LeftWrist')\n",
    "synapseutils.syncFromSynapse(syn, entity='syn20681717', path='E:\\\\WS4PD_data\\\\Shimmer_RightAnkle')\n",
    "synapseutils.syncFromSynapse(syn, entity='syn20681805', path='E:\\\\WS4PD_data\\\\Shimmer_RightWrist')"
   ]
  }
 ],
 "metadata": {
  "kernelspec": {
   "display_name": "Python 3 (ipykernel)",
   "language": "python",
   "name": "python3"
  },
  "language_info": {
   "codemirror_mode": {
    "name": "ipython",
    "version": 3
   },
   "file_extension": ".py",
   "mimetype": "text/x-python",
   "name": "python",
   "nbconvert_exporter": "python",
   "pygments_lexer": "ipython3",
   "version": "3.11.5"
  }
 },
 "nbformat": 4,
 "nbformat_minor": 5
}
