{
 "cells": [
  {
   "cell_type": "code",
   "execution_count": 1,
   "id": "94edbabb",
   "metadata": {},
   "outputs": [],
   "source": [
    "import pandas as pd\n",
    "import os\n",
    "import numpy as np\n",
    "import scipy.stats as stats\n",
    "from itertools import compress\n",
    "import matplotlib.pyplot as plt\n",
    "import seaborn as sns\n",
    "sns.set(style='darkgrid', font_scale=1.4)"
   ]
  },
  {
   "cell_type": "code",
   "execution_count": null,
   "id": "d91f4150",
   "metadata": {},
   "outputs": [],
   "source": [
    "# Dyskinesia (involuntary, erratic, writhing movements)\n"
   ]
  },
  {
   "cell_type": "code",
   "execution_count": 2,
   "id": "e630b253",
   "metadata": {},
   "outputs": [],
   "source": [
    "direc = \"E:\\\\WS4PD_data\"\n",
    "os.chdir(direc)\n",
    "save_path = os.path.join(direc, \"Figures\", \"Data_exploration\", \"GENEActiv_dyskinesia\")"
   ]
  },
  {
   "cell_type": "code",
   "execution_count": 3,
   "id": "2a9a181f",
   "metadata": {},
   "outputs": [],
   "source": [
    "# Load score data\n",
    "score_file_path = os.path.join(direc, 'Feature_extraction','score_by_device.pkl')\n",
    "df_score = pd.read_pickle(score_file_path)"
   ]
  },
  {
   "cell_type": "code",
   "execution_count": 4,
   "id": "7900f697",
   "metadata": {},
   "outputs": [
    {
     "data": {
      "text/html": [
       "<div>\n",
       "<style scoped>\n",
       "    .dataframe tbody tr th:only-of-type {\n",
       "        vertical-align: middle;\n",
       "    }\n",
       "\n",
       "    .dataframe tbody tr th {\n",
       "        vertical-align: top;\n",
       "    }\n",
       "\n",
       "    .dataframe thead th {\n",
       "        text-align: right;\n",
       "    }\n",
       "</style>\n",
       "<table border=\"1\" class=\"dataframe\">\n",
       "  <thead>\n",
       "    <tr style=\"text-align: right;\">\n",
       "      <th></th>\n",
       "      <th>subject_id</th>\n",
       "      <th>visit</th>\n",
       "      <th>session</th>\n",
       "      <th>task_code</th>\n",
       "      <th>repetition</th>\n",
       "      <th>tremor_GENEActivHand</th>\n",
       "      <th>tremor_PebbleHand</th>\n",
       "      <th>dyskinesia_GENEActivHand</th>\n",
       "      <th>dyskinesia_PebbleHand</th>\n",
       "      <th>bradykinesia_GENEActivHand</th>\n",
       "      <th>bradykinesia_PebbleHand</th>\n",
       "    </tr>\n",
       "  </thead>\n",
       "  <tbody>\n",
       "    <tr>\n",
       "      <th>0</th>\n",
       "      <td>3_BOS</td>\n",
       "      <td>1</td>\n",
       "      <td>1</td>\n",
       "      <td>stndg</td>\n",
       "      <td>1</td>\n",
       "      <td>0</td>\n",
       "      <td>0</td>\n",
       "      <td>Yes</td>\n",
       "      <td>Yes</td>\n",
       "      <td>NotApplicable</td>\n",
       "      <td>NotApplicable</td>\n",
       "    </tr>\n",
       "    <tr>\n",
       "      <th>1</th>\n",
       "      <td>3_BOS</td>\n",
       "      <td>1</td>\n",
       "      <td>1</td>\n",
       "      <td>wlkgs</td>\n",
       "      <td>1</td>\n",
       "      <td>0</td>\n",
       "      <td>0</td>\n",
       "      <td>Yes</td>\n",
       "      <td>Yes</td>\n",
       "      <td>No</td>\n",
       "      <td>No</td>\n",
       "    </tr>\n",
       "    <tr>\n",
       "      <th>2</th>\n",
       "      <td>3_BOS</td>\n",
       "      <td>1</td>\n",
       "      <td>1</td>\n",
       "      <td>wlkgc</td>\n",
       "      <td>1</td>\n",
       "      <td>0</td>\n",
       "      <td>0</td>\n",
       "      <td>Yes</td>\n",
       "      <td>Yes</td>\n",
       "      <td>No</td>\n",
       "      <td>No</td>\n",
       "    </tr>\n",
       "    <tr>\n",
       "      <th>3</th>\n",
       "      <td>3_BOS</td>\n",
       "      <td>1</td>\n",
       "      <td>1</td>\n",
       "      <td>strsu</td>\n",
       "      <td>1</td>\n",
       "      <td>0</td>\n",
       "      <td>0</td>\n",
       "      <td>Yes</td>\n",
       "      <td>No</td>\n",
       "      <td>No</td>\n",
       "      <td>No</td>\n",
       "    </tr>\n",
       "    <tr>\n",
       "      <th>4</th>\n",
       "      <td>3_BOS</td>\n",
       "      <td>1</td>\n",
       "      <td>1</td>\n",
       "      <td>strsd</td>\n",
       "      <td>1</td>\n",
       "      <td>0</td>\n",
       "      <td>0</td>\n",
       "      <td>No</td>\n",
       "      <td>Yes</td>\n",
       "      <td>No</td>\n",
       "      <td>No</td>\n",
       "    </tr>\n",
       "    <tr>\n",
       "      <th>5</th>\n",
       "      <td>3_BOS</td>\n",
       "      <td>1</td>\n",
       "      <td>1</td>\n",
       "      <td>wlkgp</td>\n",
       "      <td>1</td>\n",
       "      <td>0</td>\n",
       "      <td>0</td>\n",
       "      <td>Yes</td>\n",
       "      <td>Yes</td>\n",
       "      <td>Yes</td>\n",
       "      <td>No</td>\n",
       "    </tr>\n",
       "    <tr>\n",
       "      <th>6</th>\n",
       "      <td>3_BOS</td>\n",
       "      <td>1</td>\n",
       "      <td>1</td>\n",
       "      <td>drawg</td>\n",
       "      <td>1</td>\n",
       "      <td>1</td>\n",
       "      <td>0</td>\n",
       "      <td>No</td>\n",
       "      <td>Yes</td>\n",
       "      <td>No</td>\n",
       "      <td>No</td>\n",
       "    </tr>\n",
       "    <tr>\n",
       "      <th>7</th>\n",
       "      <td>3_BOS</td>\n",
       "      <td>1</td>\n",
       "      <td>1</td>\n",
       "      <td>ftnr</td>\n",
       "      <td>1</td>\n",
       "      <td>1</td>\n",
       "      <td>0</td>\n",
       "      <td>No</td>\n",
       "      <td>Yes</td>\n",
       "      <td>No</td>\n",
       "      <td>NotApplicable</td>\n",
       "    </tr>\n",
       "    <tr>\n",
       "      <th>8</th>\n",
       "      <td>3_BOS</td>\n",
       "      <td>1</td>\n",
       "      <td>1</td>\n",
       "      <td>ftnl</td>\n",
       "      <td>1</td>\n",
       "      <td>0</td>\n",
       "      <td>1</td>\n",
       "      <td>Yes</td>\n",
       "      <td>No</td>\n",
       "      <td>NotApplicable</td>\n",
       "      <td>No</td>\n",
       "    </tr>\n",
       "    <tr>\n",
       "      <th>9</th>\n",
       "      <td>3_BOS</td>\n",
       "      <td>1</td>\n",
       "      <td>1</td>\n",
       "      <td>ftnr</td>\n",
       "      <td>2</td>\n",
       "      <td>0</td>\n",
       "      <td>0</td>\n",
       "      <td>No</td>\n",
       "      <td>Yes</td>\n",
       "      <td>No</td>\n",
       "      <td>NotApplicable</td>\n",
       "    </tr>\n",
       "  </tbody>\n",
       "</table>\n",
       "</div>"
      ],
      "text/plain": [
       "  subject_id  visit  session task_code  repetition tremor_GENEActivHand  \\\n",
       "0      3_BOS      1        1     stndg           1                    0   \n",
       "1      3_BOS      1        1     wlkgs           1                    0   \n",
       "2      3_BOS      1        1     wlkgc           1                    0   \n",
       "3      3_BOS      1        1     strsu           1                    0   \n",
       "4      3_BOS      1        1     strsd           1                    0   \n",
       "5      3_BOS      1        1     wlkgp           1                    0   \n",
       "6      3_BOS      1        1     drawg           1                    1   \n",
       "7      3_BOS      1        1      ftnr           1                    1   \n",
       "8      3_BOS      1        1      ftnl           1                    0   \n",
       "9      3_BOS      1        1      ftnr           2                    0   \n",
       "\n",
       "  tremor_PebbleHand dyskinesia_GENEActivHand dyskinesia_PebbleHand  \\\n",
       "0                 0                      Yes                   Yes   \n",
       "1                 0                      Yes                   Yes   \n",
       "2                 0                      Yes                   Yes   \n",
       "3                 0                      Yes                    No   \n",
       "4                 0                       No                   Yes   \n",
       "5                 0                      Yes                   Yes   \n",
       "6                 0                       No                   Yes   \n",
       "7                 0                       No                   Yes   \n",
       "8                 1                      Yes                    No   \n",
       "9                 0                       No                   Yes   \n",
       "\n",
       "  bradykinesia_GENEActivHand bradykinesia_PebbleHand  \n",
       "0              NotApplicable           NotApplicable  \n",
       "1                         No                      No  \n",
       "2                         No                      No  \n",
       "3                         No                      No  \n",
       "4                         No                      No  \n",
       "5                        Yes                      No  \n",
       "6                         No                      No  \n",
       "7                         No           NotApplicable  \n",
       "8              NotApplicable                      No  \n",
       "9                         No           NotApplicable  "
      ]
     },
     "execution_count": 4,
     "metadata": {},
     "output_type": "execute_result"
    }
   ],
   "source": [
    "df_score.head(10)"
   ]
  },
  {
   "cell_type": "code",
   "execution_count": 5,
   "id": "7778fef3",
   "metadata": {},
   "outputs": [],
   "source": [
    "# Try different task categories\n",
    "# task categories\n",
    "task_groups = [['stndg', 'sittg', 'wlkgs', 'wlkgc', 'wlkgp', 'strsu', 'strsd', 'ststd',\n",
    "              'ftnr', 'ftnl', 'ramr', 'raml', 'drawg', 'typng', 'ntblt', 'drnkg', 'orgpa', 'fldng'],\n",
    "               ['stndg', 'sittg'],['wlkgs', 'wlkgc', 'wlkgp', 'strsu', 'strsd', 'ststd'],\n",
    "               ['ftnr', 'ftnl', 'ramr', 'raml', 'drawg', 'typng', 'ntblt', 'drnkg', 'orgpa', 'fldng']]\n",
    "task_group_names = ['all', 'no_voluntary_movement','lowerlimb_movement', 'upperlimb_movement']"
   ]
  },
  {
   "cell_type": "code",
   "execution_count": 6,
   "id": "df5aa3c4",
   "metadata": {},
   "outputs": [
    {
     "name": "stderr",
     "output_type": "stream",
     "text": [
      "C:\\Users\\Yiting\\Anaconda3\\envs\\ws4pd\\lib\\site-packages\\pandas\\core\\indexing.py:1732: SettingWithCopyWarning: \n",
      "A value is trying to be set on a copy of a slice from a DataFrame\n",
      "\n",
      "See the caveats in the documentation: https://pandas.pydata.org/pandas-docs/stable/user_guide/indexing.html#returning-a-view-versus-a-copy\n",
      "  self._setitem_single_block(indexer, value, name)\n"
     ]
    }
   ],
   "source": [
    "is_dyskinesia = df_score['dyskinesia_GENEActivHand'] == 'Yes'\n",
    "df_score['newDyskinesia_GENEActivHand'] = 0\n",
    "df_score['newDyskinesia_GENEActivHand'].loc[is_dyskinesia] = 1\n",
    "score = df_score['newDyskinesia_GENEActivHand'].values"
   ]
  },
  {
   "cell_type": "code",
   "execution_count": 7,
   "id": "eee07be0",
   "metadata": {},
   "outputs": [
    {
     "data": {
      "text/plain": [
       "array([1, 1, 1, ..., 0, 0, 0], dtype=int64)"
      ]
     },
     "execution_count": 7,
     "metadata": {},
     "output_type": "execute_result"
    }
   ],
   "source": [
    "score"
   ]
  },
  {
   "cell_type": "code",
   "execution_count": 8,
   "id": "fb51ec9c",
   "metadata": {},
   "outputs": [
    {
     "data": {
      "image/png": "[encoded data removed]",
      "text/plain": [
       "<Figure size 1080x1080 with 4 Axes>"
      ]
     },
     "metadata": {
      "needs_background": "light"
     },
     "output_type": "display_data"
    }
   ],
   "source": [
    "fig, axes = plt.subplots(2,2, figsize=(15,15))\n",
    "axes = axes.flatten()\n",
    "for t,task,task_name in zip(range(len(task_groups)),task_groups, task_group_names):\n",
    "    is_tasks = df_score['task_code'].isin(task).tolist()\n",
    "    score_task = score[is_tasks]\n",
    "    \n",
    "    axes[t].hist(score_task, histtype='bar', color = 'grey', bins = range(3), density = True)\n",
    "    axes[t].set_xlabel('is dyskinesia')\n",
    "    axes[t].set_ylabel('Ratio')\n",
    "    axes[t].set_yticks(np.arange(0,0.9,0.1))\n",
    "    axes[t].set_xticks([0.5,1.5], labels = ['No', 'Yes'])\n",
    "    axes[t].set_title(task_name)\n",
    "    \n",
    "    # save figure\n",
    "    # plt.savefig(os.path.join(save_path,\"Tremor_score_distribution\"))"
   ]
  },
  {
   "cell_type": "code",
   "execution_count": null,
   "id": "1d840ba9",
   "metadata": {},
   "outputs": [],
   "source": []
  }
 ],
 "metadata": {
  "kernelspec": {
   "display_name": "Python 3 (ipykernel)",
   "language": "python",
   "name": "python3"
  },
  "language_info": {
   "codemirror_mode": {
    "name": "ipython",
    "version": 3
   },
   "file_extension": ".py",
   "mimetype": "text/x-python",
   "name": "python",
   "nbconvert_exporter": "python",
   "pygments_lexer": "ipython3",
   "version": "3.7.1"
  }
 },
 "nbformat": 4,
 "nbformat_minor": 5
}
