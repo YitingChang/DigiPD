{
 "cells": [
  {
   "cell_type": "code",
   "execution_count": 1,
   "id": "325331aa",
   "metadata": {},
   "outputs": [],
   "source": [
    "import synapseclient as sc\n",
    "import synapseutils\n",
    "import pandas as pd\n",
    "import scipy as sp"
   ]
  },
  {
   "cell_type": "code",
   "execution_count": 3,
   "id": "e030fa55",
   "metadata": {},
   "outputs": [
    {
     "name": "stdout",
     "output_type": "stream",
     "text": [
      "Welcome, Yi-Ting Chang!\n",
      "\n"
     ]
    }
   ],
   "source": [
    "synapse_username = 'yiting'\n",
    "synapse_password = 'Ytgtsynapse0922'\n",
    "syn = sc.login(synapse_username, synapse_password)"
   ]
  },
  {
   "cell_type": "code",
   "execution_count": null,
   "id": "46b06fa3",
   "metadata": {},
   "outputs": [],
   "source": [
    "# download the demographics data\n",
    "demographics_query = syn.tableQuery(\"select * from syn20681894\")  # this is stored as a csv at demographics_query.filepath\n",
    "demographics_query.asDataFrame()"
   ]
  },
  {
   "cell_type": "code",
   "execution_count": null,
   "id": "b82af003",
   "metadata": {},
   "outputs": [],
   "source": [
    "sensor_measurements_query = syn.tableQuery(\"select * from syn20681931\")\n",
    "sensor_measurements = sensor_measurements_query.asDataFrame() # pandas DataFrame\n",
    "sensor_measurements"
   ]
  },
  {
   "cell_type": "code",
   "execution_count": null,
   "id": "37983e15",
   "metadata": {},
   "outputs": [],
   "source": [
    "sensor_measurements_paths = syn.downloadTableColumns(sensor_measurements_query, \"data_file_handle_id\") # download data"
   ]
  },
  {
   "cell_type": "code",
   "execution_count": null,
   "id": "f49698bf",
   "metadata": {},
   "outputs": [],
   "source": [
    "synapseutils.syncFromSynapse(syn, entity='syn20681037', path='E:\\\\WS4PD_data\\\\GENEActiv')"
   ]
  },
  {
   "cell_type": "code",
   "execution_count": null,
   "id": "5fc138c4",
   "metadata": {},
   "outputs": [],
   "source": [
    "synapseutils.syncFromSynapse(syn, entity='syn20681180', path='E:\\\\WS4PD_data\\\\Pebble')"
   ]
  },
  {
   "cell_type": "code",
   "execution_count": null,
   "id": "bf8a60f9",
   "metadata": {},
   "outputs": [],
   "source": [
    "synapseutils.syncFromSynapse(syn, entity='syn20681318', path='E:\\\\WS4PD_data\\\\Phone')"
   ]
  },
  {
   "cell_type": "code",
   "execution_count": null,
   "id": "b7c285a6",
   "metadata": {},
   "outputs": [],
   "source": [
    "synapseutils.syncFromSynapse(syn, entity='syn20681458', path='E:\\\\WS4PD_data\\\\Shimmer_Back')"
   ]
  },
  {
   "cell_type": "code",
   "execution_count": null,
   "id": "78ca5e6a",
   "metadata": {},
   "outputs": [],
   "source": [
    "synapseutils.syncFromSynapse(syn, entity='syn20681544', path='E:\\\\WS4PD_data\\\\Shimmer_LeftAnkle')"
   ]
  },
  {
   "cell_type": "code",
   "execution_count": null,
   "id": "56037381",
   "metadata": {},
   "outputs": [],
   "source": [
    "synapseutils.syncFromSynapse(syn, entity='syn20681630', path='E:\\\\WS4PD_data\\\\Shimmer_LeftWrist')"
   ]
  },
  {
   "cell_type": "code",
   "execution_count": null,
   "id": "dcbeb544",
   "metadata": {},
   "outputs": [],
   "source": [
    "synapseutils.syncFromSynapse(syn, entity='syn20681717', path='E:\\\\WS4PD_data\\\\Shimmer_RightAnkle')"
   ]
  },
  {
   "cell_type": "code",
   "execution_count": null,
   "id": "2046a980",
   "metadata": {},
   "outputs": [],
   "source": [
    "synapseutils.syncFromSynapse(syn, entity='syn20681805', path='E:\\\\WS4PD_data\\\\Shimmer_RightWrist')"
   ]
  },
  {
   "cell_type": "code",
   "execution_count": null,
   "id": "90c824a8",
   "metadata": {},
   "outputs": [],
   "source": []
  },
  {
   "cell_type": "code",
   "execution_count": null,
   "id": "52a0ad7f",
   "metadata": {},
   "outputs": [],
   "source": [
    "# example\n",
    "syn = sc.login(synapse_username, synapse_password)\n",
    "\n",
    "# download the smartwatch/smartphone sensor measurements\n",
    "sensor_measurements_query = syn.tableQuery(\"select * from syn20681931\")\n",
    "sensor_measurements_paths = syn.downloadTableColumns(sensor_measurements_query, \"data_file_handle_id\") # download data\n",
    "sensor_measurements = sensor_measurements_query.asDataFrame() # pandas DataFrame\n",
    "sensor_measurements['path'] = sensor_measurements.data_file_handle_id.astype(str).map(sensor_measurements_paths)\n",
    "\n",
    "# download the Shimmer sensor measurements\n",
    "shimmer_measurements_query = syn.tableQuery(\"select * from syn20681932\")\n",
    "shimmer_measurements_paths = syn.downloadTableColumns(shimmer_measurements_query, \"data_file_handle_id\") # download data\n",
    "shimmer_measurements = shimmer_measurements_query.asDataFrame() # pandas DataFrame\n",
    "shimmer_measurements['path'] = shimmer_measurements.data_file_handle_id.astype(str).map(shimmer_measurements_paths)\n",
    "\n",
    "# download the demographics data\n",
    "demographics_query = syn.tableQuery(\"select * from syn20681894\")  # this is stored as a csv at demographics_query.filepath"
   ]
  }
 ],
 "metadata": {
  "kernelspec": {
   "display_name": "Python 3 (ipykernel)",
   "language": "python",
   "name": "python3"
  },
  "language_info": {
   "codemirror_mode": {
    "name": "ipython",
    "version": 3
   },
   "file_extension": ".py",
   "mimetype": "text/x-python",
   "name": "python",
   "nbconvert_exporter": "python",
   "pygments_lexer": "ipython3",
   "version": "3.7.1"
  }
 },
 "nbformat": 4,
 "nbformat_minor": 5
}
