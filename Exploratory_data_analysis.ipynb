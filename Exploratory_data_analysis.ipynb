{
 "cells": [
  {
   "cell_type": "code",
   "execution_count": 1,
   "id": "6ef4b5bc",
   "metadata": {},
   "outputs": [],
   "source": [
    "import pandas as pd\n",
    "import os\n",
    "import numpy as np\n",
    "import matplotlib.pyplot as plt\n",
    "import datetime\n",
    "import scipy.stats as stats\n",
    "import seaborn as sns\n",
    "# import tsfel\n",
    "from tsfresh.feature_extraction import extract_features, MinimalFCParameters, EfficientFCParameters\n",
    "# import featuretools as ft\n",
    "\n",
    "import warnings\n",
    "warnings.simplefilter(action='ignore', category=FutureWarning)\n",
    "from pandas.core.common import SettingWithCopyWarning\n",
    "warnings.simplefilter(action=\"ignore\", category=SettingWithCopyWarning)"
   ]
  },
  {
   "cell_type": "code",
   "execution_count": null,
   "id": "7f662fcd",
   "metadata": {},
   "outputs": [],
   "source": [
    "# Sensor data\n",
    "# Identify intervals with missing data in the raw signals\n",
    "# Resmaple the time series with a smapling rate of 50 Hz\n",
    "# Temoprally align the signals collected using different devices \n"
   ]
  },
  {
   "cell_type": "code",
   "execution_count": 2,
   "id": "6219191c",
   "metadata": {},
   "outputs": [],
   "source": [
    "direc = \"E:\\\\WS4PD_data\"\n",
    "os.chdir(direc)\n",
    "# load data\n",
    "demogra_data = pd.read_csv(\"Demographics_data.csv\")\n",
    "task_score = pd.read_csv(\"Task_scores_part_I.csv\")\n",
    "save_path = os.path.join(direc, \"Figures\", \"Sensor_data\",\"GENEActiv\")"
   ]
  },
  {
   "cell_type": "code",
   "execution_count": 3,
   "id": "b836435d",
   "metadata": {},
   "outputs": [
    {
     "data": {
      "text/plain": [
       "array([  1,   2,   3,   4,   5,   6,  16,   7,   8,   9,  10,  11,  12,\n",
       "        13,  14,  15,  17,  18,  19,  20,  21,  22,  23,  24,  25,  26,\n",
       "        27,  28,  29,  30,  31,  32,  33,  34,  35,  36,  37,  38,  39,\n",
       "        40,  41,  42,  43,  44,  45,  46,  47,  48,  49,  50,  51,  52,\n",
       "        53,  54,  55,  56,  57,  58,  59,  60,  61,  62,  63,  64,  65,\n",
       "        66,  67,  68,  69,  70,  71,  72,  73,  74,  75,  76,  77,  78,\n",
       "        79,  80,  81,  82,  83,  84,  85,  86,  87,  88,  89,  90,  91,\n",
       "        92,  93,  94,  95,  96,  97,  98,  99, 100, 101, 102, 103, 104,\n",
       "       105, 106, 107, 108, 109, 110, 111, 112, 113, 114, 115, 116, 117,\n",
       "       118, 119, 120, 121, 122, 123, 124, 125, 126, 127, 128, 129, 130,\n",
       "       131, 132, 133, 134, 135, 136, 137, 138, 139, 140, 141, 142, 143,\n",
       "       144, 145, 146, 147, 148, 149, 150, 151, 152, 153, 154, 155, 156,\n",
       "       157, 158, 159, 160, 161, 162, 163, 164, 165, 166, 167, 168, 169,\n",
       "       170, 171, 172, 173, 174, 175, 176, 177, 178, 179, 180, 181, 182,\n",
       "       183, 184, 185, 186, 187, 188, 189, 190, 191, 192, 193, 194, 195,\n",
       "       196, 197, 198, 199, 200, 201, 202, 203, 204, 205, 206, 207, 208,\n",
       "       209, 210, 211, 212, 213, 214, 215, 216, 217, 218, 219, 220, 221,\n",
       "       222, 223, 224, 225, 226, 227, 228, 229, 230, 231, 232, 233, 234,\n",
       "       235, 236, 237, 238, 239, 240, 241, 242, 243, 244, 245, 246, 247,\n",
       "       248, 249, 250, 251, 252, 253, 254, 255, 256, 257, 258, 259, 260],\n",
       "      dtype=int64)"
      ]
     },
     "execution_count": 3,
     "metadata": {},
     "output_type": "execute_result"
    }
   ],
   "source": [
    "task_score['task_id'].unique()"
   ]
  },
  {
   "cell_type": "code",
   "execution_count": 4,
   "id": "8cb13dfb",
   "metadata": {},
   "outputs": [
    {
     "data": {
      "text/plain": [
       "252"
      ]
     },
     "execution_count": 4,
     "metadata": {},
     "output_type": "execute_result"
    }
   ],
   "source": [
    "sum(task_score['task_id']==1)"
   ]
  },
  {
   "cell_type": "code",
   "execution_count": null,
   "id": "e7a3ee37",
   "metadata": {},
   "outputs": [],
   "source": [
    "demogra_data.head()"
   ]
  },
  {
   "cell_type": "code",
   "execution_count": null,
   "id": "b4e351be",
   "metadata": {},
   "outputs": [],
   "source": [
    "task_score.head()"
   ]
  },
  {
   "cell_type": "code",
   "execution_count": null,
   "id": "8e9ed938",
   "metadata": {},
   "outputs": [],
   "source": [
    "# checking the shortest duration\n",
    "min(data.timestamp_end - data.timestamp_start)"
   ]
  },
  {
   "cell_type": "code",
   "execution_count": null,
   "id": "48024ba1",
   "metadata": {},
   "outputs": [],
   "source": [
    "data_sensor"
   ]
  },
  {
   "cell_type": "code",
   "execution_count": null,
   "id": "72bcb54a",
   "metadata": {},
   "outputs": [],
   "source": [
    "# construct data for tsfresh\n",
    "# testing GENEActiv, tremor, stndg task\n",
    "device = 'GENEActiv'\n",
    "visit= 1\n",
    "task_code = 'stndg'\n",
    "phenotype = 'tremor'\n",
    "subject_ids = task_score.subject_id.unique()\n",
    "\n",
    "data = task_score.loc[(task_score.visit == visit) &\\\n",
    "(task_score.task_code == task_code) &\\\n",
    "(task_score.phenotype == phenotype)]\n",
    "\n",
    "sample_rate = 50\n",
    "duration = 30 # select the first 30s \n",
    "dt = 1/sample_rate\n",
    "t = np.round_([item * dt for item in range(duration*sample_rate)],2)\n",
    "\n",
    "df =pd.DataFrame()\n",
    "\n",
    "sample_id = 0\n",
    "sample_score = []\n",
    "\n",
    "not_number = pd.DataFrame()\n",
    "# find sensor data\n",
    "for sb in subject_ids:\n",
    "    geneactive_hand = demogra_data.geneactive_hand.loc[demogra_data.subject_id == sb].values[0]\n",
    "    body_segment = geneactive_hand+'UpperLimb'\n",
    "    sensor_path = os.path.join(direc, device, sb, 'rawdata_day'+str(visit)+'.txt')\n",
    "    data_sensor = pd.read_table(sensor_path)\n",
    "    is_trialtype = (data.subject_id == sb) & (data.body_segment == body_segment)\n",
    "    trial_idx = [i for i, val in enumerate(is_trialtype) if val]                   \n",
    "    for trial in trial_idx:\n",
    "        score = int(data['score'].values[trial])\n",
    "        session = data['session'].values[trial]\n",
    "        ts_start = data['timestamp_start'].values[trial]\n",
    "        ts_end = data['timestamp_end'].values[trial]\n",
    "        is_ts = (data_sensor.timestamp.values >= ts_start) & (data_sensor.timestamp.values <= ts_end)\n",
    "        t0_idx = [i for i, val in enumerate(is_ts) if val][0]\n",
    "        tw = sample_rate*duration\n",
    "#         if sum(is_ts) > tw: # every trial is longer than trial duration (no missing time stamp)\n",
    "        x = data_sensor['GENEActiv_X'].loc[t0_idx:t0_idx+tw-1].values\n",
    "        y = data_sensor['GENEActiv_Y'].loc[t0_idx:t0_idx+tw-1].values\n",
    "        z = data_sensor['GENEActiv_Z'].loc[t0_idx:t0_idx+tw-1].values\n",
    "        is_number = [isinstance(xx, (int, float)) for xx in x]\n",
    "\n",
    "        if sum(is_number) == sample_rate*duration: # all variables in x is a number\n",
    "            id_xtime = np.array([sample_id]*len(t))\n",
    "            d = {'id': id_xtime, 'time': t, 'x': x, 'y': y, 'z': z}\n",
    "            df_trial = pd.DataFrame(d)\n",
    "            df = pd.concat([df,df_trial])\n",
    "            sample_score.append(score) \n",
    "            sample_id = sample_id + 1\n",
    "        else:\n",
    "            not_number_d = {'subject_id': sb, 'session': [session]}\n",
    "            not_number_df = pd.DataFrame(not_number_d)\n",
    "            not_number = pd.concat([not_number,not_number_df])"
   ]
  },
  {
   "cell_type": "code",
   "execution_count": null,
   "id": "bb5ace28",
   "metadata": {},
   "outputs": [],
   "source": [
    "not_number"
   ]
  },
  {
   "cell_type": "code",
   "execution_count": null,
   "id": "2f4cec73",
   "metadata": {},
   "outputs": [],
   "source": [
    "len(sample_score)"
   ]
  },
  {
   "cell_type": "code",
   "execution_count": null,
   "id": "f69ffc41",
   "metadata": {},
   "outputs": [],
   "source": [
    "df"
   ]
  },
  {
   "cell_type": "code",
   "execution_count": null,
   "id": "d8dd3ca1",
   "metadata": {},
   "outputs": [],
   "source": [
    "df.dtypes"
   ]
  },
  {
   "cell_type": "code",
   "execution_count": null,
   "id": "421cda8f",
   "metadata": {},
   "outputs": [],
   "source": [
    "df2=df.astype(float)"
   ]
  },
  {
   "cell_type": "code",
   "execution_count": null,
   "id": "84b0bfc3",
   "metadata": {},
   "outputs": [],
   "source": [
    "df2.dtypes"
   ]
  },
  {
   "cell_type": "code",
   "execution_count": null,
   "id": "cfe0de64",
   "metadata": {},
   "outputs": [],
   "source": [
    "# extract comprehensive features (default)\n",
    "# extracted_features = extract_features(df2, column_id=\"id\", column_sort=\"time\")\n"
   ]
  },
  {
   "cell_type": "code",
   "execution_count": null,
   "id": "9de43db8",
   "metadata": {},
   "outputs": [],
   "source": [
    "efficient_features = extract_features(df2, column_id=\"id\", column_sort=\"time\", default_fc_parameters=EfficientFCParameters())"
   ]
  },
  {
   "cell_type": "code",
   "execution_count": null,
   "id": "0ccb14a7",
   "metadata": {},
   "outputs": [],
   "source": [
    "efficient_features"
   ]
  },
  {
   "cell_type": "code",
   "execution_count": null,
   "id": "eb525198",
   "metadata": {},
   "outputs": [],
   "source": [
    "sample_score = np.array(sample_score)"
   ]
  },
  {
   "cell_type": "code",
   "execution_count": null,
   "id": "faff1b94",
   "metadata": {},
   "outputs": [],
   "source": [
    "from tsfresh import select_features\n",
    "from tsfresh.utilities.dataframe_functions import impute\n",
    "\n",
    "impute(efficient_features)\n",
    "features_filtered = select_features(efficient_features, sample_score)"
   ]
  },
  {
   "cell_type": "code",
   "execution_count": null,
   "id": "858a8ecd",
   "metadata": {},
   "outputs": [],
   "source": [
    "features_filtered"
   ]
  },
  {
   "cell_type": "code",
   "execution_count": null,
   "id": "7109593d",
   "metadata": {},
   "outputs": [],
   "source": [
    "features_filtered.columns"
   ]
  },
  {
   "cell_type": "code",
   "execution_count": null,
   "id": "4be6989b",
   "metadata": {},
   "outputs": [],
   "source": []
  },
  {
   "cell_type": "code",
   "execution_count": null,
   "id": "ac615dd2",
   "metadata": {},
   "outputs": [],
   "source": [
    "# Example session\n",
    "device = 'GENEActiv'\n",
    "subject_id = '6_BOS'\n",
    "visit= 1\n",
    "task_code = 'stndg'\n",
    "session = 3\n",
    "body_segment = 'RightUpperLimb'\n",
    "phenotype = 'tremor'\n",
    "most_affected_side = demogra_data['pd_most_affected_side'].loc[demogra_data.subject_id == subject_id]\n",
    "is_trial = (task_score.subject_id == subject_id) & (task_score.visit == visit) &\\\n",
    "(task_score.task_code == task_code) & (task_score.session == session) &\\\n",
    "(task_score.phenotype == phenotype) & (task_score.body_segment == body_segment)\n",
    "trial_idx = [i for i, val in enumerate(is_trial) if val][0]                    \n",
    "score = task_score['score'].values[trial_idx]\n",
    "ts_start = task_score['timestamp_start'].values[trial_idx]\n",
    "ts_end = task_score['timestamp_end'].values[trial_idx]\n",
    "\n",
    "# find sensor data\n",
    "sensor_path = os.path.join(direc, device, subject_id, 'rawdata_day'+str(visit)+'.txt')\n",
    "df = pd.read_table(sensor_path)\n"
   ]
  },
  {
   "cell_type": "code",
   "execution_count": null,
   "id": "a6bccbcd",
   "metadata": {},
   "outputs": [],
   "source": [
    "df.head()"
   ]
  },
  {
   "cell_type": "code",
   "execution_count": null,
   "id": "20008886",
   "metadata": {},
   "outputs": [],
   "source": [
    "is_ts = (df.timestamp.values >= ts_start) & (df.timestamp.values <= ts_end)\n",
    "x = df['GENEActiv_X'].loc[is_ts].values\n",
    "y = df['GENEActiv_Y'].loc[is_ts].values\n",
    "z = df['GENEActiv_Z'].loc[is_ts].values\n",
    "dt = round(df.timestamp[1] - df.timestamp[0],2)\n",
    "t= range(len(x))*dt"
   ]
  },
  {
   "cell_type": "code",
   "execution_count": null,
   "id": "f91ea634",
   "metadata": {},
   "outputs": [],
   "source": [
    "fig = plt.figure(figsize=(10,5))\n",
    "plt.plot(t,x,'-b',t,y,'-g',t,z,'-r')\n",
    "# # save figure\n",
    "# plt.savefig(os.path.join(save_path,\"6_BOS_RUL\"))"
   ]
  },
  {
   "cell_type": "code",
   "execution_count": null,
   "id": "7d4524e3",
   "metadata": {},
   "outputs": [],
   "source": [
    "# construct data for GENEActiv, tremor, stndg task\n",
    "device = 'GENEActiv'\n",
    "visit= 1\n",
    "task_code = 'stndg'\n",
    "phenotype = 'tremor'\n",
    "subject_ids = task_score.subject_id.unique()\n",
    "data = task_score.loc[(task_score.visit == visit) &\\\n",
    "(task_score.task_code == task_code) &\\\n",
    "(task_score.phenotype == phenotype)]\n",
    "sample_rate = 50\n",
    "GA_X = ['nan']*len(data)\n",
    "GA_Y = ['nan']*len(data)\n",
    "GA_Z = ['nan']*len(data)\n",
    "\n",
    "# GA_XYZ = [['nan']*3]*len(data)\n",
    "# find sensor data\n",
    "for sb in subject_ids:\n",
    "    geneactive_hand = demogra_data.geneactive_hand.loc[demogra_data.subject_id == sb].values[0]\n",
    "    body_segment = geneactive_hand+'UpperLimb'\n",
    "    sensor_path = os.path.join(direc, device, sb, 'rawdata_day'+str(visit)+'.txt')\n",
    "    data_sensor = pd.read_table(sensor_path)\n",
    "    is_trialtype = (data.subject_id == sb) & (data.body_segment == body_segment)\n",
    "    trial_idx = [i for i, val in enumerate(is_trialtype) if val]                   \n",
    "    for trial in trial_idx:\n",
    "        ts_start = data['timestamp_start'].values[trial]\n",
    "        ts_end = data['timestamp_end'].values[trial]\n",
    "        is_ts = (data_sensor.timestamp.values >= ts_start) & (data_sensor.timestamp.values <= ts_end)\n",
    "        GA_X[trial] = data_sensor['GENEActiv_X'].loc[is_ts].values\n",
    "        GA_Y[trial] = data_sensor['GENEActiv_Y'].loc[is_ts].values\n",
    "        GA_Z[trial] = data_sensor['GENEActiv_Z'].loc[is_ts].values \n",
    "data['GENEActiv_X'] = GA_X\n",
    "data['GENEActiv_Y'] = GA_Y\n",
    "data['GENEActiv_Z'] = GA_Z\n",
    "#         GA_XYZ[trial][0] = data_sensor['GENEActiv_X'].loc[is_ts].values\n",
    "#         GA_XYZ[trial][1] = data_sensor['GENEActiv_Y'].loc[is_ts].values\n",
    "#         GA_XYZ[trial][2] = data_sensor['GENEActiv_Z'].loc[is_ts].values    \n",
    "# df_add = pd.DataFrame(data=GA_XYZ,columns=['GENEActiv_X', 'GENEActiv_Y', 'GENEActiv_Z'])\n",
    "# data_completed = pd.concat([data,df_add], axis=1)"
   ]
  },
  {
   "cell_type": "code",
   "execution_count": null,
   "id": "c9372535",
   "metadata": {},
   "outputs": [],
   "source": [
    "data"
   ]
  },
  {
   "cell_type": "code",
   "execution_count": null,
   "id": "29c5a66b",
   "metadata": {},
   "outputs": [],
   "source": [
    "# check missing time stamp\n",
    "interval = np.round_(np.diff(df.timestamp),2)\n",
    "is_dt = interval == (1/sample_rate)\n",
    "missing_ts = [i for i, val in enumerate(~is_dt) if val]                   \n",
    "missing_ts"
   ]
  },
  {
   "cell_type": "code",
   "execution_count": null,
   "id": "ce21f026",
   "metadata": {},
   "outputs": [],
   "source": []
  },
  {
   "cell_type": "code",
   "execution_count": null,
   "id": "643abbdd",
   "metadata": {},
   "outputs": [],
   "source": []
  },
  {
   "cell_type": "code",
   "execution_count": null,
   "id": "2d4984db",
   "metadata": {},
   "outputs": [],
   "source": [
    "device = 'GENEActiv'\n",
    "visit= 1\n",
    "task_code = 'stndg'\n",
    "phenotype = 'tremor'\n",
    "subject_ids = task_score.subject_id.unique()\n",
    "data = task_score.loc[(task_score.visit == visit) &\\\n",
    "(task_score.task_code == task_code) &\\\n",
    "(task_score.phenotype == phenotype)]\n",
    "sample_rate = 50"
   ]
  },
  {
   "cell_type": "code",
   "execution_count": null,
   "id": "657f1e06",
   "metadata": {},
   "outputs": [],
   "source": [
    "# one subject\n",
    "# find sensor data\n",
    "subject_id = '6_BOS'\n",
    "geneactive_hand = demogra_data.geneactive_hand.loc[demogra_data.subject_id == subject_id].values[0]\n",
    "body_segment = geneactive_hand+'UpperLimb'\n",
    "sensor_path = os.path.join(direc, device, subject_id, 'rawdata_day'+str(visit)+'.txt')\n",
    "df = pd.read_table(sensor_path)\n",
    "\n",
    "# find \n",
    "is_trialtype = (data.subject_id == subject_id) & (data.body_segment == body_segment)\n",
    "trial_idx = [i for i, val in enumerate(is_trialtype) if val]                   \n"
   ]
  },
  {
   "cell_type": "code",
   "execution_count": null,
   "id": "a37b79a9",
   "metadata": {},
   "outputs": [],
   "source": [
    "ts_start = data['timestamp_start'].values[trial]\n",
    "is_start = df.timestamp.values >= ts_start\n",
    "t0_idx = [i for i, val in enumerate(is_start) if val][0]\n",
    "t0_idx"
   ]
  },
  {
   "cell_type": "code",
   "execution_count": null,
   "id": "5113f0b2",
   "metadata": {},
   "outputs": [],
   "source": [
    "score = data['score'].values[trial]\n",
    "ts_start = data['timestamp_start'].values[trial]\n",
    "ts_end = data['timestamp_end'].values[trial]\n",
    "is_ts = (df.timestamp.values >= ts_start) & (df.timestamp.values <= ts_end)\n",
    "t0_idx = [i for i, val in enumerate(is_ts) if val][0]\n",
    "tw = sample_rate*duration\n",
    "if sum(is_ts) > tw:\n",
    "    x = df['GENEActiv_X'].loc[t0_idx:t0_idx+tw-1].values\n",
    "    y = df['GENEActiv_Y'].loc[t0_idx:t0_idx+tw-1].values\n",
    "    z = df['GENEActiv_Z'].loc[t0_idx:t0_idx+tw-1].values\n",
    "    sc = np.array([score]*len(t))\n",
    "    d = {'id': sc, 'time': t, 'x': x, 'y': y, 'z': z}\n",
    "    df = pd.DataFrame(d)\n",
    "    df2 = pd.concat([df,df])"
   ]
  },
  {
   "cell_type": "code",
   "execution_count": null,
   "id": "a59a3454",
   "metadata": {},
   "outputs": [],
   "source": [
    "dt = round(df.timestamp[1] - df.timestamp[0],2)\n",
    "t= range(len(x))*dt"
   ]
  },
  {
   "cell_type": "code",
   "execution_count": null,
   "id": "23e9cf37",
   "metadata": {},
   "outputs": [],
   "source": [
    "fig = plt.figure(figsize=(10,5))\n",
    "plt.plot(t,x,'-b',t,y,'-g',t,z,'-r')"
   ]
  },
  {
   "cell_type": "code",
   "execution_count": null,
   "id": "2cf3f39d",
   "metadata": {},
   "outputs": [],
   "source": [
    "data.head()"
   ]
  },
  {
   "cell_type": "code",
   "execution_count": null,
   "id": "a362b943",
   "metadata": {},
   "outputs": [],
   "source": [
    "for trial in trial_idx:\n",
    "    ts_start = data['timestamp_start'].values[trial]\n",
    "    ts_end = data['timestamp_end'].values[trial]\n",
    "    is_ts = (df.timestamp.values >= ts_start) & (df.timestamp.values <= ts_end)\n",
    "    GA_XYZ[trial][0] = df['GENEActiv_X'].loc[is_ts].values\n",
    "    GA_XYZ[trial][1] = df['GENEActiv_Y'].loc[is_ts].values\n",
    "    GA_XYZ[trial][2] = df['GENEActiv_Z'].loc[is_ts].values\n",
    "    "
   ]
  },
  {
   "cell_type": "code",
   "execution_count": null,
   "id": "1675855e",
   "metadata": {},
   "outputs": [],
   "source": [
    "# Clinical data\n",
    "# "
   ]
  }
 ],
 "metadata": {
  "kernelspec": {
   "display_name": "Python 3 (ipykernel)",
   "language": "python",
   "name": "python3"
  },
  "language_info": {
   "codemirror_mode": {
    "name": "ipython",
    "version": 3
   },
   "file_extension": ".py",
   "mimetype": "text/x-python",
   "name": "python",
   "nbconvert_exporter": "python",
   "pygments_lexer": "ipython3",
   "version": "3.7.1"
  }
 },
 "nbformat": 4,
 "nbformat_minor": 5
}
