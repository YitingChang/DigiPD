{
 "cells": [
  {
   "cell_type": "code",
   "execution_count": 1,
   "id": "fcf976bf",
   "metadata": {},
   "outputs": [],
   "source": [
    "import pandas as pd\n",
    "import os\n",
    "import numpy as np\n",
    "import matplotlib.pyplot as plt\n",
    "import scipy.stats as stats\n",
    "import seaborn as sns\n",
    "import tsfresh\n",
    "from tsfresh.feature_extraction import extract_features, MinimalFCParameters, EfficientFCParameters\n",
    "from tsfresh import select_features\n",
    "from tsfresh.utilities.dataframe_functions import impute\n",
    "from sklearn.feature_selection import VarianceThreshold\n",
    "from sklearn.feature_selection import SelectKBest\n",
    "from sklearn.feature_selection import f_classif\n",
    "from numpy import set_printoptions\n",
    "from sklearn.decomposition import PCA\n",
    "\n",
    "import warnings\n",
    "warnings.simplefilter(action='ignore', category=FutureWarning)\n",
    "from pandas.core.common import SettingWithCopyWarning\n",
    "warnings.simplefilter(action=\"ignore\", category=SettingWithCopyWarning)"
   ]
  },
  {
   "cell_type": "code",
   "execution_count": 2,
   "id": "8a623241",
   "metadata": {},
   "outputs": [],
   "source": [
    "direc = \"E:\\\\WS4PD_data\"\n",
    "os.chdir(direc)\n",
    "save_path = os.path.join(direc, \"Feature_extraction\")"
   ]
  },
  {
   "cell_type": "code",
   "execution_count": 3,
   "id": "57e3e5a0",
   "metadata": {},
   "outputs": [],
   "source": [
    "# Load score data\n",
    "score_file_path = os.path.join(save_path,'score_by_device.pkl')\n",
    "df_score = pd.read_pickle(score_file_path)"
   ]
  },
  {
   "cell_type": "code",
   "execution_count": 4,
   "id": "521b387e",
   "metadata": {},
   "outputs": [
    {
     "name": "stdout",
     "output_type": "stream",
     "text": [
      "(6909, 11)\n"
     ]
    },
    {
     "data": {
      "text/html": [
       "<div>\n",
       "<style scoped>\n",
       "    .dataframe tbody tr th:only-of-type {\n",
       "        vertical-align: middle;\n",
       "    }\n",
       "\n",
       "    .dataframe tbody tr th {\n",
       "        vertical-align: top;\n",
       "    }\n",
       "\n",
       "    .dataframe thead th {\n",
       "        text-align: right;\n",
       "    }\n",
       "</style>\n",
       "<table border=\"1\" class=\"dataframe\">\n",
       "  <thead>\n",
       "    <tr style=\"text-align: right;\">\n",
       "      <th></th>\n",
       "      <th>subject_id</th>\n",
       "      <th>visit</th>\n",
       "      <th>session</th>\n",
       "      <th>task_code</th>\n",
       "      <th>repetition</th>\n",
       "      <th>tremor_GENEActivHand</th>\n",
       "      <th>tremor_PebbleHand</th>\n",
       "      <th>dyskinesia_GENEActivHand</th>\n",
       "      <th>dyskinesia_PebbleHand</th>\n",
       "      <th>bradykinesia_GENEActivHand</th>\n",
       "      <th>bradykinesia_PebbleHand</th>\n",
       "    </tr>\n",
       "  </thead>\n",
       "  <tbody>\n",
       "    <tr>\n",
       "      <th>0</th>\n",
       "      <td>3_BOS</td>\n",
       "      <td>1</td>\n",
       "      <td>1</td>\n",
       "      <td>stndg</td>\n",
       "      <td>1</td>\n",
       "      <td>0</td>\n",
       "      <td>0</td>\n",
       "      <td>Yes</td>\n",
       "      <td>Yes</td>\n",
       "      <td>NotApplicable</td>\n",
       "      <td>NotApplicable</td>\n",
       "    </tr>\n",
       "    <tr>\n",
       "      <th>0</th>\n",
       "      <td>3_BOS</td>\n",
       "      <td>1</td>\n",
       "      <td>1</td>\n",
       "      <td>wlkgs</td>\n",
       "      <td>1</td>\n",
       "      <td>0</td>\n",
       "      <td>0</td>\n",
       "      <td>Yes</td>\n",
       "      <td>Yes</td>\n",
       "      <td>No</td>\n",
       "      <td>No</td>\n",
       "    </tr>\n",
       "    <tr>\n",
       "      <th>0</th>\n",
       "      <td>3_BOS</td>\n",
       "      <td>1</td>\n",
       "      <td>1</td>\n",
       "      <td>wlkgc</td>\n",
       "      <td>1</td>\n",
       "      <td>0</td>\n",
       "      <td>0</td>\n",
       "      <td>Yes</td>\n",
       "      <td>Yes</td>\n",
       "      <td>No</td>\n",
       "      <td>No</td>\n",
       "    </tr>\n",
       "    <tr>\n",
       "      <th>0</th>\n",
       "      <td>3_BOS</td>\n",
       "      <td>1</td>\n",
       "      <td>1</td>\n",
       "      <td>strsu</td>\n",
       "      <td>1</td>\n",
       "      <td>0</td>\n",
       "      <td>0</td>\n",
       "      <td>Yes</td>\n",
       "      <td>No</td>\n",
       "      <td>No</td>\n",
       "      <td>No</td>\n",
       "    </tr>\n",
       "    <tr>\n",
       "      <th>0</th>\n",
       "      <td>3_BOS</td>\n",
       "      <td>1</td>\n",
       "      <td>1</td>\n",
       "      <td>strsd</td>\n",
       "      <td>1</td>\n",
       "      <td>0</td>\n",
       "      <td>0</td>\n",
       "      <td>No</td>\n",
       "      <td>Yes</td>\n",
       "      <td>No</td>\n",
       "      <td>No</td>\n",
       "    </tr>\n",
       "  </tbody>\n",
       "</table>\n",
       "</div>"
      ],
      "text/plain": [
       "  subject_id  visit  session task_code  repetition tremor_GENEActivHand  \\\n",
       "0      3_BOS      1        1     stndg           1                    0   \n",
       "0      3_BOS      1        1     wlkgs           1                    0   \n",
       "0      3_BOS      1        1     wlkgc           1                    0   \n",
       "0      3_BOS      1        1     strsu           1                    0   \n",
       "0      3_BOS      1        1     strsd           1                    0   \n",
       "\n",
       "  tremor_PebbleHand dyskinesia_GENEActivHand dyskinesia_PebbleHand  \\\n",
       "0                 0                      Yes                   Yes   \n",
       "0                 0                      Yes                   Yes   \n",
       "0                 0                      Yes                   Yes   \n",
       "0                 0                      Yes                    No   \n",
       "0                 0                       No                   Yes   \n",
       "\n",
       "  bradykinesia_GENEActivHand bradykinesia_PebbleHand  \n",
       "0              NotApplicable           NotApplicable  \n",
       "0                         No                      No  \n",
       "0                         No                      No  \n",
       "0                         No                      No  \n",
       "0                         No                      No  "
      ]
     },
     "execution_count": 4,
     "metadata": {},
     "output_type": "execute_result"
    }
   ],
   "source": [
    "print(df_score.shape)\n",
    "df_score.head()"
   ]
  },
  {
   "cell_type": "code",
   "execution_count": 5,
   "id": "026caad9",
   "metadata": {},
   "outputs": [],
   "source": [
    "subject_ids = df_score.subject_id.unique()"
   ]
  },
  {
   "cell_type": "code",
   "execution_count": 6,
   "id": "ac30983d",
   "metadata": {},
   "outputs": [],
   "source": [
    "# load feature data\n",
    "df_feature = pd.DataFrame()\n",
    "device = 'GENEActiv'\n",
    "for sb in subject_ids:\n",
    "    feature_file_path = os.path.join(save_path,device,sb + '_features.pkl')\n",
    "    df_feature_sb = pd.read_pickle(feature_file_path)\n",
    "    df_feature = pd.concat([df_feature,df_feature_sb])\n"
   ]
  },
  {
   "cell_type": "code",
   "execution_count": 7,
   "id": "3e62bba0",
   "metadata": {},
   "outputs": [
    {
     "name": "stdout",
     "output_type": "stream",
     "text": [
      "(6909, 2262)\n"
     ]
    },
    {
     "data": {
      "text/html": [
       "<div>\n",
       "<style scoped>\n",
       "    .dataframe tbody tr th:only-of-type {\n",
       "        vertical-align: middle;\n",
       "    }\n",
       "\n",
       "    .dataframe tbody tr th {\n",
       "        vertical-align: top;\n",
       "    }\n",
       "\n",
       "    .dataframe thead th {\n",
       "        text-align: right;\n",
       "    }\n",
       "</style>\n",
       "<table border=\"1\" class=\"dataframe\">\n",
       "  <thead>\n",
       "    <tr style=\"text-align: right;\">\n",
       "      <th>variable</th>\n",
       "      <th>x__abs_energy</th>\n",
       "      <th>x__absolute_sum_of_changes</th>\n",
       "      <th>x__agg_autocorrelation__f_agg_\"mean\"__maxlag_40</th>\n",
       "      <th>x__agg_autocorrelation__f_agg_\"median\"__maxlag_40</th>\n",
       "      <th>x__agg_autocorrelation__f_agg_\"var\"__maxlag_40</th>\n",
       "      <th>x__agg_linear_trend__f_agg_\"max\"__chunk_len_10__attr_\"intercept\"</th>\n",
       "      <th>x__agg_linear_trend__f_agg_\"max\"__chunk_len_10__attr_\"rvalue\"</th>\n",
       "      <th>x__agg_linear_trend__f_agg_\"max\"__chunk_len_10__attr_\"slope\"</th>\n",
       "      <th>x__agg_linear_trend__f_agg_\"max\"__chunk_len_10__attr_\"stderr\"</th>\n",
       "      <th>x__agg_linear_trend__f_agg_\"max\"__chunk_len_50__attr_\"intercept\"</th>\n",
       "      <th>...</th>\n",
       "      <th>z__symmetry_looking__r_0.9</th>\n",
       "      <th>z__symmetry_looking__r_0.9500000000000001</th>\n",
       "      <th>z__time_reversal_asymmetry_statistic__lag_1</th>\n",
       "      <th>z__time_reversal_asymmetry_statistic__lag_2</th>\n",
       "      <th>z__time_reversal_asymmetry_statistic__lag_3</th>\n",
       "      <th>z__value_count__value_-1</th>\n",
       "      <th>z__value_count__value_0</th>\n",
       "      <th>z__value_count__value_1</th>\n",
       "      <th>z__variance</th>\n",
       "      <th>z__variance_larger_than_standard_deviation</th>\n",
       "    </tr>\n",
       "    <tr>\n",
       "      <th>id</th>\n",
       "      <th></th>\n",
       "      <th></th>\n",
       "      <th></th>\n",
       "      <th></th>\n",
       "      <th></th>\n",
       "      <th></th>\n",
       "      <th></th>\n",
       "      <th></th>\n",
       "      <th></th>\n",
       "      <th></th>\n",
       "      <th></th>\n",
       "      <th></th>\n",
       "      <th></th>\n",
       "      <th></th>\n",
       "      <th></th>\n",
       "      <th></th>\n",
       "      <th></th>\n",
       "      <th></th>\n",
       "      <th></th>\n",
       "      <th></th>\n",
       "      <th></th>\n",
       "    </tr>\n",
       "  </thead>\n",
       "  <tbody>\n",
       "    <tr>\n",
       "      <th>0</th>\n",
       "      <td>1679.603735</td>\n",
       "      <td>473.44306</td>\n",
       "      <td>0.095873</td>\n",
       "      <td>0.095139</td>\n",
       "      <td>0.034345</td>\n",
       "      <td>-0.855854</td>\n",
       "      <td>0.638863</td>\n",
       "      <td>0.015026</td>\n",
       "      <td>0.001439</td>\n",
       "      <td>-0.935256</td>\n",
       "      <td>...</td>\n",
       "      <td>1.0</td>\n",
       "      <td>1.0</td>\n",
       "      <td>0.006316</td>\n",
       "      <td>-0.000659</td>\n",
       "      <td>0.001838</td>\n",
       "      <td>0.0</td>\n",
       "      <td>0.0</td>\n",
       "      <td>0.0</td>\n",
       "      <td>0.136844</td>\n",
       "      <td>0.0</td>\n",
       "    </tr>\n",
       "    <tr>\n",
       "      <th>1</th>\n",
       "      <td>19055.256439</td>\n",
       "      <td>2362.42439</td>\n",
       "      <td>0.038591</td>\n",
       "      <td>-0.004983</td>\n",
       "      <td>0.028837</td>\n",
       "      <td>4.885473</td>\n",
       "      <td>-0.091550</td>\n",
       "      <td>-0.005762</td>\n",
       "      <td>0.004986</td>\n",
       "      <td>7.876297</td>\n",
       "      <td>...</td>\n",
       "      <td>1.0</td>\n",
       "      <td>1.0</td>\n",
       "      <td>-0.165026</td>\n",
       "      <td>-0.095387</td>\n",
       "      <td>1.166803</td>\n",
       "      <td>0.0</td>\n",
       "      <td>0.0</td>\n",
       "      <td>0.0</td>\n",
       "      <td>5.575244</td>\n",
       "      <td>1.0</td>\n",
       "    </tr>\n",
       "    <tr>\n",
       "      <th>2</th>\n",
       "      <td>33997.391324</td>\n",
       "      <td>2518.52331</td>\n",
       "      <td>0.058391</td>\n",
       "      <td>0.043360</td>\n",
       "      <td>0.029279</td>\n",
       "      <td>5.536114</td>\n",
       "      <td>0.213840</td>\n",
       "      <td>0.014816</td>\n",
       "      <td>0.005384</td>\n",
       "      <td>9.103860</td>\n",
       "      <td>...</td>\n",
       "      <td>1.0</td>\n",
       "      <td>1.0</td>\n",
       "      <td>0.335137</td>\n",
       "      <td>1.718440</td>\n",
       "      <td>3.144522</td>\n",
       "      <td>0.0</td>\n",
       "      <td>0.0</td>\n",
       "      <td>0.0</td>\n",
       "      <td>5.171290</td>\n",
       "      <td>1.0</td>\n",
       "    </tr>\n",
       "    <tr>\n",
       "      <th>3</th>\n",
       "      <td>24346.128905</td>\n",
       "      <td>2055.18288</td>\n",
       "      <td>0.193572</td>\n",
       "      <td>0.113912</td>\n",
       "      <td>0.056743</td>\n",
       "      <td>3.015779</td>\n",
       "      <td>-0.022263</td>\n",
       "      <td>-0.001506</td>\n",
       "      <td>0.005141</td>\n",
       "      <td>6.264023</td>\n",
       "      <td>...</td>\n",
       "      <td>1.0</td>\n",
       "      <td>1.0</td>\n",
       "      <td>-0.044145</td>\n",
       "      <td>-0.308346</td>\n",
       "      <td>-0.888829</td>\n",
       "      <td>0.0</td>\n",
       "      <td>0.0</td>\n",
       "      <td>0.0</td>\n",
       "      <td>4.766660</td>\n",
       "      <td>1.0</td>\n",
       "    </tr>\n",
       "    <tr>\n",
       "      <th>4</th>\n",
       "      <td>114238.864428</td>\n",
       "      <td>3287.80973</td>\n",
       "      <td>0.193583</td>\n",
       "      <td>0.185587</td>\n",
       "      <td>0.003754</td>\n",
       "      <td>-1.436621</td>\n",
       "      <td>-0.326126</td>\n",
       "      <td>-0.020166</td>\n",
       "      <td>0.003871</td>\n",
       "      <td>5.432917</td>\n",
       "      <td>...</td>\n",
       "      <td>1.0</td>\n",
       "      <td>1.0</td>\n",
       "      <td>-14.781696</td>\n",
       "      <td>-6.498899</td>\n",
       "      <td>-7.256898</td>\n",
       "      <td>0.0</td>\n",
       "      <td>0.0</td>\n",
       "      <td>0.0</td>\n",
       "      <td>8.103196</td>\n",
       "      <td>1.0</td>\n",
       "    </tr>\n",
       "  </tbody>\n",
       "</table>\n",
       "<p>5 rows × 2262 columns</p>\n",
       "</div>"
      ],
      "text/plain": [
       "variable  x__abs_energy  x__absolute_sum_of_changes  \\\n",
       "id                                                    \n",
       "0           1679.603735                   473.44306   \n",
       "1          19055.256439                  2362.42439   \n",
       "2          33997.391324                  2518.52331   \n",
       "3          24346.128905                  2055.18288   \n",
       "4         114238.864428                  3287.80973   \n",
       "\n",
       "variable  x__agg_autocorrelation__f_agg_\"mean\"__maxlag_40  \\\n",
       "id                                                          \n",
       "0                                                0.095873   \n",
       "1                                                0.038591   \n",
       "2                                                0.058391   \n",
       "3                                                0.193572   \n",
       "4                                                0.193583   \n",
       "\n",
       "variable  x__agg_autocorrelation__f_agg_\"median\"__maxlag_40  \\\n",
       "id                                                            \n",
       "0                                                  0.095139   \n",
       "1                                                 -0.004983   \n",
       "2                                                  0.043360   \n",
       "3                                                  0.113912   \n",
       "4                                                  0.185587   \n",
       "\n",
       "variable  x__agg_autocorrelation__f_agg_\"var\"__maxlag_40  \\\n",
       "id                                                         \n",
       "0                                               0.034345   \n",
       "1                                               0.028837   \n",
       "2                                               0.029279   \n",
       "3                                               0.056743   \n",
       "4                                               0.003754   \n",
       "\n",
       "variable  x__agg_linear_trend__f_agg_\"max\"__chunk_len_10__attr_\"intercept\"  \\\n",
       "id                                                                           \n",
       "0                                                 -0.855854                  \n",
       "1                                                  4.885473                  \n",
       "2                                                  5.536114                  \n",
       "3                                                  3.015779                  \n",
       "4                                                 -1.436621                  \n",
       "\n",
       "variable  x__agg_linear_trend__f_agg_\"max\"__chunk_len_10__attr_\"rvalue\"  \\\n",
       "id                                                                        \n",
       "0                                                  0.638863               \n",
       "1                                                 -0.091550               \n",
       "2                                                  0.213840               \n",
       "3                                                 -0.022263               \n",
       "4                                                 -0.326126               \n",
       "\n",
       "variable  x__agg_linear_trend__f_agg_\"max\"__chunk_len_10__attr_\"slope\"  \\\n",
       "id                                                                       \n",
       "0                                                  0.015026              \n",
       "1                                                 -0.005762              \n",
       "2                                                  0.014816              \n",
       "3                                                 -0.001506              \n",
       "4                                                 -0.020166              \n",
       "\n",
       "variable  x__agg_linear_trend__f_agg_\"max\"__chunk_len_10__attr_\"stderr\"  \\\n",
       "id                                                                        \n",
       "0                                                  0.001439               \n",
       "1                                                  0.004986               \n",
       "2                                                  0.005384               \n",
       "3                                                  0.005141               \n",
       "4                                                  0.003871               \n",
       "\n",
       "variable  x__agg_linear_trend__f_agg_\"max\"__chunk_len_50__attr_\"intercept\"  \\\n",
       "id                                                                           \n",
       "0                                                 -0.935256                  \n",
       "1                                                  7.876297                  \n",
       "2                                                  9.103860                  \n",
       "3                                                  6.264023                  \n",
       "4                                                  5.432917                  \n",
       "\n",
       "variable  ...  z__symmetry_looking__r_0.9  \\\n",
       "id        ...                               \n",
       "0         ...                         1.0   \n",
       "1         ...                         1.0   \n",
       "2         ...                         1.0   \n",
       "3         ...                         1.0   \n",
       "4         ...                         1.0   \n",
       "\n",
       "variable  z__symmetry_looking__r_0.9500000000000001  \\\n",
       "id                                                    \n",
       "0                                               1.0   \n",
       "1                                               1.0   \n",
       "2                                               1.0   \n",
       "3                                               1.0   \n",
       "4                                               1.0   \n",
       "\n",
       "variable  z__time_reversal_asymmetry_statistic__lag_1  \\\n",
       "id                                                      \n",
       "0                                            0.006316   \n",
       "1                                           -0.165026   \n",
       "2                                            0.335137   \n",
       "3                                           -0.044145   \n",
       "4                                          -14.781696   \n",
       "\n",
       "variable  z__time_reversal_asymmetry_statistic__lag_2  \\\n",
       "id                                                      \n",
       "0                                           -0.000659   \n",
       "1                                           -0.095387   \n",
       "2                                            1.718440   \n",
       "3                                           -0.308346   \n",
       "4                                           -6.498899   \n",
       "\n",
       "variable  z__time_reversal_asymmetry_statistic__lag_3  \\\n",
       "id                                                      \n",
       "0                                            0.001838   \n",
       "1                                            1.166803   \n",
       "2                                            3.144522   \n",
       "3                                           -0.888829   \n",
       "4                                           -7.256898   \n",
       "\n",
       "variable  z__value_count__value_-1  z__value_count__value_0  \\\n",
       "id                                                            \n",
       "0                              0.0                      0.0   \n",
       "1                              0.0                      0.0   \n",
       "2                              0.0                      0.0   \n",
       "3                              0.0                      0.0   \n",
       "4                              0.0                      0.0   \n",
       "\n",
       "variable  z__value_count__value_1  z__variance  \\\n",
       "id                                               \n",
       "0                             0.0     0.136844   \n",
       "1                             0.0     5.575244   \n",
       "2                             0.0     5.171290   \n",
       "3                             0.0     4.766660   \n",
       "4                             0.0     8.103196   \n",
       "\n",
       "variable  z__variance_larger_than_standard_deviation  \n",
       "id                                                    \n",
       "0                                                0.0  \n",
       "1                                                1.0  \n",
       "2                                                1.0  \n",
       "3                                                1.0  \n",
       "4                                                1.0  \n",
       "\n",
       "[5 rows x 2262 columns]"
      ]
     },
     "execution_count": 7,
     "metadata": {},
     "output_type": "execute_result"
    }
   ],
   "source": [
    "print(df_feature.shape)\n",
    "df_feature.head()"
   ]
  },
  {
   "cell_type": "code",
   "execution_count": 110,
   "id": "febf22d6",
   "metadata": {},
   "outputs": [
    {
     "data": {
      "text/plain": [
       "array([4677, 1531,  558,  132,   11], dtype=int64)"
      ]
     },
     "execution_count": 110,
     "metadata": {},
     "output_type": "execute_result"
    },
    {
     "data": {
      "image/png": "[encoded data removed]",
      "text/plain": [
       "<Figure size 432x288 with 1 Axes>"
      ]
     },
     "metadata": {
      "needs_background": "light"
     },
     "output_type": "display_data"
    }
   ],
   "source": [
    "# score distribution\n",
    "score = df_score['tremor_GENEActivHand'].values\n",
    "score = np.array(score, dtype=float)\n",
    "counts, bin_edges = np.histogram(score,bins = range(6))\n",
    "fig, ax = plt.subplots()\n",
    "ax.hist(score, histtype='bar', color = 'grey')\n",
    "ax.set_xlabel('Tremor score')\n",
    "ax.set_ylabel('Count')\n",
    "ax.set_xticks([0,1,2,3,4])\n",
    "# save figure\n",
    "# plt.savefig(os.path.join(save_path,\"Tremor_score_distribution\"))\n",
    "counts"
   ]
  },
  {
   "cell_type": "code",
   "execution_count": 112,
   "id": "08575caf",
   "metadata": {},
   "outputs": [],
   "source": [
    "# Try different task categories\n",
    "# task categories\n",
    "task_groups = [['stndg', 'sittg'],['wlkgs', 'wlkgc', 'wlkgp', 'strsu', 'strsd', 'ststd'],\n",
    "               ['ftnr', 'ftnl', 'ramr', 'raml', 'drawg', 'typng', 'ntblt', 'drnkg', 'orgpa', 'fldng']]\n",
    "# task_code = ['stndg', 'sittg']\n",
    "# task_code = ['wlkgs', 'wlkgc', 'wlkgp', 'strsu', 'strsd', 'ststd']\n",
    "# task_code = ['ftnr', 'ftnl', 'ramr', 'raml', 'drawg', 'typng', 'ntblt', 'drnkg', 'orgpa', 'fldng']"
   ]
  },
  {
   "cell_type": "code",
   "execution_count": 113,
   "id": "bc08e2fa",
   "metadata": {},
   "outputs": [],
   "source": [
    "is_tasks = df_score['task_code'].isin(task_groups[2]).tolist()\n",
    "df_feature_task = df_feature[is_tasks]\n",
    "df_score_task = df_score[is_tasks]"
   ]
  },
  {
   "cell_type": "code",
   "execution_count": null,
   "id": "5d0424d7",
   "metadata": {},
   "outputs": [],
   "source": []
  },
  {
   "cell_type": "code",
   "execution_count": 114,
   "id": "e07d4a4b",
   "metadata": {},
   "outputs": [
    {
     "name": "stdout",
     "output_type": "stream",
     "text": [
      "(4554, 2247)\n"
     ]
    }
   ],
   "source": [
    "# Removing features with nan\n",
    "df_feature2 = df_feature_task.dropna(axis=1)\n",
    "print(df_feature2.shape)"
   ]
  },
  {
   "cell_type": "code",
   "execution_count": 115,
   "id": "9fb5b68c",
   "metadata": {},
   "outputs": [
    {
     "name": "stdout",
     "output_type": "stream",
     "text": [
      "(4554, 2149)\n"
     ]
    }
   ],
   "source": [
    "# Removing features with zero variance\n",
    "from sklearn.feature_selection import VarianceThreshold\n",
    "sel = VarianceThreshold()\n",
    "df_feature3 = sel.fit_transform(df_feature2)\n",
    "filter3 = sel.get_support()\n",
    "feature_names2 = df_feature2.columns\n",
    "feature_names3 = feature_names2[filter3]\n",
    "df_feature3 = pd.DataFrame(df_feature3, columns=feature_names3)\n",
    "print(df_feature3.shape)"
   ]
  },
  {
   "cell_type": "code",
   "execution_count": 116,
   "id": "1d01875e",
   "metadata": {},
   "outputs": [],
   "source": [
    "score = df_score_task['tremor_GENEActivHand'].values\n",
    "score = np.array(score, dtype=float)"
   ]
  },
  {
   "cell_type": "code",
   "execution_count": 117,
   "id": "6989f51a",
   "metadata": {},
   "outputs": [
    {
     "data": {
      "text/plain": [
       "array([4677, 1531,  558,  132,   11], dtype=int64)"
      ]
     },
     "execution_count": 117,
     "metadata": {},
     "output_type": "execute_result"
    },
    {
     "data": {
      "image/png": "[encoded data removed]",
      "text/plain": [
       "<Figure size 432x288 with 1 Axes>"
      ]
     },
     "metadata": {
      "needs_background": "light"
     },
     "output_type": "display_data"
    }
   ],
   "source": [
    "# score distribution\n",
    "hist, bin_edges = np.histogram(score)\n",
    "fig, ax = plt.subplots()\n",
    "ax.hist(score, histtype='bar', color = 'grey')\n",
    "ax.set_xlabel('Tremor score')\n",
    "ax.set_ylabel('Count')\n",
    "ax.set_xticks([0,1,2,3,4])\n",
    "# save figure\n",
    "# plt.savefig(os.path.join(save_path,\"Tremor_score_distribution\"))\n",
    "counts"
   ]
  },
  {
   "cell_type": "code",
   "execution_count": 118,
   "id": "48c2d6f2",
   "metadata": {},
   "outputs": [
    {
     "data": {
      "text/plain": [
       "array([2904, 1190,  407,   53,    0], dtype=int64)"
      ]
     },
     "execution_count": 118,
     "metadata": {},
     "output_type": "execute_result"
    }
   ],
   "source": [
    "# Merge score 3 and 4\n",
    "score[score==4] = 3\n",
    "counts, bins = np.histogram(score, bins = range(6))\n",
    "counts"
   ]
  },
  {
   "cell_type": "code",
   "execution_count": 119,
   "id": "cc1939a3",
   "metadata": {},
   "outputs": [
    {
     "name": "stderr",
     "output_type": "stream",
     "text": [
      "C:\\Users\\Yiting\\Anaconda3\\envs\\ws4pd\\lib\\site-packages\\sklearn\\feature_selection\\_univariate_selection.py:112: UserWarning: Features [  66  780 1499] are constant.\n",
      "  warnings.warn(\"Features %s are constant.\" % constant_features_idx, UserWarning)\n",
      "C:\\Users\\Yiting\\Anaconda3\\envs\\ws4pd\\lib\\site-packages\\sklearn\\feature_selection\\_univariate_selection.py:113: RuntimeWarning: invalid value encountered in true_divide\n",
      "  f = msb / msw\n"
     ]
    }
   ],
   "source": [
    "# Univariate Selection\n",
    "from sklearn.feature_selection import SelectKBest\n",
    "from sklearn.feature_selection import f_classif\n",
    "from numpy import set_printoptions\n",
    "test = SelectKBest(score_func=f_classif, k=30)\n",
    "df_feature4 = test.fit_transform(df_feature3, score)"
   ]
  },
  {
   "cell_type": "code",
   "execution_count": 120,
   "id": "061bb4e7",
   "metadata": {},
   "outputs": [],
   "source": [
    "filter4 = test.get_support()\n",
    "feature_names4 = feature_names3[filter4]\n",
    "df_feature4 = pd.DataFrame(df_feature4, columns=feature_names4)"
   ]
  },
  {
   "cell_type": "code",
   "execution_count": 121,
   "id": "64b34da8",
   "metadata": {},
   "outputs": [],
   "source": [
    "# PCA\n",
    "X=df_feature4.values\n",
    "pca = PCA(n_components=10)\n",
    "fit = pca.fit(X)"
   ]
  },
  {
   "cell_type": "code",
   "execution_count": 125,
   "id": "76d453e8",
   "metadata": {},
   "outputs": [
    {
     "data": {
      "text/plain": [
       "array([0.99999315, 0.99999961, 0.99999976, 0.99999987, 0.99999992,\n",
       "       0.99999995, 0.99999997, 0.99999998, 0.99999999, 0.99999999])"
      ]
     },
     "execution_count": 125,
     "metadata": {},
     "output_type": "execute_result"
    }
   ],
   "source": [
    "# Cumulative explained variance\n",
    "cumulative_EV = np.cumsum(fit.explained_variance_ratio_)\n",
    "cumulative_EV"
   ]
  },
  {
   "cell_type": "code",
   "execution_count": 127,
   "id": "b3e0eaef",
   "metadata": {},
   "outputs": [
    {
     "data": {
      "text/plain": [
       "[Text(0, 0, '0'),\n",
       " Text(0, 1, '1'),\n",
       " Text(0, 2, '2'),\n",
       " Text(0, 3, '3'),\n",
       " Text(0, 4, '4')]"
      ]
     },
     "execution_count": 127,
     "metadata": {},
     "output_type": "execute_result"
    },
    {
     "data": {
      "image/png": "[encoded data removed]",
      "text/plain": [
       "<Figure size 432x288 with 1 Axes>"
      ]
     },
     "metadata": {
      "needs_background": "light"
     },
     "output_type": "display_data"
    }
   ],
   "source": [
    "# Use PC1 as a feature to train models? \n",
    "X_new = pca.fit_transform(X)\n",
    "PC1 = X_new[:,0]\n",
    "x = PC1\n",
    "y = score\n",
    "fig, ax = plt.subplots()\n",
    "ax.scatter(x,y,facecolors='none', edgecolors='b')\n",
    "ax.set_xlabel(['PC1' + '(' + str(cumulative_EV[0]) + ')'])\n",
    "ax.set_ylabel('Tremor score')\n",
    "ax.set_yticks([0,1,2,3,4])\n",
    "ax.set_yticklabels(['0','1','2','3','4'])\n",
    "# save figure\n",
    "# file_name = 'PC1'\n",
    "# plt.savefig(os.path.join(save_path,'Train_dataset','SelectKBest','feature_vs_score',file_name))"
   ]
  },
  {
   "cell_type": "code",
   "execution_count": 101,
   "id": "9c193411",
   "metadata": {},
   "outputs": [
    {
     "data": {
      "text/plain": [
       "Index(['y__percentage_of_reoccurring_values_to_all_values',\n",
       "       'x__percentage_of_reoccurring_values_to_all_values',\n",
       "       'z__percentage_of_reoccurring_values_to_all_values',\n",
       "       'z__percentage_of_reoccurring_datapoints_to_all_datapoints',\n",
       "       'y__percentage_of_reoccurring_datapoints_to_all_datapoints',\n",
       "       'x__percentage_of_reoccurring_datapoints_to_all_datapoints',\n",
       "       'y__ar_coefficient__k_10__coeff_2', 'x__has_duplicate',\n",
       "       'z__change_quantiles__f_agg_\"mean\"__isabs_True__qh_1.0__ql_0.8',\n",
       "       'z__change_quantiles__f_agg_\"mean\"__isabs_True__qh_1.0__ql_0.6',\n",
       "       'z__change_quantiles__f_agg_\"mean\"__isabs_True__qh_1.0__ql_0.4',\n",
       "       'z__mean_abs_change',\n",
       "       'z__change_quantiles__f_agg_\"mean\"__isabs_True__qh_1.0__ql_0.0',\n",
       "       'x__change_quantiles__f_agg_\"mean\"__isabs_True__qh_0.6__ql_0.0',\n",
       "       'x__change_quantiles__f_agg_\"mean\"__isabs_True__qh_1.0__ql_0.6',\n",
       "       'x__change_quantiles__f_agg_\"mean\"__isabs_True__qh_0.8__ql_0.0',\n",
       "       'x__change_quantiles__f_agg_\"mean\"__isabs_True__qh_1.0__ql_0.4',\n",
       "       'x__change_quantiles__f_agg_\"mean\"__isabs_True__qh_1.0__ql_0.2',\n",
       "       'x__change_quantiles__f_agg_\"mean\"__isabs_True__qh_1.0__ql_0.0',\n",
       "       'x__mean_abs_change',\n",
       "       'z__change_quantiles__f_agg_\"var\"__isabs_False__qh_1.0__ql_0.6',\n",
       "       'x__change_quantiles__f_agg_\"var\"__isabs_True__qh_1.0__ql_0.0',\n",
       "       'z__ratio_value_number_to_time_series_length',\n",
       "       'z__change_quantiles__f_agg_\"var\"__isabs_False__qh_1.0__ql_0.4',\n",
       "       'x__ratio_value_number_to_time_series_length',\n",
       "       'y__ratio_value_number_to_time_series_length',\n",
       "       'x__change_quantiles__f_agg_\"var\"__isabs_False__qh_0.6__ql_0.0',\n",
       "       'x__change_quantiles__f_agg_\"var\"__isabs_False__qh_0.8__ql_0.0',\n",
       "       'x__change_quantiles__f_agg_\"var\"__isabs_False__qh_1.0__ql_0.0',\n",
       "       'x__sum_of_reoccurring_data_points'],\n",
       "      dtype='object', name='variable')"
      ]
     },
     "execution_count": 101,
     "metadata": {},
     "output_type": "execute_result"
    }
   ],
   "source": [
    "# What waveform features contribute to PC1?\n",
    "Y = fit.components_\n",
    "indices = np.argsort(Y[0])[::-1] # sorting in a descending order\n",
    "feature_names4[indices]"
   ]
  },
  {
   "cell_type": "code",
   "execution_count": null,
   "id": "f5b6ed11",
   "metadata": {},
   "outputs": [],
   "source": []
  }
 ],
 "metadata": {
  "kernelspec": {
   "display_name": "Python 3 (ipykernel)",
   "language": "python",
   "name": "python3"
  },
  "language_info": {
   "codemirror_mode": {
    "name": "ipython",
    "version": 3
   },
   "file_extension": ".py",
   "mimetype": "text/x-python",
   "name": "python",
   "nbconvert_exporter": "python",
   "pygments_lexer": "ipython3",
   "version": "3.7.1"
  }
 },
 "nbformat": 4,
 "nbformat_minor": 5
}
