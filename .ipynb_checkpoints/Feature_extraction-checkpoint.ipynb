{
 "cells": [
  {
   "cell_type": "code",
   "execution_count": null,
   "id": "fb38be72",
   "metadata": {},
   "outputs": [],
   "source": [
    "## to-do-list\n",
    "\n",
    "# Pebble \n",
    "# 1. Feature extraction\n",
    "\n",
    "# Phone \n",
    "# 2. Feature extraction\n"
   ]
  },
  {
   "cell_type": "code",
   "execution_count": 1,
   "id": "2797aa5d",
   "metadata": {},
   "outputs": [],
   "source": [
    "import pandas as pd\n",
    "import os\n",
    "import numpy as np\n",
    "import matplotlib.pyplot as plt\n",
    "import scipy.stats as stats\n",
    "import seaborn as sns\n",
    "import itertools\n",
    "import tsfresh\n",
    "from tsfresh.feature_extraction import extract_features, MinimalFCParameters, EfficientFCParameters\n",
    "from tsfresh import select_features\n",
    "from tsfresh.utilities.dataframe_functions import impute\n",
    "\n",
    "import warnings\n",
    "warnings.simplefilter(action='ignore', category=FutureWarning)\n",
    "from pandas.core.common import SettingWithCopyWarning\n",
    "warnings.simplefilter(action=\"ignore\", category=SettingWithCopyWarning)"
   ]
  },
  {
   "cell_type": "code",
   "execution_count": 2,
   "id": "618c599d",
   "metadata": {},
   "outputs": [],
   "source": [
    "direc = \"E:\\\\WS4PD_data\"\n",
    "os.chdir(direc)\n",
    "save_path = os.path.join(direc, \"Feature_extraction\")\n",
    "# load data\n",
    "demogra_data = pd.read_csv(\"Demographics_data.csv\")\n",
    "task_score = pd.read_csv(\"Task_scores_part_I.csv\")"
   ]
  },
  {
   "cell_type": "code",
   "execution_count": null,
   "id": "be678cb9",
   "metadata": {},
   "outputs": [],
   "source": []
  },
  {
   "cell_type": "code",
   "execution_count": 4,
   "id": "572d7d0e",
   "metadata": {},
   "outputs": [
    {
     "data": {
      "text/plain": [
       "Index(['ROW_ID', 'ROW_VERSION', 'subject_id', 'cohort', 'gender', 'birth_year',\n",
       "       'dominant_hand', 'upper_limb_length', 'upper_arm_length',\n",
       "       'lower_arm_length', 'lower_limb_length', 'thigh_length', 'shank_length',\n",
       "       'height', 'weight', 'visit_date', 'diagnosis_day', 'diagnosis_month',\n",
       "       'diagnosis_year', 'pd_most_affected_side', 'gait_impediments',\n",
       "       'posture_instability', 'tremor', 'bradykinesia', 'disrupted_sleep',\n",
       "       'freeze_of_gait', 'dyskinesia', 'rigidity', 'other_symptoms',\n",
       "       'last_levodopa_dose_timestamp', 'regular_medication', 'geneactive_num',\n",
       "       'pebble_num', 'geneactive_hand', 'pebble_hand', 'smartphone_location',\n",
       "       'recording_start', 'recording_end', 'timezone', 'updrs_time',\n",
       "       'updrs_score_p1', 'updrs_score_p2', 'updrs_score_p3', 'updrs_score_p4',\n",
       "       'h_and_y_score', 'updrs_second_visit_time',\n",
       "       'updrs_second_visit_score_p3'],\n",
       "      dtype='object')"
      ]
     },
     "execution_count": 4,
     "metadata": {},
     "output_type": "execute_result"
    }
   ],
   "source": [
    "demogra_data.columns"
   ]
  },
  {
   "cell_type": "code",
   "execution_count": 3,
   "id": "112a1319",
   "metadata": {},
   "outputs": [
    {
     "name": "stdout",
     "output_type": "stream",
     "text": [
      "(62199, 13)\n"
     ]
    },
    {
     "data": {
      "text/html": [
       "<div>\n",
       "<style scoped>\n",
       "    .dataframe tbody tr th:only-of-type {\n",
       "        vertical-align: middle;\n",
       "    }\n",
       "\n",
       "    .dataframe tbody tr th {\n",
       "        vertical-align: top;\n",
       "    }\n",
       "\n",
       "    .dataframe thead th {\n",
       "        text-align: right;\n",
       "    }\n",
       "</style>\n",
       "<table border=\"1\" class=\"dataframe\">\n",
       "  <thead>\n",
       "    <tr style=\"text-align: right;\">\n",
       "      <th></th>\n",
       "      <th>ROW_ID</th>\n",
       "      <th>ROW_VERSION</th>\n",
       "      <th>subject_id</th>\n",
       "      <th>visit</th>\n",
       "      <th>session</th>\n",
       "      <th>task_id</th>\n",
       "      <th>task_code</th>\n",
       "      <th>repetition</th>\n",
       "      <th>timestamp_start</th>\n",
       "      <th>timestamp_end</th>\n",
       "      <th>phenotype</th>\n",
       "      <th>body_segment</th>\n",
       "      <th>score</th>\n",
       "    </tr>\n",
       "  </thead>\n",
       "  <tbody>\n",
       "    <tr>\n",
       "      <th>0</th>\n",
       "      <td>1</td>\n",
       "      <td>1</td>\n",
       "      <td>3_BOS</td>\n",
       "      <td>1</td>\n",
       "      <td>1</td>\n",
       "      <td>1</td>\n",
       "      <td>stndg</td>\n",
       "      <td>1</td>\n",
       "      <td>1423568629</td>\n",
       "      <td>1423568661</td>\n",
       "      <td>tremor</td>\n",
       "      <td>RightUpperLimb</td>\n",
       "      <td>0</td>\n",
       "    </tr>\n",
       "    <tr>\n",
       "      <th>1</th>\n",
       "      <td>2</td>\n",
       "      <td>1</td>\n",
       "      <td>3_BOS</td>\n",
       "      <td>1</td>\n",
       "      <td>1</td>\n",
       "      <td>1</td>\n",
       "      <td>stndg</td>\n",
       "      <td>1</td>\n",
       "      <td>1423568629</td>\n",
       "      <td>1423568661</td>\n",
       "      <td>tremor</td>\n",
       "      <td>LeftUpperLimb</td>\n",
       "      <td>0</td>\n",
       "    </tr>\n",
       "    <tr>\n",
       "      <th>2</th>\n",
       "      <td>3</td>\n",
       "      <td>1</td>\n",
       "      <td>3_BOS</td>\n",
       "      <td>1</td>\n",
       "      <td>1</td>\n",
       "      <td>1</td>\n",
       "      <td>stndg</td>\n",
       "      <td>1</td>\n",
       "      <td>1423568629</td>\n",
       "      <td>1423568661</td>\n",
       "      <td>tremor</td>\n",
       "      <td>LowerLimbs</td>\n",
       "      <td>0</td>\n",
       "    </tr>\n",
       "    <tr>\n",
       "      <th>3</th>\n",
       "      <td>4</td>\n",
       "      <td>1</td>\n",
       "      <td>3_BOS</td>\n",
       "      <td>1</td>\n",
       "      <td>1</td>\n",
       "      <td>1</td>\n",
       "      <td>stndg</td>\n",
       "      <td>1</td>\n",
       "      <td>1423568629</td>\n",
       "      <td>1423568661</td>\n",
       "      <td>dyskinesia</td>\n",
       "      <td>RightUpperLimb</td>\n",
       "      <td>Yes</td>\n",
       "    </tr>\n",
       "    <tr>\n",
       "      <th>4</th>\n",
       "      <td>5</td>\n",
       "      <td>1</td>\n",
       "      <td>3_BOS</td>\n",
       "      <td>1</td>\n",
       "      <td>1</td>\n",
       "      <td>1</td>\n",
       "      <td>stndg</td>\n",
       "      <td>1</td>\n",
       "      <td>1423568629</td>\n",
       "      <td>1423568661</td>\n",
       "      <td>dyskinesia</td>\n",
       "      <td>LeftUpperLimb</td>\n",
       "      <td>Yes</td>\n",
       "    </tr>\n",
       "  </tbody>\n",
       "</table>\n",
       "</div>"
      ],
      "text/plain": [
       "   ROW_ID  ROW_VERSION subject_id  visit  session  task_id task_code  \\\n",
       "0       1            1      3_BOS      1        1        1     stndg   \n",
       "1       2            1      3_BOS      1        1        1     stndg   \n",
       "2       3            1      3_BOS      1        1        1     stndg   \n",
       "3       4            1      3_BOS      1        1        1     stndg   \n",
       "4       5            1      3_BOS      1        1        1     stndg   \n",
       "\n",
       "   repetition  timestamp_start  timestamp_end   phenotype    body_segment  \\\n",
       "0           1       1423568629     1423568661      tremor  RightUpperLimb   \n",
       "1           1       1423568629     1423568661      tremor   LeftUpperLimb   \n",
       "2           1       1423568629     1423568661      tremor      LowerLimbs   \n",
       "3           1       1423568629     1423568661  dyskinesia  RightUpperLimb   \n",
       "4           1       1423568629     1423568661  dyskinesia   LeftUpperLimb   \n",
       "\n",
       "  score  \n",
       "0     0  \n",
       "1     0  \n",
       "2     0  \n",
       "3   Yes  \n",
       "4   Yes  "
      ]
     },
     "execution_count": 3,
     "metadata": {},
     "output_type": "execute_result"
    }
   ],
   "source": [
    "print(task_score.shape)\n",
    "task_score.head()"
   ]
  },
  {
   "cell_type": "code",
   "execution_count": null,
   "id": "2eba0a92",
   "metadata": {},
   "outputs": [],
   "source": [
    "# devices\n",
    "# devices = ['GENEActiv', 'Pebble', 'Phone']"
   ]
  },
  {
   "cell_type": "code",
   "execution_count": 5,
   "id": "2835453d",
   "metadata": {},
   "outputs": [],
   "source": [
    "visits = [1, 2]\n",
    "days = [1, 4]\n",
    "sample_rate = 50\n",
    "dt = 1/sample_rate\n",
    "subject_ids = task_score.subject_id.unique()"
   ]
  },
  {
   "cell_type": "code",
   "execution_count": null,
   "id": "b5bcf41b",
   "metadata": {},
   "outputs": [],
   "source": [
    "device = 'Pebble'\n",
    "# 4_BOS didn't have Pebble data\n",
    "subject_ids = np.delete(subject_ids, np.where(subject_ids == '4_BOS'))"
   ]
  },
  {
   "cell_type": "markdown",
   "id": "56fee196",
   "metadata": {},
   "source": [
    "# Dataset construction"
   ]
  },
  {
   "cell_type": "markdown",
   "id": "67f9dd52",
   "metadata": {},
   "source": [
    "## score"
   ]
  },
  {
   "cell_type": "code",
   "execution_count": 6,
   "id": "5cebda74",
   "metadata": {},
   "outputs": [
    {
     "name": "stdout",
     "output_type": "stream",
     "text": [
      "More than one task in this trial:\n",
      "2_NYC 2 4 orgpa 1 [39069, 39070, 39071, 39072, 39073, 39074, 39075, 39076, 39077, 39078, 39079, 39080, 39081, 39082, 39083, 39084, 39085, 39086]\n"
     ]
    }
   ],
   "source": [
    "# devices\n",
    "df_score = pd.DataFrame()\n",
    "\n",
    "# Get column names \n",
    "devices = ['GENEActiv', 'Pebble']\n",
    "phenotypes = task_score['phenotype'].unique()\n",
    "column_names = ['subject_id', 'visit', 'session', 'task_code', 'repetition']\n",
    "for i,j in itertools.product(phenotypes, devices):\n",
    "    column_names.append(i+ '_' +j+'Hand')\n",
    "is_phenotypes = [task_score.phenotype == pp for pp in phenotypes]\n",
    "# Get task scores\n",
    "for sb in subject_ids:\n",
    "    geneactive_hand = demogra_data.geneactive_hand.loc[demogra_data.subject_id == sb].values[0]\n",
    "    geneactive_body_segment = geneactive_hand+'UpperLimb'\n",
    "    pebble_hand = demogra_data.pebble_hand.loc[demogra_data.subject_id == sb].values[0]\n",
    "    pebble_body_segment = pebble_hand+'UpperLimb'\n",
    "    for visit, day in zip(visits, days):\n",
    "        is_sb_visit = (task_score.subject_id == sb) & (task_score.visit == visit)\n",
    "        timestamp_start = task_score.timestamp_start[is_sb_visit].unique()\n",
    "        for ts_start in timestamp_start:\n",
    "            is_trials = (task_score.timestamp_start == ts_start) & is_sb_visit\n",
    "            trials_idx = [i for i, val in enumerate(is_trials) if val]\n",
    "            trial_idx = trials_idx[0]\n",
    "            \n",
    "            # Get trial info\n",
    "            session = task_score['session'].values[trial_idx]\n",
    "            task_code = task_score['task_code'].values[trial_idx]\n",
    "            repetition = task_score['repetition'].values[trial_idx]\n",
    "            data_trial = [sb, visit,session,task_code,repetition]\n",
    "            \n",
    "            if len(trials_idx) == 9:\n",
    "                for i in is_phenotypes:\n",
    "                    for j in [geneactive_body_segment, pebble_body_segment]:\n",
    "                        is_trial = is_trials & i & (task_score.body_segment == j)\n",
    "                        score_trial = task_score['score'].loc[is_trial].values[0]\n",
    "                        data_trial.append(score_trial)\n",
    "\n",
    "                df_trial = pd.DataFrame(data= [data_trial], columns = column_names)\n",
    "                df_score = pd.concat([df_score,df_trial])\n",
    "            else:\n",
    "                print('More than one task in this trial:')\n",
    "                print(sb, visit, session, task_code, repetition, trials_idx)\n",
    "                    \n",
    "            \n",
    "df_score = df_score.reset_index(drop=True)"
   ]
  },
  {
   "cell_type": "code",
   "execution_count": 7,
   "id": "365d0b29",
   "metadata": {},
   "outputs": [
    {
     "data": {
      "text/plain": [
       "(6909, 11)"
      ]
     },
     "execution_count": 7,
     "metadata": {},
     "output_type": "execute_result"
    }
   ],
   "source": [
    "df_score.shape"
   ]
  },
  {
   "cell_type": "code",
   "execution_count": 8,
   "id": "69e7f498",
   "metadata": {},
   "outputs": [],
   "source": [
    "# save score data\n",
    "save_file_path = os.path.join(save_path,'score_by_device.pkl')\n",
    "df_score.to_pickle(save_file_path)"
   ]
  },
  {
   "cell_type": "code",
   "execution_count": null,
   "id": "5b7e90c0",
   "metadata": {},
   "outputs": [],
   "source": [
    "# body_segments\n",
    "\n",
    "df_score = pd.DataFrame()\n",
    "\n",
    "# Get column names \n",
    "phenotypes = task_score['phenotype'].unique()\n",
    "body_segments = task_score['body_segment'].unique()\n",
    "column_names = ['subject_id', 'visit', 'session', 'task_code', 'repetition']\n",
    "for i,j in itertools.product(phenotypes, body_segments):\n",
    "    column_names.append(i+ '_' +j)\n",
    "\n",
    "# Get task scores\n",
    "for sb in subject_ids:\n",
    "    for visit, day in zip(visits, days):\n",
    "        is_sb_visit = (task_score.subject_id == sb) & (task_score.visit == visit)\n",
    "        timestamp_start = task_score.timestamp_start[is_sb_visit].unique()\n",
    "        for ts_start in timestamp_start:\n",
    "            is_trials = (task_score.timestamp_start == ts_start) & is_sb_visit\n",
    "            trials_idx = [i for i, val in enumerate(is_trials) if val]\n",
    "            trial_idx = trials_idx[0]\n",
    "            \n",
    "            # Get trial info\n",
    "            session = task_score['session'].values[trial_idx]\n",
    "            task_code = task_score['task_code'].values[trial_idx]\n",
    "            repetition = task_score['repetition'].values[trial_idx]\n",
    "            data_trial = [sb, visit,session,task_code,repetition]\n",
    "            \n",
    "            if len(trials_idx) == 9:\n",
    "                # Get task scores\n",
    "                for trial in trials_idx:\n",
    "                    score_trial = task_score['score'].values[trial]\n",
    "                    data_trial.append(score_trial)\n",
    "\n",
    "                df_trial = pd.DataFrame(data= [data_trial], columns = column_names)\n",
    "                df_score = pd.concat([df_score,df_trial])\n",
    "            else:\n",
    "                print('More than one task in this trial:')\n",
    "                print(sb, visit, session, task_code, repetition, trials_idx)\n",
    "                    \n",
    "            \n",
    "df_score.reset_index(drop=True)"
   ]
  },
  {
   "cell_type": "code",
   "execution_count": null,
   "id": "69ed9aaa",
   "metadata": {},
   "outputs": [],
   "source": [
    "# save score data\n",
    "save_file_path = os.path.join(save_path,'score_by_body_segment.pkl')\n",
    "df_score.to_pickle(save_file_path)"
   ]
  },
  {
   "cell_type": "code",
   "execution_count": null,
   "id": "e2d6ae7a",
   "metadata": {},
   "outputs": [],
   "source": [
    "df_score"
   ]
  },
  {
   "cell_type": "code",
   "execution_count": null,
   "id": "b1ddd9b0",
   "metadata": {},
   "outputs": [],
   "source": [
    "# sensor data"
   ]
  },
  {
   "cell_type": "code",
   "execution_count": null,
   "id": "d33f80be",
   "metadata": {},
   "outputs": [],
   "source": [
    "sb = subject_ids[1]\n",
    "visit = visits[0]\n",
    "day = days[0]\n",
    "sensor_path = os.path.join(direc, device, sb, 'rawdata_day'+str(day)+'.txt')\n",
    "sensor_data = pd.read_pickle(sensor_path)\n",
    "is_sb_visit = (task_score.subject_id == sb) & (task_score.visit == visit)\n",
    "timestamp_start = task_score.timestamp_start[is_sb_visit].unique()\n",
    "ts_start = timestamp_start[0]"
   ]
  },
  {
   "cell_type": "code",
   "execution_count": null,
   "id": "7fa86688",
   "metadata": {},
   "outputs": [],
   "source": [
    "is_trials = (task_score.timestamp_start == ts_start) & is_sb_visit\n",
    "trials_idx = [i for i, val in enumerate(is_trials) if val]\n",
    "trial_idx = trials_idx[0]\n",
    "ts_end = task_score['timestamp_end'].values[trial_idx]\n",
    "is_ts = (sensor_data.timestamp.values >= ts_start) & (sensor_data.timestamp.values <= ts_end)\n",
    "\n",
    "# Get trial info\n",
    "session = task_score['session'].values[trial_idx]\n",
    "task_code = task_score['task_code'].values[trial_idx]\n",
    "repetition = task_score['repetition'].values[trial_idx]"
   ]
  },
  {
   "cell_type": "code",
   "execution_count": null,
   "id": "879d896e",
   "metadata": {},
   "outputs": [],
   "source": [
    "trials_idx"
   ]
  },
  {
   "cell_type": "code",
   "execution_count": null,
   "id": "42efee6e",
   "metadata": {},
   "outputs": [],
   "source": [
    "sensor_data"
   ]
  },
  {
   "cell_type": "code",
   "execution_count": null,
   "id": "7ea2b76b",
   "metadata": {},
   "outputs": [],
   "source": [
    "sum(is_ts)"
   ]
  },
  {
   "cell_type": "code",
   "execution_count": null,
   "id": "0bc42119",
   "metadata": {},
   "outputs": [],
   "source": [
    "ts_idx = [i for i, val in enumerate(is_ts) if val]\n",
    "ts_idx"
   ]
  },
  {
   "cell_type": "code",
   "execution_count": null,
   "id": "d763f6b9",
   "metadata": {},
   "outputs": [],
   "source": [
    "np.isnan(sensor_data['Pebble_X'].loc[244608])\n"
   ]
  },
  {
   "cell_type": "code",
   "execution_count": null,
   "id": "a877e11f",
   "metadata": {},
   "outputs": [],
   "source": [
    "# Pebble\n",
    "df = pd.DataFrame()\n",
    "for sb in subject_ids:\n",
    "    for visit, day in zip(visits, days):\n",
    "        sensor_path = os.path.join(direc, device, sb, 'rawdata_day'+str(day)+'.txt')\n",
    "        sensor_data = pd.read_pickle(sensor_path)\n",
    "        is_sb_visit = (task_score.subject_id == sb) & (task_score.visit == visit)\n",
    "        timestamp_start = task_score.timestamp_start[is_sb_visit].unique()\n",
    "        for ts_start in timestamp_start:\n",
    "            is_trials = (task_score.timestamp_start == ts_start) & is_sb_visit\n",
    "            trials_idx = [i for i, val in enumerate(is_trials) if val]\n",
    "            trial_idx = trials_idx[0]\n",
    "            ts_end = task_score['timestamp_end'].values[trial_idx]\n",
    "            is_ts = (sensor_data.timestamp.values >= ts_start) & (sensor_data.timestamp.values <= ts_end)\n",
    "            \n",
    "            # Get trial info\n",
    "            session = task_score['session'].values[trial_idx]\n",
    "            task_code = task_score['task_code'].values[trial_idx]\n",
    "            repetition = task_score['repetition'].values[trial_idx]\n",
    "            \n",
    "            if len(trials_idx) == 9:\n",
    "                x = sensor_data['Pebble_X'].loc[is_ts].values\n",
    "                y = sensor_data['Pebble_Y'].loc[is_ts].values\n",
    "                z = sensor_data['Pebble_Z'].loc[is_ts].values\n",
    "                mag = sensor_data['Pebble_Magnitude'].loc[is_ts].values\n",
    "            else:\n",
    "                print('More than one task in this trial:')\n",
    "                print(sb, visit, session, task_code, repetition, trials_idx)\n",
    "                \n",
    "            df_trial = pd.DataFrame(data= {'subject_id': sb, 'visit': visit, 'session': session,\n",
    "                                           'task_code': task_code, 'repetition': repetition,\n",
    "                                           'Pebble_X': [x], 'Pebble_Y': [y], 'Pebble_Z': [z],\n",
    "                                           'Pebble_Magnitude': [mag]})\n",
    "            df = pd.concat([df,df_trial])\n",
    "df.reset_index(drop=True)"
   ]
  },
  {
   "cell_type": "code",
   "execution_count": null,
   "id": "e5ac0c02",
   "metadata": {},
   "outputs": [],
   "source": []
  },
  {
   "cell_type": "code",
   "execution_count": null,
   "id": "940bbdfe",
   "metadata": {},
   "outputs": [],
   "source": [
    "# save Pebble data\n",
    "file_name = device + '_trial.pkl'\n",
    "save_file_path = os.path.join(save_path,file_name)\n",
    "df.to_pickle(save_file_path)"
   ]
  },
  {
   "cell_type": "code",
   "execution_count": null,
   "id": "2daf8a9e",
   "metadata": {},
   "outputs": [],
   "source": [
    "# GENEActiv\n",
    "# no control on overlapping tasks -> remove one trial from 2_NYC later \n",
    "df = pd.DataFrame()\n",
    "for sb in subject_ids:\n",
    "    for visit, day in zip(visits, days):\n",
    "        sensor_path = os.path.join(direc, device, sb, 'rawdata_day'+str(day)+'.txt')\n",
    "        sensor_data = pd.read_table(sensor_path)\n",
    "        is_sb_visit = (task_score.subject_id == sb) & (task_score.visit == visit)\n",
    "        timestamp_start = task_score.timestamp_start[is_sb_visit].unique()\n",
    "        for ts_start in timestamp_start:\n",
    "            is_trials = (task_score.timestamp_start == ts_start) & is_sb_visit\n",
    "            trials_idx = [i for i, val in enumerate(is_trials) if val]\n",
    "            trial_idx = trials_idx[0]\n",
    "            ts_end = task_score['timestamp_end'].values[trial_idx]\n",
    "            is_ts = (sensor_data.timestamp.values >= ts_start) & (sensor_data.timestamp.values <= ts_end)\n",
    "            x = sensor_data['GENEActiv_X'].loc[is_ts].values\n",
    "            y = sensor_data['GENEActiv_Y'].loc[is_ts].values\n",
    "            z = sensor_data['GENEActiv_Z'].loc[is_ts].values\n",
    "            mag = sensor_data['GENEActiv_Magnitude'].loc[is_ts].values\n",
    "            session = task_score['session'].values[trial_idx]\n",
    "            task_code = task_score['task_code'].values[trial_idx]\n",
    "            repetition = task_score['repetition'].values[trial_idx]\n",
    "            df_trial = pd.DataFrame(data= {'subject_id': sb, 'visit': visit, 'session': session,\n",
    "                                           'task_code': task_code, 'repetition': repetition,\n",
    "                                           'GENEActiv_X': [x], 'GENEActiv_Y': [y], 'GENEActiv_Z': [z],\n",
    "                                           'GENEActiv_Magnitude': [mag]})\n",
    "            df = pd.concat([df,df_trial])\n",
    "df.reset_index(drop=True)"
   ]
  },
  {
   "cell_type": "code",
   "execution_count": null,
   "id": "3c5996d2",
   "metadata": {},
   "outputs": [],
   "source": [
    "# remove \n",
    "sb = '2_NYC'\n",
    "visit = 2\n",
    "session = 4\n",
    "task_code = 'orgpa'\n",
    "repetition = 1\n",
    "\n",
    "is_trial = (df.subject_id == sb) & (df.visit == visit) & (df.session == session) & (df.task_code == task_code)\n",
    "df = df[~is_trial]\n"
   ]
  },
  {
   "cell_type": "code",
   "execution_count": null,
   "id": "977a151c",
   "metadata": {},
   "outputs": [],
   "source": [
    "# save GENEActiv data\n",
    "file_name = device + '_trial.pkl'\n",
    "save_file_path = os.path.join(save_path,file_name)\n",
    "df.to_pickle(save_file_path)"
   ]
  },
  {
   "cell_type": "code",
   "execution_count": null,
   "id": "e7de2b6f",
   "metadata": {},
   "outputs": [],
   "source": []
  },
  {
   "cell_type": "code",
   "execution_count": null,
   "id": "437a2f5b",
   "metadata": {},
   "outputs": [],
   "source": [
    "print(df.shape)\n",
    "# check missing trials\n",
    "df.isnull().sum().sum()"
   ]
  },
  {
   "cell_type": "code",
   "execution_count": null,
   "id": "43039b99",
   "metadata": {},
   "outputs": [],
   "source": []
  },
  {
   "cell_type": "code",
   "execution_count": null,
   "id": "9cda0b9d",
   "metadata": {},
   "outputs": [],
   "source": [
    "# Construct data for tsfresh \n",
    "# Each trial has a different id\n",
    "# Save extracted features for each subject\n",
    "# Output: extracted features (row: trial, column: feature)\n",
    "for sb in subject_ids[2:]:\n",
    "    df_tsfresh = pd.DataFrame()\n",
    "    df_sb = df[df.subject_id == sb]\n",
    "    for trial in range(len(df_sb)):\n",
    "        x = df_sb.Pebble_X.iloc[trial]\n",
    "        y = df_sb.Pebble_Y.iloc[trial]\n",
    "        z = df_sb.Pebble_Z.iloc[trial]   \n",
    "#         x = df_sb.GENEActiv_X.iloc[trial]\n",
    "#         y = df_sb.GENEActiv_Y.iloc[trial]\n",
    "#         z = df_sb.GENEActiv_Z.iloc[trial]\n",
    "        t = np.round_([item * dt for item in range(len(x))],2)\n",
    "        df_trial = pd.DataFrame(data = {'id':trial, 'time':t, 'x': x, 'y': y, 'z': z})\n",
    "        df_tsfresh = pd.concat([df_tsfresh,df_trial])\n",
    "    # extract comprehensive features (default)\n",
    "    extracted_features = extract_features(df_tsfresh, column_id=\"id\", column_sort=\"time\")\n",
    "    # save extracted features\n",
    "    save_file_path = os.path.join(save_path,device,sb + '_features.pkl')\n",
    "    extracted_features.to_pickle(save_file_path)"
   ]
  },
  {
   "cell_type": "code",
   "execution_count": null,
   "id": "14983967",
   "metadata": {},
   "outputs": [],
   "source": [
    "sb = subject_ids[1]\n",
    "sb"
   ]
  },
  {
   "cell_type": "code",
   "execution_count": null,
   "id": "63d4d3cb",
   "metadata": {},
   "outputs": [],
   "source": [
    "df_tsfresh = pd.DataFrame()\n",
    "df_sb = df[df.subject_id == sb]\n",
    "for trial in range(len(df_sb)):\n",
    "    x = df_sb.Pebble_X.iloc[trial]\n",
    "    y = df_sb.Pebble_Y.iloc[trial]\n",
    "    z = df_sb.Pebble_Z.iloc[trial]   \n",
    "#         x = df_sb.GENEActiv_X.iloc[trial]\n",
    "#         y = df_sb.GENEActiv_Y.iloc[trial]\n",
    "#         z = df_sb.GENEActiv_Z.iloc[trial]\n",
    "    t = np.round_([item * dt for item in range(len(x))],2)\n",
    "    df_trial = pd.DataFrame(data = {'id':trial, 'time':t, 'x': x, 'y': y, 'z': z})\n",
    "    df_tsfresh = pd.concat([df_tsfresh,df_trial])"
   ]
  },
  {
   "cell_type": "code",
   "execution_count": null,
   "id": "53a3cd98",
   "metadata": {},
   "outputs": [],
   "source": [
    "trial = 0\n",
    "x = df_sb.Pebble_X.iloc[trial]\n",
    "x"
   ]
  },
  {
   "cell_type": "code",
   "execution_count": null,
   "id": "4a615e53",
   "metadata": {},
   "outputs": [],
   "source": [
    "df_tsfresh"
   ]
  },
  {
   "cell_type": "code",
   "execution_count": null,
   "id": "24045f4f",
   "metadata": {},
   "outputs": [],
   "source": []
  },
  {
   "cell_type": "code",
   "execution_count": null,
   "id": "6a2986f8",
   "metadata": {},
   "outputs": [],
   "source": [
    "# check the shape of extracted features \n",
    "extracted_features"
   ]
  },
  {
   "cell_type": "code",
   "execution_count": null,
   "id": "4a39adac",
   "metadata": {},
   "outputs": [],
   "source": [
    "df_sb"
   ]
  },
  {
   "cell_type": "code",
   "execution_count": null,
   "id": "2647e9d0",
   "metadata": {},
   "outputs": [],
   "source": []
  }
 ],
 "metadata": {
  "kernelspec": {
   "display_name": "Python 3 (ipykernel)",
   "language": "python",
   "name": "python3"
  },
  "language_info": {
   "codemirror_mode": {
    "name": "ipython",
    "version": 3
   },
   "file_extension": ".py",
   "mimetype": "text/x-python",
   "name": "python",
   "nbconvert_exporter": "python",
   "pygments_lexer": "ipython3",
   "version": "3.7.1"
  }
 },
 "nbformat": 4,
 "nbformat_minor": 5
}
