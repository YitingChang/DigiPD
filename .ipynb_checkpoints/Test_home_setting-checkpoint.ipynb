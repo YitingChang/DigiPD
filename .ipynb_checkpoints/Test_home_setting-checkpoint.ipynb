{
 "cells": [
  {
   "cell_type": "code",
   "execution_count": 1,
   "id": "ecf026b3",
   "metadata": {},
   "outputs": [],
   "source": [
    "# Core\n",
    "import pandas as pd\n",
    "import os\n",
    "import numpy as np\n",
    "from numpy import set_printoptions, sqrt, argmax, arange\n",
    "from numpy.random import permutation\n",
    "import scipy.stats as stats\n",
    "from itertools import compress\n",
    "import matplotlib.pyplot as plt\n",
    "import seaborn as sns\n",
    "import time\n",
    "import pickle\n",
    "\n",
    "#tsfresh\n",
    "import tsfresh\n",
    "from tsfresh.feature_extraction import extract_features, MinimalFCParameters, EfficientFCParameters\n",
    "from tsfresh import select_features\n",
    "from tsfresh.utilities.dataframe_functions import impute\n",
    "\n",
    "# Sklearn\n",
    "from sklearn.feature_selection import VarianceThreshold, SelectKBest, f_classif, chi2\n",
    "from sklearn.model_selection import train_test_split, GridSearchCV, RandomizedSearchCV, StratifiedKFold\n",
    "from sklearn.metrics import accuracy_score, confusion_matrix, recall_score, precision_score, f1_score, precision_recall_curve\n",
    "from sklearn.metrics import roc_auc_score, plot_confusion_matrix, plot_roc_curve, roc_curve, ConfusionMatrixDisplay\n",
    "from sklearn.utils import resample\n",
    "from sklearn.decomposition import PCA\n",
    "\n",
    "# Models\n",
    "from sklearn.linear_model import LinearRegression, LogisticRegression\n",
    "from sklearn.neighbors import KNeighborsClassifier\n",
    "from sklearn.svm import SVC\n",
    "from sklearn.tree import DecisionTreeClassifier\n",
    "from sklearn.ensemble import RandomForestClassifier\n",
    "from sklearn.naive_bayes import GaussianNB\n",
    "from xgboost import XGBClassifier\n",
    "from lightgbm import LGBMClassifier\n",
    "from catboost import CatBoostClassifier\n",
    "\n",
    "# Self-defined functions\n",
    "from Utilities import pdVarianceThreshold, pdSelectKBest, train_val_test_split, upsampling, SelectBestClf\n",
    "\n",
    "import warnings\n",
    "warnings.simplefilter(action='ignore', category=FutureWarning)\n",
    "from pandas.core.common import SettingWithCopyWarning\n",
    "warnings.simplefilter(action=\"ignore\", category=SettingWithCopyWarning)"
   ]
  },
  {
   "cell_type": "code",
   "execution_count": 2,
   "id": "4aecfa06",
   "metadata": {},
   "outputs": [],
   "source": [
    "direc = \"E:\\\\WS4PD_data\"\n",
    "os.chdir(direc)"
   ]
  },
  {
   "cell_type": "markdown",
   "id": "3beb517a",
   "metadata": {},
   "source": [
    "# Load data"
   ]
  },
  {
   "cell_type": "code",
   "execution_count": 3,
   "id": "8112d16c",
   "metadata": {},
   "outputs": [],
   "source": [
    "# GENEActiv\n",
    "device = 'GENEActiv'\n",
    "day = 2\n",
    "sb = '3_BOS'\n",
    "title_name = 'is_dyskinesia'\n",
    "# title_name = 'is_bradykinesia'\n",
    "# title_name = 'is_sever_tremor'\n",
    "# Every 30 sec as a trial\n",
    "# Sliding window: 5 sec\n",
    "sample_rate = 50 # Hz\n",
    "dt = 1/sample_rate\n",
    "time_window = 30 # sec\n",
    "sliding_window = 10 # sec\n",
    "\n",
    "#### load sensor feature data\n",
    "sensor_file_path = os.path.join(direc, \"Feature_extraction\", device,'day_2',sb + '_features.pkl')\n",
    "df_sensor_feature = pd.read_pickle(sensor_file_path)\n",
    "\n",
    "#### Load cilinical feature data\n",
    "clinical_file_path = os.path.join(direc, 'Feature_extraction','metadata_features.pkl')\n",
    "df_clinical_feature_all = pd.read_pickle(clinical_file_path)\n",
    "# select patient\n",
    "is_sb = df_clinical_feature_all['subject_id'] == sb\n",
    "\n",
    "# drop subject_id and task_code \n",
    "# df_clinical_feature.drop(columns = ['subject_id', 'task_code'])\n",
    "df_clinical_feature_all = df_clinical_feature_all.drop(columns = 'subject_id')\n",
    "\n",
    "# One-hot encoding clinical/ categorical features\n",
    "categorical_columns = df_clinical_feature_all.columns\n",
    "for column in categorical_columns:\n",
    "    tempdf = pd.get_dummies(df_clinical_feature_all[column], prefix=column)\n",
    "    df_clinical_feature_all = pd.merge(\n",
    "        left=df_clinical_feature_all,\n",
    "        right=tempdf,\n",
    "        left_index=True,\n",
    "        right_index=True,\n",
    "    )\n",
    "    df_clinical_feature_all = df_clinical_feature_all.drop(columns=column)\n",
    "df_clinical_feature_all = df_clinical_feature_all.dropna(axis=1)\n",
    "df_clinical_feature_sb = df_clinical_feature_all.loc[is_sb]\n",
    "\n"
   ]
  },
  {
   "cell_type": "code",
   "execution_count": 22,
   "id": "b401c21e",
   "metadata": {},
   "outputs": [],
   "source": [
    "# Load model and model metadata\n",
    "model_file_name = 'Finalized_model_' + title_name + '_threshold_0.sav'\n",
    "model_file_path = os.path.join(direc, \"Finalized_Models\", model_file_name)\n",
    "clf = pickle.load(open(model_file_path, 'rb'))\n",
    "\n",
    "model_metadata_name = 'Metadata_of_finalized_model_' + title_name +'_threshold_0.pkl'\n",
    "model_metadata_path = os.path.join(direc, \"Finalized_Models\", model_metadata_name)\n",
    "df_model_metadata = pd.read_pickle(model_metadata_path)\n"
   ]
  },
  {
   "cell_type": "code",
   "execution_count": 23,
   "id": "0cfe0fd5",
   "metadata": {},
   "outputs": [
    {
     "data": {
      "text/plain": [
       "Index(['title', 'max_sample_size', 'upsample_size', 'selected_sensor_features',\n",
       "       'selected_clinical_features', 'validation_scores_for_all_models',\n",
       "       'best_clf', 'best_clf_params', 'target_recall', 'best_threshold',\n",
       "       'finalized_model_file_path', 'F_score', 'Precision', 'Recall'],\n",
       "      dtype='object')"
      ]
     },
     "execution_count": 23,
     "metadata": {},
     "output_type": "execute_result"
    }
   ],
   "source": [
    "df_model_metadata.columns"
   ]
  },
  {
   "cell_type": "code",
   "execution_count": 24,
   "id": "4ec463a6",
   "metadata": {},
   "outputs": [
    {
     "name": "stdout",
     "output_type": "stream",
     "text": [
      "(8637, 20)\n"
     ]
    }
   ],
   "source": [
    "# select sensor feature\n",
    "sensor_feature_names = df_model_metadata['selected_sensor_features'].iloc[0]\n",
    "df_sensor_sf = df_sensor_feature[sensor_feature_names]\n",
    "print(df_sensor_sf.shape)"
   ]
  },
  {
   "cell_type": "code",
   "execution_count": 25,
   "id": "20590146",
   "metadata": {},
   "outputs": [
    {
     "name": "stdout",
     "output_type": "stream",
     "text": [
      "(8637, 4)\n"
     ]
    }
   ],
   "source": [
    "# select clinical features\n",
    "clinical_feature_names = df_model_metadata['selected_clinical_features'].iloc[0]\n",
    "sample_size = df_sensor_feature.shape[0]\n",
    "selected_clinical_features = df_clinical_feature_sb[clinical_feature_names].iloc[0].values\n",
    "df_clinical_sf = pd.DataFrame(data = [selected_clinical_features] * sample_size,\n",
    "            columns = clinical_feature_names)\n",
    "print(df_clinical_sf.shape)"
   ]
  },
  {
   "cell_type": "code",
   "execution_count": 26,
   "id": "a663b82b",
   "metadata": {},
   "outputs": [
    {
     "name": "stdout",
     "output_type": "stream",
     "text": [
      "(8637, 24)\n"
     ]
    }
   ],
   "source": [
    "X_test_sf = pd.concat([df_sensor_sf, df_clinical_sf], axis=1) \n",
    "print(X_test_sf.shape)"
   ]
  },
  {
   "cell_type": "code",
   "execution_count": 27,
   "id": "5519d6c0",
   "metadata": {},
   "outputs": [],
   "source": [
    "# Prediction\n",
    "yhat = clf.predict_proba(X_test_sf)\n",
    "# Keep probabilities for the positive outcome only\n",
    "probs = yhat[:, 1]\n",
    "# Predict the class using the new threhold \n",
    "pred_threshold  = df_model_metadata['best_threshold'].iloc[0]\n",
    "new_y_pred = probs > pred_threshold"
   ]
  },
  {
   "cell_type": "code",
   "execution_count": 28,
   "id": "7035acf7",
   "metadata": {},
   "outputs": [
    {
     "data": {
      "image/png": "[encoded data removed]",
      "text/plain": [
       "<Figure size 576x864 with 2 Axes>"
      ]
     },
     "metadata": {
      "needs_background": "light"
     },
     "output_type": "display_data"
    }
   ],
   "source": [
    "# Plot\n",
    "dt = 1/(60*6)\n",
    "x = np.arange(0, dt*len(new_y_pred), dt)\n",
    "\n",
    "fig, (ax0, ax1) = plt.subplots(2,1, figsize=(8,12))\n",
    "\n",
    "## Predicted probability \n",
    "ax0.plot(x,probs)\n",
    "# ax0.axvline(x = thresholds[ix], color = 'r', label = 'new threshold')\n",
    "ax0.set_xlabel('Time (hr)')\n",
    "ax0.set_ylabel('Probability')\n",
    "ax0.set_yticks(np.arange(0,1.1,0.1))\n",
    "ax0.set_title(sb)\n",
    "## Prediction\n",
    "ax1.plot(x,new_y_pred)\n",
    "# ax0.axvline(x = thresholds[ix], color = 'r', label = 'new threshold')\n",
    "ax1.set_xlabel('Time (hr)')\n",
    "ax1.set_ylabel(title_name)\n",
    "ax1.set_yticks([0,1])\n",
    "\n",
    "# Save figure\n",
    "file_name = sb + \"_\" + title_name\n",
    "plt.savefig(os.path.join(direc, \"Finalized_Models\", \"Prediction_day_\" + str(day), file_name))"
   ]
  },
  {
   "cell_type": "code",
   "execution_count": null,
   "id": "3bfe768d",
   "metadata": {},
   "outputs": [],
   "source": []
  }
 ],
 "metadata": {
  "kernelspec": {
   "display_name": "Python 3 (ipykernel)",
   "language": "python",
   "name": "python3"
  },
  "language_info": {
   "codemirror_mode": {
    "name": "ipython",
    "version": 3
   },
   "file_extension": ".py",
   "mimetype": "text/x-python",
   "name": "python",
   "nbconvert_exporter": "python",
   "pygments_lexer": "ipython3",
   "version": "3.7.1"
  }
 },
 "nbformat": 4,
 "nbformat_minor": 5
}
