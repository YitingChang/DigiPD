{
 "cells": [
  {
   "cell_type": "code",
   "execution_count": 1,
   "id": "f5bba8ae",
   "metadata": {},
   "outputs": [],
   "source": [
    "import pandas as pd\n",
    "import os\n",
    "import numpy as np\n",
    "import matplotlib.pyplot as plt\n",
    "import scipy.stats as stats\n",
    "import seaborn as sns\n",
    "import tsfresh\n",
    "from tsfresh.feature_extraction import extract_features, MinimalFCParameters, EfficientFCParameters\n",
    "from tsfresh import select_features\n",
    "from tsfresh.utilities.dataframe_functions import impute\n",
    "\n",
    "import warnings\n",
    "warnings.simplefilter(action='ignore', category=FutureWarning)\n",
    "from pandas.core.common import SettingWithCopyWarning\n",
    "warnings.simplefilter(action=\"ignore\", category=SettingWithCopyWarning)"
   ]
  },
  {
   "cell_type": "code",
   "execution_count": null,
   "id": "049fe233",
   "metadata": {},
   "outputs": [],
   "source": [
    "direc = \"E:\\\\WS4PD_data\"\n",
    "os.chdir(direc)\n",
    "save_path = os.path.join(direc, \"Model_validation\", \"GENEActiv_bradykinesia\")"
   ]
  },
  {
   "cell_type": "code",
   "execution_count": null,
   "id": "b59423f1",
   "metadata": {},
   "outputs": [],
   "source": [
    "# example session\n",
    "device = 'GENEActiv'\n",
    "subject_id = '6_BOS'\n",
    "visit= 1\n",
    "task_code = 'stndg'\n",
    "session = 3\n",
    "body_segment = 'RightUpperLimb'\n",
    "phenotype = 'tremor'\n",
    "most_affected_side = demogra_data['pd_most_affected_side'].loc[demogra_data.subject_id == subject_id]\n",
    "is_trial = (task_score.subject_id == subject_id) & (task_score.visit == visit) &\\\n",
    "(task_score.task_code == task_code) & (task_score.session == session) &\\\n",
    "(task_score.phenotype == phenotype) & (task_score.body_segment == body_segment)\n",
    "trial_idx = [i for i, val in enumerate(is_trial) if val][0]                    \n",
    "score = task_score['score'].values[trial_idx]\n",
    "ts_start = task_score['timestamp_start'].values[trial_idx]\n",
    "ts_end = task_score['timestamp_end'].values[trial_idx]\n",
    "\n",
    "# find sensor data\n",
    "sensor_path = os.path.join(direc, device, subject_id, 'rawdata_day'+str(visit)+'.txt')\n",
    "df = pd.read_table(sensor_path)"
   ]
  },
  {
   "cell_type": "code",
   "execution_count": null,
   "id": "610394be",
   "metadata": {},
   "outputs": [],
   "source": [
    "is_ts = (df.timestamp.values >= ts_start) & (df.timestamp.values <= ts_end)\n",
    "x = df['GENEActiv_X'].loc[is_ts].values\n",
    "y = df['GENEActiv_Y'].loc[is_ts].values\n",
    "z = df['GENEActiv_Z'].loc[is_ts].values\n",
    "dt = round(df.timestamp[1] - df.timestamp[0],2)\n",
    "t= range(len(x))*dt"
   ]
  },
  {
   "cell_type": "code",
   "execution_count": null,
   "id": "8cedf677",
   "metadata": {},
   "outputs": [],
   "source": [
    "fig = plt.figure(figsize=(10,5))\n",
    "plt.plot(t,x,'-b',t,y,'-g',t,z,'-r')\n",
    "# # save figure\n",
    "# plt.savefig(os.path.join(save_path,\"6_BOS_RUL\"))"
   ]
  },
  {
   "cell_type": "code",
   "execution_count": 2,
   "id": "c08b91e9",
   "metadata": {},
   "outputs": [
    {
     "ename": "NameError",
     "evalue": "name 'direc' is not defined",
     "output_type": "error",
     "traceback": [
      "\u001b[1;31m---------------------------------------------------------------------------\u001b[0m",
      "\u001b[1;31mNameError\u001b[0m                                 Traceback (most recent call last)",
      "\u001b[1;32m~\\AppData\\Local\\Temp\\ipykernel_18740\\983636997.py\u001b[0m in \u001b[0;36m<module>\u001b[1;34m\u001b[0m\n\u001b[0;32m      1\u001b[0m \u001b[1;31m# Load score data\u001b[0m\u001b[1;33m\u001b[0m\u001b[1;33m\u001b[0m\u001b[1;33m\u001b[0m\u001b[0m\n\u001b[1;32m----> 2\u001b[1;33m \u001b[0mscore_file_path\u001b[0m \u001b[1;33m=\u001b[0m \u001b[0mos\u001b[0m\u001b[1;33m.\u001b[0m\u001b[0mpath\u001b[0m\u001b[1;33m.\u001b[0m\u001b[0mjoin\u001b[0m\u001b[1;33m(\u001b[0m\u001b[0mdirec\u001b[0m\u001b[1;33m,\u001b[0m \u001b[1;34m'Feature_extraction'\u001b[0m\u001b[1;33m,\u001b[0m\u001b[1;34m'score_by_device.pkl'\u001b[0m\u001b[1;33m)\u001b[0m\u001b[1;33m\u001b[0m\u001b[1;33m\u001b[0m\u001b[0m\n\u001b[0m\u001b[0;32m      3\u001b[0m \u001b[0mdf_score\u001b[0m \u001b[1;33m=\u001b[0m \u001b[0mpd\u001b[0m\u001b[1;33m.\u001b[0m\u001b[0mread_pickle\u001b[0m\u001b[1;33m(\u001b[0m\u001b[0mscore_file_path\u001b[0m\u001b[1;33m)\u001b[0m\u001b[1;33m\u001b[0m\u001b[1;33m\u001b[0m\u001b[0m\n",
      "\u001b[1;31mNameError\u001b[0m: name 'direc' is not defined"
     ]
    }
   ],
   "source": [
    "# Load score data\n",
    "score_file_path = os.path.join(direc, 'Feature_extraction','score_by_device.pkl')\n",
    "df_score = pd.read_pickle(score_file_path)"
   ]
  },
  {
   "cell_type": "code",
   "execution_count": null,
   "id": "cc8c4aeb",
   "metadata": {},
   "outputs": [],
   "source": []
  }
 ],
 "metadata": {
  "kernelspec": {
   "display_name": "Python 3 (ipykernel)",
   "language": "python",
   "name": "python3"
  },
  "language_info": {
   "codemirror_mode": {
    "name": "ipython",
    "version": 3
   },
   "file_extension": ".py",
   "mimetype": "text/x-python",
   "name": "python",
   "nbconvert_exporter": "python",
   "pygments_lexer": "ipython3",
   "version": "3.7.1"
  }
 },
 "nbformat": 4,
 "nbformat_minor": 5
}
